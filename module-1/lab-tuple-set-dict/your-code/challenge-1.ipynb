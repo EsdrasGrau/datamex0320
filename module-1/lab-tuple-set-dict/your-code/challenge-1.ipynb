{
 "cells": [
  {
   "cell_type": "markdown",
   "metadata": {},
   "source": [
    "## Challenge 1: Tuples\n",
    "\n",
    "#### Do you know you can create tuples with only one element?\n",
    "\n",
    "**In the cell below, define a variable `tup` with a single element `\"I\"`.**\n",
    "\n",
    "*Hint: you need to add a comma (`,`) after the single element.*"
   ]
  },
  {
   "cell_type": "code",
   "execution_count": 84,
   "metadata": {},
   "outputs": [],
   "source": [
    "tup = (\"I\",)"
   ]
  },
  {
   "cell_type": "markdown",
   "metadata": {},
   "source": [
    "#### Print the type of `tup`. \n",
    "\n",
    "Make sure its type is correct (i.e. *tuple* instead of *str*)."
   ]
  },
  {
   "cell_type": "code",
   "execution_count": 85,
   "metadata": {},
   "outputs": [
    {
     "data": {
      "text/plain": [
       "tuple"
      ]
     },
     "execution_count": 85,
     "metadata": {},
     "output_type": "execute_result"
    }
   ],
   "source": [
    "type(tup)"
   ]
  },
  {
   "cell_type": "markdown",
   "metadata": {},
   "source": [
    "#### Now try to append the following elements to `tup`. \n",
    "\n",
    "Are you able to do it? Explain.\n",
    "\n",
    "```\n",
    "\"r\", \"o\", \"n\", \"h\", \"a\", \"c\", \"k',\n",
    "```"
   ]
  },
  {
   "cell_type": "code",
   "execution_count": 86,
   "metadata": {},
   "outputs": [],
   "source": [
    "# Your code here\n",
    "# You are not able because you can't modify a tuple directly"
   ]
  },
  {
   "cell_type": "code",
   "execution_count": null,
   "metadata": {},
   "outputs": [],
   "source": []
  },
  {
   "cell_type": "code",
   "execution_count": null,
   "metadata": {},
   "outputs": [],
   "source": []
  },
  {
   "cell_type": "markdown",
   "metadata": {},
   "source": [
    "#### How about re-assign a new value to an existing tuple?\n",
    "\n",
    "Re-assign the following elements to `tup`. Are you able to do it? Explain.\n",
    "\n",
    "```\n",
    "\"I\", \"r\", \"o\", \"n\", \"h\", \"a\", \"c\", \"k\"\n",
    "```"
   ]
  },
  {
   "cell_type": "code",
   "execution_count": 87,
   "metadata": {},
   "outputs": [
    {
     "name": "stdout",
     "output_type": "stream",
     "text": [
      "['I', 'r', 'o', 'n', 'h', 'a', 'c', 'k']\n"
     ]
    },
    {
     "data": {
      "text/plain": [
       "list"
      ]
     },
     "execution_count": 87,
     "metadata": {},
     "output_type": "execute_result"
    }
   ],
   "source": [
    "# Your code here\n",
    "tup=list(tup)\n",
    "#print(tup)\n",
    "new_list = [\"r\", \"o\", \"n\", \"h\", \"a\", \"c\", \"k\"]\n",
    "tup.extend(new_list)\n",
    "#print(tup)\n",
    "#tup=tuple(tup)\n",
    "print(tup)\n",
    "type(tup)\n",
    "# Your explanation here\n",
    "#I converted the tuple into a list added the extra letter using a list and the method extend.\n",
    "#Then I converted the list into a tuple again"
   ]
  },
  {
   "cell_type": "code",
   "execution_count": null,
   "metadata": {},
   "outputs": [],
   "source": []
  },
  {
   "cell_type": "markdown",
   "metadata": {},
   "source": [
    "#### Split `tup` into `tup1` and `tup2` with 4 elements in each. \n",
    "\n",
    "`tup1` should be `(\"I\", \"r\", \"o\", \"n\")` and `tup2` should be `(\"h\", \"a\", \"c\", \"k\")`.\n",
    "\n",
    "*Hint: use positive index numbers for `tup1` assignment and use negative index numbers for `tup2` assignment. Positive index numbers count from the beginning whereas negative index numbers count from the end of the sequence.*\n",
    "\n",
    "Also print `tup1` and `tup2`."
   ]
  },
  {
   "cell_type": "code",
   "execution_count": 88,
   "metadata": {},
   "outputs": [
    {
     "name": "stdout",
     "output_type": "stream",
     "text": [
      "['I', 'r', 'o', 'n']\n",
      "['h', 'a', 'c', 'k']\n"
     ]
    }
   ],
   "source": [
    "# Your code here\n",
    "tup1 = tup[0:4]\n",
    "tup2 = tup[-4:]\n",
    "print(tup1)\n",
    "print(tup2)"
   ]
  },
  {
   "cell_type": "code",
   "execution_count": null,
   "metadata": {},
   "outputs": [],
   "source": []
  },
  {
   "cell_type": "markdown",
   "metadata": {},
   "source": [
    "#### Add `tup1` and `tup2` into `tup3` using the `+` operator.\n",
    "\n",
    "Then print `tup3` and check if `tup3` equals to `tup`."
   ]
  },
  {
   "cell_type": "code",
   "execution_count": 89,
   "metadata": {},
   "outputs": [
    {
     "name": "stdout",
     "output_type": "stream",
     "text": [
      "['I', 'r', 'o', 'n', 'h', 'a', 'c', 'k']\n",
      "True\n"
     ]
    }
   ],
   "source": [
    "# Your code here\n",
    "tup3 = tup1 + tup2\n",
    "print(tup3)\n",
    "if tup3 == tup:\n",
    "    print(True)\n",
    "else:\n",
    "    print(False)"
   ]
  },
  {
   "cell_type": "markdown",
   "metadata": {},
   "source": [
    "#### Count the number of elements in `tup1` and `tup2`. Then add the two counts together and check if the sum is the same as the number of elements in `tup3`"
   ]
  },
  {
   "cell_type": "code",
   "execution_count": 90,
   "metadata": {},
   "outputs": [
    {
     "name": "stdout",
     "output_type": "stream",
     "text": [
      "4\n",
      "4\n",
      "8\n",
      "True\n"
     ]
    }
   ],
   "source": [
    "# Your code here\n",
    "print(len(tup1))\n",
    "print(len(tup2))\n",
    "print(len(tup1) + len(tup2))\n",
    "if len(tup3) == len(tup1) + len(tup2):\n",
    "    print(True)\n",
    "else:\n",
    "    print(False)"
   ]
  },
  {
   "cell_type": "markdown",
   "metadata": {},
   "source": [
    "#### What is the index number of `\"h\"` in `tup3`?"
   ]
  },
  {
   "cell_type": "code",
   "execution_count": 91,
   "metadata": {},
   "outputs": [
    {
     "name": "stdout",
     "output_type": "stream",
     "text": [
      "The index of h: 4\n"
     ]
    }
   ],
   "source": [
    "# Your code here\n",
    "index = tup3.index(\"h\")\n",
    "print('The index of h:', index)"
   ]
  },
  {
   "cell_type": "markdown",
   "metadata": {},
   "source": [
    "#### Now, use a FOR loop to check whether each letter in the following list is present in `tup3`:\n",
    "\n",
    "```\n",
    "letters = [\"a\", \"b\", \"c\", \"d\", \"e\"]\n",
    "```\n",
    "\n",
    "For each letter you check, print `True` if it is present in `tup3` otherwise print `False`.\n",
    "\n",
    "*Hint: you only need to loop `letters`. You don't need to loop `tup3` because there is a Python operator `in` you can use. See [reference](https://stackoverflow.com/questions/17920147/how-to-check-if-a-tuple-contains-an-element-in-python).*"
   ]
  },
  {
   "cell_type": "code",
   "execution_count": 92,
   "metadata": {},
   "outputs": [
    {
     "name": "stdout",
     "output_type": "stream",
     "text": [
      "True\n",
      "False\n",
      "True\n",
      "False\n",
      "False\n"
     ]
    }
   ],
   "source": [
    "# Your code here\n",
    "letters = [\"a\", \"b\", \"c\", \"d\", \"e\"]\n",
    "for e in letters:\n",
    "    if e in tup3:\n",
    "        print(True)\n",
    "    else:\n",
    "        print(False)"
   ]
  },
  {
   "cell_type": "markdown",
   "metadata": {},
   "source": [
    "#### How many times does each letter in `letters` appear in `tup3`?\n",
    "\n",
    "Print out the number of occurrence of each letter."
   ]
  },
  {
   "cell_type": "code",
   "execution_count": 102,
   "metadata": {},
   "outputs": [
    {
     "name": "stdout",
     "output_type": "stream",
     "text": [
      "{'a': 1, 'b': 0, 'c': 1, 'd': 0, 'e': 0}\n"
     ]
    }
   ],
   "source": [
    "# Your code here\n",
    "'''from collections import Counter\n",
    "result = Counter()\n",
    "for e in letters:\n",
    "    result[e] = tup3.count(e)\n",
    "print(result)            '''\n",
    "\n",
    "results = {}\n",
    "for e in letters:\n",
    "    results[e] = tup3.count(e)\n",
    "print(results)\n",
    "    \n",
    "#I found 2 ways to do it but the first one I don't entirely understand what is going on. \n",
    "#The second one was more easy to understand. \n",
    "    \n",
    "    \n",
    "\n",
    "            \n"
   ]
  },
  {
   "cell_type": "code",
   "execution_count": null,
   "metadata": {},
   "outputs": [],
   "source": []
  }
 ],
 "metadata": {
  "kernelspec": {
   "display_name": "Python 3",
   "language": "python",
   "name": "python3"
  },
  "language_info": {
   "codemirror_mode": {
    "name": "ipython",
    "version": 3
   },
   "file_extension": ".py",
   "mimetype": "text/x-python",
   "name": "python",
   "nbconvert_exporter": "python",
   "pygments_lexer": "ipython3",
   "version": "3.7.7"
  }
 },
 "nbformat": 4,
 "nbformat_minor": 2
}
