{
 "cells": [
  {
   "cell_type": "code",
   "execution_count": 50,
   "metadata": {},
   "outputs": [],
   "source": [
    "import os\n",
    "import numpy as np\n",
    "import pandas as pd\n",
    "from datetime import datetime, timedelta\n",
    "import chardet"
   ]
  },
  {
   "cell_type": "code",
   "execution_count": 237,
   "metadata": {},
   "outputs": [
    {
     "name": "stderr",
     "output_type": "stream",
     "text": [
      "/usr/local/lib/python3.7/site-packages/IPython/core/interactiveshell.py:3063: DtypeWarning: Columns (17,18,35) have mixed types.Specify dtype option on import or set low_memory=False.\n",
      "  interactivity=interactivity, compiler=compiler, result=result)\n"
     ]
    }
   ],
   "source": [
    "#df = pd.read_csv('transactions_NT_2019.csv', encoding = \"cp1252\")\n",
    "#df = pd.read_csv('transactions_NT_2019.csv', index_col=0)\n",
    "#df = pd.read_csv('transactions_NT_2019.csv', engine='c')\n",
    "#data = pd.read_csv('transactions-2019-01-01-2020-01-01.csv', encoding = \"utf-16\")\n",
    "#data = pd.read_csv('transactions-2019-01-01-2020-01-01.csv',encoding='utf-8-sig')\n",
    "\n",
    "#with open('transactions_NT_2019.csv', 'rb') as f:\n",
    "#    result = chardet.detect(f.read())  # or readline if the file is large\n",
    "#data = pd.read_csv('transactions_NT_2019.csv', encoding=result['encoding'])\n",
    "#df = pd.read_csv('tcopyexcel.csv', encoding='utf-8') #for excel file\n",
    "df= pd.read_csv('transactions2019.csv', low_memory = \"false\")    #for google spreedshet "
   ]
  },
  {
   "cell_type": "code",
   "execution_count": 238,
   "metadata": {},
   "outputs": [
    {
     "name": "stdout",
     "output_type": "stream",
     "text": [
      "<class 'pandas.core.frame.DataFrame'>\n",
      "RangeIndex: 48742 entries, 0 to 48741\n",
      "Data columns (total 45 columns):\n",
      " #   Column                 Non-Null Count  Dtype  \n",
      "---  ------                 --------------  -----  \n",
      " 0   Date                   48742 non-null  object \n",
      " 1   Time                   48742 non-null  object \n",
      " 2   Time Zone              48742 non-null  object \n",
      " 3   Gross Sales            48742 non-null  object \n",
      " 4   Discounts              48742 non-null  object \n",
      " 5   Net Sales              48742 non-null  object \n",
      " 6   Gift Card Sales        48742 non-null  object \n",
      " 7   Tax                    48742 non-null  object \n",
      " 8   Tip                    48742 non-null  object \n",
      " 9   Partial Refunds        48742 non-null  object \n",
      " 10  Total Collected        48742 non-null  object \n",
      " 11  Source                 48742 non-null  object \n",
      " 12  Card                   48742 non-null  object \n",
      " 13  Card Entry Methods     2510 non-null   object \n",
      " 14  Cash                   48742 non-null  object \n",
      " 15  Square Gift Card       48742 non-null  object \n",
      " 16  Other Tender           48742 non-null  object \n",
      " 17  Other Tender Type      939 non-null    object \n",
      " 18  Other Tender Note      424 non-null    object \n",
      " 19  Fees                   48742 non-null  object \n",
      " 20  Net Total              48742 non-null  object \n",
      " 21  Transaction ID         48742 non-null  object \n",
      " 22  Payment ID             48742 non-null  object \n",
      " 23  Card Brand             2510 non-null   object \n",
      " 24  PAN Suffix             2510 non-null   float64\n",
      " 25  Device Name            48742 non-null  object \n",
      " 26  Staff Name             0 non-null      float64\n",
      " 27  Staff ID               0 non-null      float64\n",
      " 28  Details                48742 non-null  object \n",
      " 29  Description            48739 non-null  object \n",
      " 30  Event Type             48742 non-null  object \n",
      " 31  Location               48742 non-null  object \n",
      " 32  Dining Option          48411 non-null  object \n",
      " 33  Customer ID            479 non-null    object \n",
      " 34  Customer Name          472 non-null    object \n",
      " 35  Customer Reference ID  2 non-null      object \n",
      " 36  Device Nickname        48742 non-null  object \n",
      " 37  Deposit ID             2510 non-null   object \n",
      " 38  Deposit Date           2510 non-null   object \n",
      " 39  Deposit Details        2510 non-null   object \n",
      " 40  Fee Percentage Rate    2510 non-null   float64\n",
      " 41  Fee Fixed Rate         2510 non-null   object \n",
      " 42  Refund Reason          331 non-null    object \n",
      " 43  E-money                48742 non-null  object \n",
      " 44  Discount Name          1320 non-null   object \n",
      "dtypes: float64(4), object(41)\n",
      "memory usage: 16.7+ MB\n"
     ]
    }
   ],
   "source": [
    "df.info()"
   ]
  },
  {
   "cell_type": "code",
   "execution_count": 239,
   "metadata": {},
   "outputs": [],
   "source": [
    "#To clean the data \n",
    "def clean_data(df):\n",
    "    df = df.copy()\n",
    "    df = df.fillna('Unknown')\n",
    "    df = df[['Date', 'Gross Sales', 'Discounts', 'Net Sales', 'Tax', \n",
    "             'Total Collected', 'Cash', 'Card', 'Other Tender']]\n",
    "    df = df.rename(columns = {\"Date\": \"date\",\"Other Tender\": \"PayPay\" })\n",
    "    #df[df.columns[2:9]] = df[df.columns[2:9]].str.replace('¥', '').str.replace(',', '').astype(int)\n",
    "    df['Gross Sales'] = df['Gross Sales'].str.replace('¥', '').str.replace(',', '').astype(int)\n",
    "    df['Discounts'] = df['Discounts'].str.replace('¥', '').str.replace(',', '').astype(int)\n",
    "    df['Net Sales'] = df['Net Sales'].str.replace('¥', '').str.replace(',', '').astype(int)\n",
    "    df['Tax'] = df['Tax'].str.replace('¥', '').str.replace(',', '').astype(int)\n",
    "    df['Total Collected'] = df['Total Collected'].str.replace('¥', '').str.replace(',', '').astype(int)\n",
    "    df['Cash'] = df['Cash'].str.replace('¥', '').str.replace(',', '').astype(int)\n",
    "    df['Card'] = df['Card'].str.replace('¥', '').str.replace(',', '').astype(int)\n",
    "    df['PayPay'] = df['PayPay'].str.replace('¥', '').str.replace(',', '').astype(int)\n",
    "    df[\"date\"]= pd.to_datetime(df[\"date\"]) \n",
    "    df = df.sort_values(by=\"date\")\n",
    "    df = df.reset_index(drop=True)\n",
    "\n",
    "    return df"
   ]
  },
  {
   "cell_type": "code",
   "execution_count": 240,
   "metadata": {},
   "outputs": [],
   "source": [
    "cleaned_df = clean_data(df)"
   ]
  },
  {
   "cell_type": "code",
   "execution_count": 247,
   "metadata": {},
   "outputs": [
    {
     "data": {
      "text/html": [
       "<div>\n",
       "<style scoped>\n",
       "    .dataframe tbody tr th:only-of-type {\n",
       "        vertical-align: middle;\n",
       "    }\n",
       "\n",
       "    .dataframe tbody tr th {\n",
       "        vertical-align: top;\n",
       "    }\n",
       "\n",
       "    .dataframe thead th {\n",
       "        text-align: right;\n",
       "    }\n",
       "</style>\n",
       "<table border=\"1\" class=\"dataframe\">\n",
       "  <thead>\n",
       "    <tr style=\"text-align: right;\">\n",
       "      <th></th>\n",
       "      <th>date</th>\n",
       "      <th>Gross Sales</th>\n",
       "      <th>Discounts</th>\n",
       "      <th>Net Sales</th>\n",
       "      <th>Tax</th>\n",
       "      <th>Total Collected</th>\n",
       "      <th>Cash</th>\n",
       "      <th>Card</th>\n",
       "      <th>PayPay</th>\n",
       "    </tr>\n",
       "  </thead>\n",
       "  <tbody>\n",
       "    <tr>\n",
       "      <th>48737</th>\n",
       "      <td>2019-12-30</td>\n",
       "      <td>446</td>\n",
       "      <td>0</td>\n",
       "      <td>446</td>\n",
       "      <td>35</td>\n",
       "      <td>481</td>\n",
       "      <td>481</td>\n",
       "      <td>0</td>\n",
       "      <td>0</td>\n",
       "    </tr>\n",
       "    <tr>\n",
       "      <th>48738</th>\n",
       "      <td>2019-12-30</td>\n",
       "      <td>2300</td>\n",
       "      <td>0</td>\n",
       "      <td>2300</td>\n",
       "      <td>184</td>\n",
       "      <td>2484</td>\n",
       "      <td>2484</td>\n",
       "      <td>0</td>\n",
       "      <td>0</td>\n",
       "    </tr>\n",
       "    <tr>\n",
       "      <th>48739</th>\n",
       "      <td>2019-12-30</td>\n",
       "      <td>1086</td>\n",
       "      <td>0</td>\n",
       "      <td>1086</td>\n",
       "      <td>86</td>\n",
       "      <td>1172</td>\n",
       "      <td>1172</td>\n",
       "      <td>0</td>\n",
       "      <td>0</td>\n",
       "    </tr>\n",
       "    <tr>\n",
       "      <th>48740</th>\n",
       "      <td>2019-12-30</td>\n",
       "      <td>491</td>\n",
       "      <td>-49</td>\n",
       "      <td>442</td>\n",
       "      <td>35</td>\n",
       "      <td>477</td>\n",
       "      <td>477</td>\n",
       "      <td>0</td>\n",
       "      <td>0</td>\n",
       "    </tr>\n",
       "    <tr>\n",
       "      <th>48741</th>\n",
       "      <td>2019-12-30</td>\n",
       "      <td>308</td>\n",
       "      <td>0</td>\n",
       "      <td>308</td>\n",
       "      <td>24</td>\n",
       "      <td>332</td>\n",
       "      <td>332</td>\n",
       "      <td>0</td>\n",
       "      <td>0</td>\n",
       "    </tr>\n",
       "  </tbody>\n",
       "</table>\n",
       "</div>"
      ],
      "text/plain": [
       "            date  Gross Sales  Discounts  Net Sales  Tax  Total Collected  \\\n",
       "48737 2019-12-30          446          0        446   35              481   \n",
       "48738 2019-12-30         2300          0       2300  184             2484   \n",
       "48739 2019-12-30         1086          0       1086   86             1172   \n",
       "48740 2019-12-30          491        -49        442   35              477   \n",
       "48741 2019-12-30          308          0        308   24              332   \n",
       "\n",
       "       Cash  Card  PayPay  \n",
       "48737   481     0       0  \n",
       "48738  2484     0       0  \n",
       "48739  1172     0       0  \n",
       "48740   477     0       0  \n",
       "48741   332     0       0  "
      ]
     },
     "execution_count": 247,
     "metadata": {},
     "output_type": "execute_result"
    }
   ],
   "source": [
    "cleaned_df.tail()"
   ]
  },
  {
   "cell_type": "code",
   "execution_count": 243,
   "metadata": {},
   "outputs": [
    {
     "name": "stdout",
     "output_type": "stream",
     "text": [
      "<class 'pandas.core.frame.DataFrame'>\n",
      "RangeIndex: 48742 entries, 0 to 48741\n",
      "Data columns (total 9 columns):\n",
      " #   Column           Non-Null Count  Dtype         \n",
      "---  ------           --------------  -----         \n",
      " 0   date             48742 non-null  datetime64[ns]\n",
      " 1   Gross Sales      48742 non-null  int64         \n",
      " 2   Discounts        48742 non-null  int64         \n",
      " 3   Net Sales        48742 non-null  int64         \n",
      " 4   Tax              48742 non-null  int64         \n",
      " 5   Total Collected  48742 non-null  int64         \n",
      " 6   Cash             48742 non-null  int64         \n",
      " 7   Card             48742 non-null  int64         \n",
      " 8   PayPay           48742 non-null  int64         \n",
      "dtypes: datetime64[ns](1), int64(8)\n",
      "memory usage: 3.3 MB\n"
     ]
    }
   ],
   "source": [
    "cleaned_df.info()"
   ]
  },
  {
   "cell_type": "code",
   "execution_count": 248,
   "metadata": {},
   "outputs": [
    {
     "data": {
      "text/plain": [
       "169565"
      ]
     },
     "execution_count": 248,
     "metadata": {},
     "output_type": "execute_result"
    }
   ],
   "source": [
    "cleaned_df['Gross Sales'].max()"
   ]
  },
  {
   "cell_type": "code",
   "execution_count": 249,
   "metadata": {},
   "outputs": [],
   "source": [
    "cleaned_df.to_csv('clean_set.csv')"
   ]
  },
  {
   "cell_type": "code",
   "execution_count": null,
   "metadata": {},
   "outputs": [],
   "source": []
  },
  {
   "cell_type": "code",
   "execution_count": null,
   "metadata": {},
   "outputs": [],
   "source": []
  },
  {
   "cell_type": "code",
   "execution_count": null,
   "metadata": {},
   "outputs": [],
   "source": []
  }
 ],
 "metadata": {
  "kernelspec": {
   "display_name": "Python 3",
   "language": "python",
   "name": "python3"
  },
  "language_info": {
   "codemirror_mode": {
    "name": "ipython",
    "version": 3
   },
   "file_extension": ".py",
   "mimetype": "text/x-python",
   "name": "python",
   "nbconvert_exporter": "python",
   "pygments_lexer": "ipython3",
   "version": "3.7.7"
  }
 },
 "nbformat": 4,
 "nbformat_minor": 4
}
