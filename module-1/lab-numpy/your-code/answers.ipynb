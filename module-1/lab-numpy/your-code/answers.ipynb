{
 "cells": [
  {
   "cell_type": "markdown",
   "metadata": {},
   "source": [
    "#1. Import the NUMPY package under the name np."
   ]
  },
  {
   "cell_type": "code",
   "execution_count": 1,
   "metadata": {},
   "outputs": [],
   "source": [
    "import numpy as np"
   ]
  },
  {
   "cell_type": "markdown",
   "metadata": {},
   "source": [
    "#2. Print the NUMPY version and the configuration."
   ]
  },
  {
   "cell_type": "code",
   "execution_count": 2,
   "metadata": {},
   "outputs": [
    {
     "name": "stdout",
     "output_type": "stream",
     "text": [
      "1.18.1\n"
     ]
    }
   ],
   "source": [
    "print(np.__version__)"
   ]
  },
  {
   "cell_type": "markdown",
   "metadata": {},
   "source": [
    "#3. Generate a 2x3x5 3-dimensional array with random values. Assign the array to variable \"a\"\n",
    "# Challenge: there are at least three easy ways that use numpy to generate random arrays. How many ways can you find?"
   ]
  },
  {
   "cell_type": "code",
   "execution_count": 3,
   "metadata": {},
   "outputs": [
    {
     "name": "stdout",
     "output_type": "stream",
     "text": [
      "[[[0.93752735 0.39926986 0.89357    0.3629538  0.86239612]\n",
      "  [0.53903806 0.53266329 0.51729885 0.21346935 0.91351613]\n",
      "  [0.60591408 0.97442997 0.1038491  0.00964478 0.78491243]]\n",
      "\n",
      " [[0.31104923 0.06859053 0.9543968  0.60340401 0.5102047 ]\n",
      "  [0.14160087 0.41164276 0.835986   0.95942313 0.58346108]\n",
      "  [0.2082769  0.73103466 0.25472909 0.38392446 0.92571832]]]\n",
      "[0 0 0 0 0 0 0 0 0 0]\n",
      "[[0.33586361 0.4046495 ]\n",
      " [0.82038224 0.7382981 ]\n",
      " [0.82197131 0.61825366]]\n"
     ]
    }
   ],
   "source": [
    "a=np.random.random((2,3,5))\n",
    "b=np.random.randint(1, size=10)\n",
    "c=np.random.rand(3,2)\n",
    "print(a)\n",
    "print(b)\n",
    "print(c)"
   ]
  },
  {
   "cell_type": "markdown",
   "metadata": {},
   "source": [
    "#4. Print a."
   ]
  },
  {
   "cell_type": "code",
   "execution_count": 4,
   "metadata": {},
   "outputs": [
    {
     "name": "stdout",
     "output_type": "stream",
     "text": [
      "[[[0.93752735 0.39926986 0.89357    0.3629538  0.86239612]\n",
      "  [0.53903806 0.53266329 0.51729885 0.21346935 0.91351613]\n",
      "  [0.60591408 0.97442997 0.1038491  0.00964478 0.78491243]]\n",
      "\n",
      " [[0.31104923 0.06859053 0.9543968  0.60340401 0.5102047 ]\n",
      "  [0.14160087 0.41164276 0.835986   0.95942313 0.58346108]\n",
      "  [0.2082769  0.73103466 0.25472909 0.38392446 0.92571832]]]\n"
     ]
    }
   ],
   "source": [
    "print(a)"
   ]
  },
  {
   "cell_type": "markdown",
   "metadata": {},
   "source": [
    "#5. Create a 5x2x3 3-dimensional array with all values equaling 1.\n",
    "#Assign the array to variable \"b\""
   ]
  },
  {
   "cell_type": "code",
   "execution_count": 5,
   "metadata": {},
   "outputs": [],
   "source": [
    "b=np.full((5, 2, 3),1)"
   ]
  },
  {
   "cell_type": "markdown",
   "metadata": {},
   "source": [
    "#6. Print b."
   ]
  },
  {
   "cell_type": "code",
   "execution_count": 6,
   "metadata": {},
   "outputs": [
    {
     "name": "stdout",
     "output_type": "stream",
     "text": [
      "[[[1 1 1]\n",
      "  [1 1 1]]\n",
      "\n",
      " [[1 1 1]\n",
      "  [1 1 1]]\n",
      "\n",
      " [[1 1 1]\n",
      "  [1 1 1]]\n",
      "\n",
      " [[1 1 1]\n",
      "  [1 1 1]]\n",
      "\n",
      " [[1 1 1]\n",
      "  [1 1 1]]]\n"
     ]
    }
   ],
   "source": [
    "print(b)"
   ]
  },
  {
   "cell_type": "markdown",
   "metadata": {},
   "source": [
    "#7. Do a and b have the same size? How do you prove that in Python code?"
   ]
  },
  {
   "cell_type": "code",
   "execution_count": 7,
   "metadata": {},
   "outputs": [
    {
     "data": {
      "text/plain": [
       "False"
      ]
     },
     "execution_count": 7,
     "metadata": {},
     "output_type": "execute_result"
    }
   ],
   "source": [
    "a.shape == b.shape"
   ]
  },
  {
   "cell_type": "code",
   "execution_count": 8,
   "metadata": {},
   "outputs": [],
   "source": [
    "#They don't have the same size as their dimensions are different."
   ]
  },
  {
   "cell_type": "markdown",
   "metadata": {},
   "source": [
    "#8. Are you able to add a and b? Why or why not?"
   ]
  },
  {
   "cell_type": "code",
   "execution_count": 9,
   "metadata": {},
   "outputs": [
    {
     "ename": "ValueError",
     "evalue": "operands could not be broadcast together with shapes (2,3,5) (5,2,3) ",
     "output_type": "error",
     "traceback": [
      "\u001b[0;31m---------------------------------------------------------------------------\u001b[0m",
      "\u001b[0;31mValueError\u001b[0m                                Traceback (most recent call last)",
      "\u001b[0;32m<ipython-input-9-ca730b97bf8a>\u001b[0m in \u001b[0;36m<module>\u001b[0;34m\u001b[0m\n\u001b[0;32m----> 1\u001b[0;31m \u001b[0ma\u001b[0m\u001b[0;34m+\u001b[0m\u001b[0mb\u001b[0m\u001b[0;34m\u001b[0m\u001b[0;34m\u001b[0m\u001b[0m\n\u001b[0m",
      "\u001b[0;31mValueError\u001b[0m: operands could not be broadcast together with shapes (2,3,5) (5,2,3) "
     ]
    }
   ],
   "source": [
    "a+b"
   ]
  },
  {
   "cell_type": "code",
   "execution_count": 10,
   "metadata": {},
   "outputs": [],
   "source": [
    "#It is not possible as they have difference dimmensions"
   ]
  },
  {
   "cell_type": "markdown",
   "metadata": {},
   "source": [
    "#9. Transpose b so that it has the same structure of a (i.e. become a 2x3x5 array). Assign the transposed array to varialbe \"c\"."
   ]
  },
  {
   "cell_type": "code",
   "execution_count": 11,
   "metadata": {},
   "outputs": [
    {
     "name": "stdout",
     "output_type": "stream",
     "text": [
      "[[[0.93752735 0.39926986 0.89357    0.3629538  0.86239612]\n",
      "  [0.53903806 0.53266329 0.51729885 0.21346935 0.91351613]\n",
      "  [0.60591408 0.97442997 0.1038491  0.00964478 0.78491243]]\n",
      "\n",
      " [[0.31104923 0.06859053 0.9543968  0.60340401 0.5102047 ]\n",
      "  [0.14160087 0.41164276 0.835986   0.95942313 0.58346108]\n",
      "  [0.2082769  0.73103466 0.25472909 0.38392446 0.92571832]]]\n"
     ]
    }
   ],
   "source": [
    "print(a)\n",
    "c = b.reshape(2,3,5)"
   ]
  },
  {
   "cell_type": "markdown",
   "metadata": {},
   "source": [
    "#10. Try to add a and c. Now it should work. Assign the sum to varialbe \"d\". But why does it work now?"
   ]
  },
  {
   "cell_type": "code",
   "execution_count": 12,
   "metadata": {},
   "outputs": [],
   "source": [
    "d=a+c #Because they have the same dimensions now"
   ]
  },
  {
   "cell_type": "markdown",
   "metadata": {},
   "source": [
    "#11. Print a and d. Notice the difference and relation of the two array in terms of the values? Explain."
   ]
  },
  {
   "cell_type": "code",
   "execution_count": 13,
   "metadata": {},
   "outputs": [
    {
     "name": "stdout",
     "output_type": "stream",
     "text": [
      "[[[0.93752735 0.39926986 0.89357    0.3629538  0.86239612]\n",
      "  [0.53903806 0.53266329 0.51729885 0.21346935 0.91351613]\n",
      "  [0.60591408 0.97442997 0.1038491  0.00964478 0.78491243]]\n",
      "\n",
      " [[0.31104923 0.06859053 0.9543968  0.60340401 0.5102047 ]\n",
      "  [0.14160087 0.41164276 0.835986   0.95942313 0.58346108]\n",
      "  [0.2082769  0.73103466 0.25472909 0.38392446 0.92571832]]]\n"
     ]
    }
   ],
   "source": [
    "print(a)"
   ]
  },
  {
   "cell_type": "code",
   "execution_count": 14,
   "metadata": {},
   "outputs": [
    {
     "name": "stdout",
     "output_type": "stream",
     "text": [
      "[[[1.93752735 1.39926986 1.89357    1.3629538  1.86239612]\n",
      "  [1.53903806 1.53266329 1.51729885 1.21346935 1.91351613]\n",
      "  [1.60591408 1.97442997 1.1038491  1.00964478 1.78491243]]\n",
      "\n",
      " [[1.31104923 1.06859053 1.9543968  1.60340401 1.5102047 ]\n",
      "  [1.14160087 1.41164276 1.835986   1.95942313 1.58346108]\n",
      "  [1.2082769  1.73103466 1.25472909 1.38392446 1.92571832]]]\n"
     ]
    }
   ],
   "source": [
    "print(d)"
   ]
  },
  {
   "cell_type": "code",
   "execution_count": 15,
   "metadata": {},
   "outputs": [],
   "source": [
    "# The d array has all the values of a plus 1"
   ]
  },
  {
   "cell_type": "markdown",
   "metadata": {},
   "source": [
    "#12. Multiply a and c. Assign the result to e."
   ]
  },
  {
   "cell_type": "code",
   "execution_count": 16,
   "metadata": {},
   "outputs": [
    {
     "name": "stdout",
     "output_type": "stream",
     "text": [
      "[[[0.93752735 0.39926986 0.89357    0.3629538  0.86239612]\n",
      "  [0.53903806 0.53266329 0.51729885 0.21346935 0.91351613]\n",
      "  [0.60591408 0.97442997 0.1038491  0.00964478 0.78491243]]\n",
      "\n",
      " [[0.31104923 0.06859053 0.9543968  0.60340401 0.5102047 ]\n",
      "  [0.14160087 0.41164276 0.835986   0.95942313 0.58346108]\n",
      "  [0.2082769  0.73103466 0.25472909 0.38392446 0.92571832]]]\n"
     ]
    }
   ],
   "source": [
    "e= a*c\n",
    "print(e)"
   ]
  },
  {
   "cell_type": "markdown",
   "metadata": {},
   "source": [
    "#13. Does e equal to a? Why or why not?"
   ]
  },
  {
   "cell_type": "code",
   "execution_count": 17,
   "metadata": {},
   "outputs": [
    {
     "data": {
      "text/plain": [
       "True"
      ]
     },
     "execution_count": 17,
     "metadata": {},
     "output_type": "execute_result"
    }
   ],
   "source": [
    "e.shape == a.shape #because they have the same dimension "
   ]
  },
  {
   "cell_type": "markdown",
   "metadata": {},
   "source": [
    "#14. Identify the max, min, and mean values in d. Assign those values to variables \"d_max\", \"d_min\", and \"d_mean\""
   ]
  },
  {
   "cell_type": "code",
   "execution_count": 21,
   "metadata": {},
   "outputs": [
    {
     "name": "stdout",
     "output_type": "stream",
     "text": [
      "1.9744299727262709\n",
      "1.0096447789218113\n",
      "1.5511298570646912\n"
     ]
    }
   ],
   "source": [
    "d_max =d.max()\n",
    "d_min =d.min()\n",
    "d_mean = d.mean()\n",
    "print(d_max)\n",
    "print(d_min)\n",
    "print(d_mean)"
   ]
  },
  {
   "cell_type": "markdown",
   "metadata": {},
   "source": [
    "#15. Now we want to label the values in d. First create an empty array \"f\" with the same shape (i.e. 2x3x5) as d using `np.empty`."
   ]
  },
  {
   "cell_type": "code",
   "execution_count": 27,
   "metadata": {},
   "outputs": [
    {
     "name": "stdout",
     "output_type": "stream",
     "text": [
      "[[[ 75.  25.  75.  25.  75.]\n",
      "  [ 25.  25.  25.  25.  75.]\n",
      "  [ 75. 100.  25.   0.  75.]]\n",
      "\n",
      " [[ 25.  25.  75.  75.  25.]\n",
      "  [ 25.  25.  75.  75.  75.]\n",
      "  [ 25.  75.  25.  25.  75.]]]\n"
     ]
    }
   ],
   "source": [
    "f=np.empty([2,3,5])\n",
    "print(f)"
   ]
  },
  {
   "cell_type": "markdown",
   "metadata": {},
   "source": [
    "#16. Populate the values in f. For each value in d, if it's larger than d_min but smaller than d_mean, assign 25 to the corresponding value in f.\n",
    "If a value in d is larger than d_mean but smaller than d_max, assign 75 to the corresponding value in f.\n",
    "If a value equals to d_mean, assign 50 to the corresponding value in f.\n",
    "Assign 0 to the corresponding value(s) in f for d_min in d.\n",
    "Assign 100 to the corresponding value(s) in f for d_max in d.\n",
    "In the end, f should have only the following values: 0, 25, 50, 75, and 100.\n",
    "Note: you don't have to use Numpy in this question."
   ]
  },
  {
   "cell_type": "code",
   "execution_count": 28,
   "metadata": {},
   "outputs": [],
   "source": [
    "for x in range(2):\n",
    "        for z in range(3):\n",
    "                for y in range (5):\n",
    "                        if d[x,z,y]> d_min and d[x,z,y] < d_mean:\n",
    "                                f [x,z,y]= 25\n",
    "                        elif d[x,z,y] > d_mean and d[x,z,y] < d_max:\n",
    "                                f[x,z,y] =75\n",
    "                        elif d[x,z,y]==d_min:\n",
    "                                f[x,z,y]=0\n",
    "                        elif d[x,z,y]==d_max:\n",
    "                                f[x,z,y]= 100\n",
    "                        elif d[x,z,y]==d_mean:\n",
    "                                f [x,z,y]=50 \n",
    "   \n",
    "\n"
   ]
  },
  {
   "cell_type": "markdown",
   "metadata": {},
   "source": [
    "#17. Print d and f. Do you have your expected f?\n",
    "For instance, if your d is:\n",
    "\n",
    "array([[[1.85836099, 1.67064465, 1.62576044, 1.40243961, 1.88454931],\n",
    "        [1.75354326, 1.69403643, 1.36729252, 1.61415071, 1.12104981],\n",
    "        [1.72201435, 1.1862918 , 1.87078449, 1.7726778 , 1.88180042]],\n",
    "\n",
    "       [[1.44747908, 1.31673383, 1.02000951, 1.52218947, 1.97066381],\n",
    "        [1.79129243, 1.74983003, 1.96028037, 1.85166831, 1.65450881],\n",
    "        [1.18068344, 1.9587381 , 1.00656599, 1.93402165, 1.73514584]]])\n",
    "\n",
    "Your f should be:\n",
    "array([[[ 75.,  75.,  75.,  25.,  75.],\n",
    "        [ 75.,  75.,  25.,  25.,  25.],\n",
    "        [ 75.,  25.,  75.,  75.,  75.]],\n",
    "\n",
    "       [[ 25.,  25.,  25.,  25., 100.],\n",
    "        [ 75.,  75.,  75.,  75.,  75.],\n",
    "        [ 25.,  75.,   0.,  75.,  75.]]])"
   ]
  },
  {
   "cell_type": "code",
   "execution_count": 29,
   "metadata": {},
   "outputs": [
    {
     "name": "stdout",
     "output_type": "stream",
     "text": [
      "[[[1.93752735 1.39926986 1.89357    1.3629538  1.86239612]\n",
      "  [1.53903806 1.53266329 1.51729885 1.21346935 1.91351613]\n",
      "  [1.60591408 1.97442997 1.1038491  1.00964478 1.78491243]]\n",
      "\n",
      " [[1.31104923 1.06859053 1.9543968  1.60340401 1.5102047 ]\n",
      "  [1.14160087 1.41164276 1.835986   1.95942313 1.58346108]\n",
      "  [1.2082769  1.73103466 1.25472909 1.38392446 1.92571832]]]\n",
      "[[[ 75.  25.  75.  25.  75.]\n",
      "  [ 25.  25.  25.  25.  75.]\n",
      "  [ 75. 100.  25.   0.  75.]]\n",
      "\n",
      " [[ 25.  25.  75.  75.  25.]\n",
      "  [ 25.  25.  75.  75.  75.]\n",
      "  [ 25.  75.  25.  25.  75.]]]\n"
     ]
    }
   ],
   "source": [
    "print(d)\n",
    "print(f)"
   ]
  },
  {
   "cell_type": "markdown",
   "metadata": {},
   "source": [
    "#18. Bonus question: instead of using numbers (i.e. 0, 25, 50, 75, and 100), how to use string values\n",
    "(\"A\", \"B\", \"C\", \"D\", and \"E\") to label the array elements? You are expecting the result to be:\n",
    "array([[[ 'D',  'D',  'D',  'B',  'D'],\n",
    "        [ 'D',  'D',  'B',  'B',  'B'],\n",
    "        [ 'D',  'B',  'D',  'D',  'D']],\n",
    "\n",
    "       [[ 'B',  'B',  'B',  'B',  'E'],\n",
    "        [ 'D',  'D',  'D',  'D',  'D'],\n",
    "        [ 'B',  'D',   'A',  'D', 'D']]])\n",
    "Again, you don't need Numpy in this question."
   ]
  },
  {
   "cell_type": "code",
   "execution_count": 43,
   "metadata": {},
   "outputs": [],
   "source": [
    "g = f.tolist()\n",
    "for x in range(2):\n",
    "        for z in range(3):\n",
    "                for y in range (5):\n",
    "                        if d[x,z,y]> d_min and d[x,z,y] < d_mean:\n",
    "                                g [x][z][y] = 'A'\n",
    "                        elif d[x,z,y] > d_mean and d[x,z,y] < d_max:\n",
    "                                g[x][z][y]  = 'B'\n",
    "                        elif d[x,z,y]==d_min:\n",
    "                                g[x][z][y] = 'C'\n",
    "                        elif d[x,z,y]==d_max:\n",
    "                                g[x][z][y] = 'D'\n",
    "                        elif d[x,z,y]==d_mean:\n",
    "                                g[x][z][y] ='E' \n",
    "                                \n",
    "\n"
   ]
  },
  {
   "cell_type": "code",
   "execution_count": 46,
   "metadata": {},
   "outputs": [],
   "source": [
    "h=np.array(g)"
   ]
  },
  {
   "cell_type": "code",
   "execution_count": 47,
   "metadata": {},
   "outputs": [
    {
     "name": "stdout",
     "output_type": "stream",
     "text": [
      "[[['B' 'A' 'B' 'A' 'B']\n",
      "  ['A' 'A' 'A' 'A' 'B']\n",
      "  ['B' 'D' 'A' 'C' 'B']]\n",
      "\n",
      " [['A' 'A' 'B' 'B' 'A']\n",
      "  ['A' 'A' 'B' 'B' 'B']\n",
      "  ['A' 'B' 'A' 'A' 'B']]]\n"
     ]
    }
   ],
   "source": [
    "print(h)"
   ]
  },
  {
   "cell_type": "code",
   "execution_count": null,
   "metadata": {},
   "outputs": [],
   "source": []
  }
 ],
 "metadata": {
  "kernelspec": {
   "display_name": "Python 3",
   "language": "python",
   "name": "python3"
  },
  "language_info": {
   "codemirror_mode": {
    "name": "ipython",
    "version": 3
   },
   "file_extension": ".py",
   "mimetype": "text/x-python",
   "name": "python",
   "nbconvert_exporter": "python",
   "pygments_lexer": "ipython3",
   "version": "3.7.7"
  }
 },
 "nbformat": 4,
 "nbformat_minor": 4
}
