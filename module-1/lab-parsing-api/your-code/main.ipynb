{
 "cells": [
  {
   "cell_type": "markdown",
   "metadata": {},
   "source": [
    "# Challenge: Promotions\n",
    "\n",
    "In this challenge, you'll develop codes to parse and analyze data returned from another API on Zalando such as [Promos homme (Men's Promotions)\n",
    "](https://www.zalando.fr/promo-homme/) or [Promos femme (Women's Promotions)](https://www.zalando.fr/promo-femme/). The workflow is almost the same as in the guided lesson but you'll work with different data."
   ]
  },
  {
   "cell_type": "markdown",
   "metadata": {},
   "source": [
    "## Obtaining the link\n",
    "\n",
    "Wrote your codes in the cell below to obtain the data from the API endpoint you choose. A recap of the workflow:\n",
    "\n",
    "1. Examine the webpages and choose one that you want to work with.\n",
    "\n",
    "1. Use Google Chrome's DevTools to inspect the XHR network requests. Find out the API endpoint that serves data to the webpage.\n",
    "\n",
    "1. Test the API endpoint in the browser to verify its data.\n",
    "\n",
    "1. Change the page number offset of the API URL to test if it's working."
   ]
  },
  {
   "cell_type": "code",
   "execution_count": 1,
   "metadata": {},
   "outputs": [],
   "source": [
    "import json\n",
    "import requests as req\n",
    "import pandas as pd\n",
    "from pandas.io.json import json_normalize"
   ]
  },
  {
   "cell_type": "markdown",
   "metadata": {},
   "source": [
    "## Reading the data\n",
    "\n",
    "In the next cell, use Python to obtain data from the API endpoint you chose in the previous step. Workflow:\n",
    "\n",
    "1. Import libraries.\n",
    "\n",
    "1. Define the initial API endpoint URL.\n",
    "\n",
    "1. Make request to obtain data of the 1st page. Flatten the data and store it in an empty object variable.\n",
    "\n",
    "1. Find out the total page count in the 1st page data.\n",
    "\n",
    "1. Use a FOR loop to make requests for the additional pages from 2 to page count. Append the data of each additional page to the flatterned data object.\n",
    "\n",
    "1. Print and review the data you obtained."
   ]
  },
  {
   "cell_type": "code",
   "execution_count": 8,
   "metadata": {},
   "outputs": [
    {
     "name": "stdout",
     "output_type": "stream",
     "text": [
      "[{\"id\":\"bkex\",\"name\":\"Bkex\",\"adjusted_volume_24h_share\":7.250076094014818,\"fiats\":[]},{\"id\":\"bitforex\",\"name\":\"BitForex\",\"adjusted_volume_24h_share\":6.376262113689431,\"fiats\":[]},{\"id\":\"lbank\",\"name\":\"Lbank\",\"adjusted_volume_24h_share\":5.916915221917454,\"fiats\":[]},{\"id\":\"p2pb2b\",\"name\":\"P2PB2B\",\"adjusted_volume_24h_share\":5.499157820949475,\"fiats\":[{\"name\":\"US Dollars\",\"symbol\":\"USD\"},{\"name\":\"Euro\",\"symbol\":\"EUR\"}]},{\"id\":\"coineal\",\"name\":\"Coineal\",\"adjusted_volume_24h_share\":4.983210232084227,\"fiats\":[]},{\"id\":\"zgtop\",\"name\":\"ZG.top\",\"adjusted_volume_24h_share\":4.631224900679542,\"fiats\":[]},{\"id\":\"hotbit\",\"name\":\"Hotbit\",\"adjusted_volume_24h_share\":4.071828830943333,\"fiats\":[{\"name\":\"US Dollars\",\"symbol\":\"USD\"}]},{\"id\":\"exx\",\"name\":\"EXX\",\"adjusted_volume_24h_share\":3.847865624245487,\"fiats\":[]},{\"id\":\"binance\",\"name\":\"Binance\",\"adjusted_volume_24h_share\":3.653727891678802,\"fiats\":[{\"name\":\"Euro\",\"symbol\":\"EUR\"},{\"name\":\"Russian Ruble\",\"symbol\":\"RUB\"},{\"name\":\"Turkish Lira\",\"symbol\":\"TRY\"},{\"name\":\"Nigerian Naira\",\"symbol\":\"NGN\"}]},{\"id\":\"bitmart\",\"name\":\"BitMart\",\"adjusted_volume_24h_share\":3.646633137154555,\"fiats\":[]},{\"id\":\"tagz\",\"name\":\"TAGZ\",\"adjusted_volume_24h_share\":3.0725979387516773,\"fiats\":[]},{\"id\":\"idcm\",\"name\":\"IDCM\",\"adjusted_volume_24h_share\":2.719959616644605,\"fiats\":[]},{\"id\":\"bibox\",\"name\":\"Bibox\",\"adjusted_volume_24h_share\":2.6015600975698,\"fiats\":[]},{\"id\":\"mxc\",\"name\":\"MXC\",\"adjusted_volume_24h_share\":2.518437810131821,\"fiats\":[]},{\"id\":\"zbcom\",\"name\":\"ZB.COM\",\"adjusted_volume_24h_share\":2.43910856110186,\"fiats\":[]},{\"id\":\"tokok\",\"name\":\"TOKOK\",\"adjusted_volume_24h_share\":2.1552552242237004,\"fiats\":[]},{\"id\":\"huobi\",\"name\":\"Huobi\",\"adjusted_volume_24h_share\":2.131127967594213,\"fiats\":[]},{\"id\":\"folgory\",\"name\":\"Folgory\",\"adjusted_volume_24h_share\":1.9872720234091874,\"fiats\":[{\"name\":\"Euro\",\"symbol\":\"EUR\"}]},{\"id\":\"pbank\",\"name\":\"PBank\",\"adjusted_volume_24h_share\":1.9262472248837406,\"fiats\":[]},{\"id\":\"exrates\",\"name\":\"Exrates\",\"adjusted_volume_24h_share\":1.4487139829551634,\"fiats\":[{\"name\":\"US Dollars\",\"symbol\":\"USD\"}]},{\"id\":\"hitbtc\",\"name\":\"HitBTC\",\"adjusted_volume_24h_share\":1.343001393640997,\"fiats\":[]},{\"id\":\"bequant\",\"name\":\"Bequant\",\"adjusted_volume_24h_share\":1.2895425688053435,\"fiats\":[]},{\"id\":\"bitget\",\"name\":\"Bitget\",\"adjusted_volume_24h_share\":1.25528134472009,\"fiats\":[]},{\"id\":\"hubi\",\"name\":\"Hubi\",\"adjusted_volume_24h_share\":1.2367394333215398,\"fiats\":[]},{\"id\":\"qb\",\"name\":\"QB\",\"adjusted_volume_24h_share\":1.1775361311376806,\"fiats\":[]},{\"id\":\"coinbene\",\"name\":\"Coinbene\",\"adjusted_volume_24h_share\":1.0726163441948078,\"fiats\":[]},{\"id\":\"latoken\",\"name\":\"LATOKEN\",\"adjusted_volume_24h_share\":1.0414187115640805,\"fiats\":[]},{\"id\":\"qbtc\",\"name\":\"QBTC\",\"adjusted_volume_24h_share\":0.9927360197913697,\"fiats\":[]},{\"id\":\"bcex\",\"name\":\"BCEX\",\"adjusted_volume_24h_share\":0.9461474252291948,\"fiats\":[]},{\"id\":\"sistemkoin\",\"name\":\"Sistemkoin\",\"adjusted_volume_24h_share\":0.8829973765216572,\"fiats\":[{\"name\":\"US Dollars\",\"symbol\":\"USD\"},{\"name\":\"Turkish Lira\",\"symbol\":\"TRY\"}]},{\"id\":\"cryptonex\",\"name\":\"Cryptonex\",\"adjusted_volume_24h_share\":0.8505540764005778,\"fiats\":[{\"name\":\"US Dollars\",\"symbol\":\"USD\"},{\"name\":\"Euro\",\"symbol\":\"EUR\"},{\"name\":\"Pound Sterling\",\"symbol\":\"GBP\"},{\"name\":\"Russian Ruble\",\"symbol\":\"RUB\"},{\"name\":\"Brazil Real\",\"symbol\":\"BRL\"}]},{\"id\":\"coinbase-pro\",\"name\":\"Coinbase Pro\",\"adjusted_volume_24h_share\":0.8358138608097702,\"fiats\":[{\"name\":\"US Dollars\",\"symbol\":\"USD\"},{\"name\":\"Euro\",\"symbol\":\"EUR\"},{\"name\":\"Pound Sterling\",\"symbol\":\"GBP\"}]},{\"id\":\"bit-z\",\"name\":\"Bit-Z\",\"adjusted_volume_24h_share\":0.6420594786816475,\"fiats\":[]},{\"id\":\"bitasset\",\"name\":\"BitAsset\",\"adjusted_volume_24h_share\":0.6055278671588803,\"fiats\":[{\"name\":\"US Dollars\",\"symbol\":\"USD\"},{\"name\":\"Taiwan New Dollar\",\"symbol\":\"TWD\"}]},{\"id\":\"whitebit\",\"name\":\"WhiteBIT\",\"adjusted_volume_24h_share\":0.5987324472248403,\"fiats\":[{\"name\":\"US Dollars\",\"symbol\":\"USD\"},{\"name\":\"Euro\",\"symbol\":\"EUR\"},{\"name\":\"Ukrainian Hryvnia\",\"symbol\":\"UAH\"}]},{\"id\":\"kraken\",\"name\":\"Kraken\",\"adjusted_volume_24h_share\":0.5240380457530897,\"fiats\":[{\"name\":\"US Dollars\",\"symbol\":\"USD\"},{\"name\":\"Euro\",\"symbol\":\"EUR\"},{\"name\":\"Pound Sterling\",\"symbol\":\"GBP\"},{\"name\":\"Canadian Dollar\",\"symbol\":\"CAD\"},{\"name\":\"Japanese Yen\",\"symbol\":\"JPY\"},{\"name\":\"Swiss Franc\",\"symbol\":\"CHF\"}]},{\"id\":\"liquid\",\"name\":\"Liquid\",\"adjusted_volume_24h_share\":0.4978126504042368,\"fiats\":[{\"name\":\"US Dollars\",\"symbol\":\"USD\"},{\"name\":\"Euro\",\"symbol\":\"EUR\"},{\"name\":\"Japanese Yen\",\"symbol\":\"JPY\"},{\"name\":\"Australian Dollar\",\"symbol\":\"AUD\"},{\"name\":\"Hong Kong Dollar\",\"symbol\":\"HKD\"},{\"name\":\"Singapore Dollar\",\"symbol\":\"SGD\"},{\"name\":\"Philippines Piso\",\"symbol\":\"PHP\"}]},{\"id\":\"bilaxy\",\"name\":\"Bilaxy\",\"adjusted_volume_24h_share\":0.48877029411867384,\"fiats\":[]},{\"id\":\"bw\",\"name\":\"BW\",\"adjusted_volume_24h_share\":0.46741188986774396,\"fiats\":[]},{\"id\":\"coinex\",\"name\":\"CoinEx\",\"adjusted_volume_24h_share\":0.46142209889601987,\"fiats\":[]},{\"id\":\"bitfinex\",\"name\":\"Bitfinex\",\"adjusted_volume_24h_share\":0.4215153285719521,\"fiats\":[{\"name\":\"US Dollars\",\"symbol\":\"USD\"},{\"name\":\"Euro\",\"symbol\":\"EUR\"},{\"name\":\"Pound Sterling\",\"symbol\":\"GBP\"},{\"name\":\"Japanese Yen\",\"symbol\":\"JPY\"}]},{\"id\":\"topbtc\",\"name\":\"TOPBTC\",\"adjusted_volume_24h_share\":0.4106646326942457,\"fiats\":[]},{\"id\":\"bitmax\",\"name\":\"BitMax\",\"adjusted_volume_24h_share\":0.4062732325475536,\"fiats\":[]},{\"id\":\"bitstamp\",\"name\":\"Bitstamp\",\"adjusted_volume_24h_share\":0.3943745511506902,\"fiats\":[{\"name\":\"US Dollars\",\"symbol\":\"USD\"},{\"name\":\"Euro\",\"symbol\":\"EUR\"}]},{\"id\":\"omgfin\",\"name\":\"Omgfin\",\"adjusted_volume_24h_share\":0.3727320015810333,\"fiats\":[]},{\"id\":\"deversifi\",\"name\":\"DeversiFi\",\"adjusted_volume_24h_share\":0.3721180896626285,\"fiats\":[{\"name\":\"US Dollars\",\"symbol\":\"USD\"},{\"name\":\"Euro\",\"symbol\":\"EUR\"}]},{\"id\":\"covesting\",\"name\":\"Covesting\",\"adjusted_volume_24h_share\":0.359956476990658,\"fiats\":[{\"name\":\"US Dollars\",\"symbol\":\"USD\"}]},{\"id\":\"dobi-exchange\",\"name\":\"DOBI\",\"adjusted_volume_24h_share\":0.35727947623980294,\"fiats\":[]},{\"id\":\"coinegg\",\"name\":\"CoinEgg\",\"adjusted_volume_24h_share\":0.3398159880172738,\"fiats\":[]},{\"id\":\"bitrue\",\"name\":\"Bitrue\",\"adjusted_volume_24h_share\":0.2735949709948875,\"fiats\":[]},{\"id\":\"bigone\",\"name\":\"BigONE\",\"adjusted_volume_24h_share\":0.2725637085693563,\"fiats\":[]},{\"id\":\"cointiger\",\"name\":\"CoinTiger\",\"adjusted_volume_24h_share\":0.26061680720377284,\"fiats\":[]},{\"id\":\"rightbtc\",\"name\":\"RightBTC\",\"adjusted_volume_24h_share\":0.2510851549953242,\"fiats\":[]},{\"id\":\"catex\",\"name\":\"Catex\",\"adjusted_volume_24h_share\":0.24700240410984284,\"fiats\":[]},{\"id\":\"bithumb-global\",\"name\":\"Bithumb Global\",\"adjusted_volume_24h_share\":0.24567542250630733,\"fiats\":[]},{\"id\":\"bitflyer\",\"name\":\"bitFlyer\",\"adjusted_volume_24h_share\":0.23926623909985745,\"fiats\":[{\"name\":\"US Dollars\",\"symbol\":\"USD\"},{\"name\":\"Euro\",\"symbol\":\"EUR\"},{\"name\":\"Japanese Yen\",\"symbol\":\"JPY\"}]},{\"id\":\"extstock\",\"name\":\"ExtStock\",\"adjusted_volume_24h_share\":0.2215899967579884,\"fiats\":[{\"name\":\"US Dollars\",\"symbol\":\"USD\"},{\"name\":\"Euro\",\"symbol\":\"EUR\"}]},{\"id\":\"bithumb\",\"name\":\"Bithumb\",\"adjusted_volume_24h_share\":0.20091167605344748,\"fiats\":[{\"name\":\"South Korea Won\",\"symbol\":\"KRW\"}]},{\"id\":\"kryptono\",\"name\":\"Kryptono\",\"adjusted_volume_24h_share\":0.1998735821454001,\"fiats\":[]},{\"id\":\"upbit\",\"name\":\"Upbit\",\"adjusted_volume_24h_share\":0.19125055611019567,\"fiats\":[{\"name\":\"South Korea Won\",\"symbol\":\"KRW\"}]},{\"id\":\"btc-alpha\",\"name\":\"BTC-Alpha\",\"adjusted_volume_24h_share\":0.17362275697242105,\"fiats\":[{\"name\":\"US Dollars\",\"symbol\":\"USD\"}]},{\"id\":\"simex\",\"name\":\"Simex\",\"adjusted_volume_24h_share\":0.16658747732232604,\"fiats\":[{\"name\":\"US Dollars\",\"symbol\":\"USD\"}]},{\"id\":\"ccryptoex\",\"name\":\"CCRYPTOEX\",\"adjusted_volume_24h_share\":0.15857479311207615,\"fiats\":[]},{\"id\":\"coinsbank\",\"name\":\"CoinsBank\",\"adjusted_volume_24h_share\":0.15489611390691752,\"fiats\":[{\"name\":\"US Dollars\",\"symbol\":\"USD\"},{\"name\":\"Euro\",\"symbol\":\"EUR\"},{\"name\":\"Pound Sterling\",\"symbol\":\"GBP\"}]},{\"id\":\"bitvast\",\"name\":\"Bitvast\",\"adjusted_volume_24h_share\":0.1520580381649466,\"fiats\":[]},{\"id\":\"bitubu\",\"name\":\"BitUBU\",\"adjusted_volume_24h_share\":0.14216392442600967,\"fiats\":[]},{\"id\":\"poloniex\",\"name\":\"Poloniex\",\"adjusted_volume_24h_share\":0.14139882018642083,\"fiats\":[]},{\"id\":\"coinsuper\",\"name\":\"Coinsuper\",\"adjusted_volume_24h_share\":0.12805778659121458,\"fiats\":[{\"name\":\"US Dollars\",\"symbol\":\"USD\"}]},{\"id\":\"indoex\",\"name\":\"Indoex\",\"adjusted_volume_24h_share\":0.12548188791646353,\"fiats\":[{\"name\":\"US Dollars\",\"symbol\":\"USD\"},{\"name\":\"Euro\",\"symbol\":\"EUR\"}]},{\"id\":\"bitspay\",\"name\":\"BitsPay\",\"adjusted_volume_24h_share\":0.1209502741487882,\"fiats\":[]},{\"id\":\"yobit\",\"name\":\"YoBit\",\"adjusted_volume_24h_share\":0.11935614007685376,\"fiats\":[{\"name\":\"US Dollars\",\"symbol\":\"USD\"},{\"name\":\"Russian Ruble\",\"symbol\":\"RUB\"}]},{\"id\":\"creekex\",\"name\":\"CreekEx\",\"adjusted_volume_24h_share\":0.10399885765025177,\"fiats\":[{\"name\":\"US Dollars\",\"symbol\":\"USD\"}]},{\"id\":\"bitbay\",\"name\":\"BitBay\",\"adjusted_volume_24h_share\":0.090112205754847,\"fiats\":[{\"name\":\"US Dollars\",\"symbol\":\"USD\"},{\"name\":\"Euro\",\"symbol\":\"EUR\"},{\"name\":\"Pound Sterling\",\"symbol\":\"GBP\"},{\"name\":\"Polish Zloty\",\"symbol\":\"PLN\"}]},{\"id\":\"kucoin\",\"name\":\"Kucoin\",\"adjusted_volume_24h_share\":0.08460957369155227,\"fiats\":[]},{\"id\":\"coinone\",\"name\":\"Coinone\",\"adjusted_volume_24h_share\":0.0841783315087512,\"fiats\":[{\"name\":\"South Korea Won\",\"symbol\":\"KRW\"}]},{\"id\":\"gemini\",\"name\":\"Gemini\",\"adjusted_volume_24h_share\":0.0808054353830168,\"fiats\":[{\"name\":\"US Dollars\",\"symbol\":\"USD\"}]},{\"id\":\"digifinex\",\"name\":\"DigiFinex\",\"adjusted_volume_24h_share\":0.07867324798761599,\"fiats\":[]},{\"id\":\"gateio\",\"name\":\"Gate.io\",\"adjusted_volume_24h_share\":0.07637045601961362,\"fiats\":[]},{\"id\":\"bittrex\",\"name\":\"Bittrex\",\"adjusted_volume_24h_share\":0.0758659578718879,\"fiats\":[{\"name\":\"US Dollars\",\"symbol\":\"USD\"}]},{\"id\":\"finexbox\",\"name\":\"FINEXBOX\",\"adjusted_volume_24h_share\":0.07295119681796387,\"fiats\":[]},{\"id\":\"hcoin\",\"name\":\"HCoin\",\"adjusted_volume_24h_share\":0.07207866194269148,\"fiats\":[]},{\"id\":\"abit\",\"name\":\"ABIT\",\"adjusted_volume_24h_share\":0.07110337557584696,\"fiats\":[]},{\"id\":\"xbase\",\"name\":\"xBase\",\"adjusted_volume_24h_share\":0.06981711863693964,\"fiats\":[]},{\"id\":\"bitbank\",\"name\":\"Bitbank\",\"adjusted_volume_24h_share\":0.06657223835534522,\"fiats\":[{\"name\":\"Japanese Yen\",\"symbol\":\"JPY\"}]},{\"id\":\"shortex\",\"name\":\"SHORTEX\",\"adjusted_volume_24h_share\":0.06636178604682944,\"fiats\":[]},{\"id\":\"citex\",\"name\":\"CITEX\",\"adjusted_volume_24h_share\":0.05701729109191501,\"fiats\":[{\"name\":\"South Korea Won\",\"symbol\":\"KRW\"}]},{\"id\":\"paribu\",\"name\":\"Paribu\",\"adjusted_volume_24h_share\":0.05665877977402806,\"fiats\":[{\"name\":\"Turkish Lira\",\"symbol\":\"TRY\"}]},{\"id\":\"stex\",\"name\":\"STEX\",\"adjusted_volume_24h_share\":0.04427983797233716,\"fiats\":[{\"name\":\"US Dollars\",\"symbol\":\"USD\"},{\"name\":\"Euro\",\"symbol\":\"EUR\"}]},{\"id\":\"okcoin-international\",\"name\":\"OKCoin\",\"adjusted_volume_24h_share\":0.04256825453267957,\"fiats\":[{\"name\":\"US Dollars\",\"symbol\":\"USD\"},{\"name\":\"Euro\",\"symbol\":\"EUR\"}]},{\"id\":\"bitholic\",\"name\":\"BITHOLIC\",\"adjusted_volume_24h_share\":0.04146496806234819,\"fiats\":[]},{\"id\":\"livecoin\",\"name\":\"Livecoin\",\"adjusted_volume_24h_share\":0.04016131236523819,\"fiats\":[{\"name\":\"US Dollars\",\"symbol\":\"USD\"},{\"name\":\"Euro\",\"symbol\":\"EUR\"},{\"name\":\"Russian Ruble\",\"symbol\":\"RUB\"}]},{\"id\":\"coinfield\",\"name\":\"CoinField\",\"adjusted_volume_24h_share\":0.03893543737517294,\"fiats\":[{\"name\":\"US Dollars\",\"symbol\":\"USD\"},{\"name\":\"Euro\",\"symbol\":\"EUR\"},{\"name\":\"Pound Sterling\",\"symbol\":\"GBP\"},{\"name\":\"Canadian Dollar\",\"symbol\":\"CAD\"},{\"name\":\"Japanese Yen\",\"symbol\":\"JPY\"}]},{\"id\":\"oceanex\",\"name\":\"OceanEx\",\"adjusted_volume_24h_share\":0.038698409442371885,\"fiats\":[{\"name\":\"US Dollars\",\"symbol\":\"USD\"}]},{\"id\":\"pionex\",\"name\":\"Pionex\",\"adjusted_volume_24h_share\":0.03560794807943531,\"fiats\":[]},{\"id\":\"probit-exchange\",\"name\":\"ProBit Exchange\",\"adjusted_volume_24h_share\":0.03551066513817938,\"fiats\":[{\"name\":\"South Korea Won\",\"symbol\":\"KRW\"}]},{\"id\":\"huobi-korea\",\"name\":\"Huobi Korea\",\"adjusted_volume_24h_share\":0.033707540600504834,\"fiats\":[{\"name\":\"South Korea Won\",\"symbol\":\"KRW\"}]},{\"id\":\"exmo\",\"name\":\"Exmo\",\"adjusted_volume_24h_share\":0.031026471071639694,\"fiats\":[{\"name\":\"US Dollars\",\"symbol\":\"USD\"},{\"name\":\"Euro\",\"symbol\":\"EUR\"},{\"name\":\"Polish Zloty\",\"symbol\":\"PLN\"},{\"name\":\"Russian Ruble\",\"symbol\":\"RUB\"},{\"name\":\"Turkish Lira\",\"symbol\":\"TRY\"},{\"name\":\"Ukrainian Hryvnia\",\"symbol\":\"UAH\"}]},{\"id\":\"binance-us\",\"name\":\"Binance US\",\"adjusted_volume_24h_share\":0.02943233044361625,\"fiats\":[{\"name\":\"US Dollars\",\"symbol\":\"USD\"}]},{\"id\":\"btse\",\"name\":\"BTSE\",\"adjusted_volume_24h_share\":0.028212278249126414,\"fiats\":[{\"name\":\"US Dollars\",\"symbol\":\"USD\"}]},{\"id\":\"ftx\",\"name\":\"FTX (Spot)\",\"adjusted_volume_24h_share\":0.02734193724543336,\"fiats\":[{\"name\":\"US Dollars\",\"symbol\":\"USD\"}]},{\"id\":\"itbit\",\"name\":\"itBit\",\"adjusted_volume_24h_share\":0.027189240549579566,\"fiats\":[{\"name\":\"US Dollars\",\"symbol\":\"USD\"},{\"name\":\"Euro\",\"symbol\":\"EUR\"}]},{\"id\":\"coindeal\",\"name\":\"CoinDeal\",\"adjusted_volume_24h_share\":0.026726343323877657,\"fiats\":[{\"name\":\"US Dollars\",\"symbol\":\"USD\"},{\"name\":\"Euro\",\"symbol\":\"EUR\"},{\"name\":\"South Korea Won\",\"symbol\":\"KRW\"},{\"name\":\"Pound Sterling\",\"symbol\":\"GBP\"},{\"name\":\"Polish Zloty\",\"symbol\":\"PLN\"},{\"name\":\"Russian Ruble\",\"symbol\":\"RUB\"},{\"name\":\"Swiss Franc\",\"symbol\":\"CHF\"}]},{\"id\":\"cryptology\",\"name\":\"Cryptology\",\"adjusted_volume_24h_share\":0.025611492181325326,\"fiats\":[{\"name\":\"US Dollars\",\"symbol\":\"USD\"},{\"name\":\"Euro\",\"symbol\":\"EUR\"}]},{\"id\":\"fex\",\"name\":\"fex\",\"adjusted_volume_24h_share\":0.02514844754857355,\"fiats\":[]},{\"id\":\"binance-jex-spot\",\"name\":\"Binance JEX (Spot)\",\"adjusted_volume_24h_share\":0.024590360819721786,\"fiats\":[]},{\"id\":\"lakebtc\",\"name\":\"LakeBTC\",\"adjusted_volume_24h_share\":0.024389553444578167,\"fiats\":[{\"name\":\"US Dollars\",\"symbol\":\"USD\"},{\"name\":\"Euro\",\"symbol\":\"EUR\"},{\"name\":\"Pound Sterling\",\"symbol\":\"GBP\"},{\"name\":\"Canadian Dollar\",\"symbol\":\"CAD\"},{\"name\":\"Japanese Yen\",\"symbol\":\"JPY\"},{\"name\":\"New Zealand Dollar\",\"symbol\":\"NZD\"},{\"name\":\"Australian Dollar\",\"symbol\":\"AUD\"},{\"name\":\"Swiss Franc\",\"symbol\":\"CHF\"},{\"name\":\"Hong Kong Dollar\",\"symbol\":\"HKD\"},{\"name\":\"Singapore Dollar\",\"symbol\":\"SGD\"},{\"name\":\"Nigerian Naira\",\"symbol\":\"NGN\"}]},{\"id\":\"unidax\",\"name\":\"UniDAX\",\"adjusted_volume_24h_share\":0.02437174655783428,\"fiats\":[]},{\"id\":\"abcc\",\"name\":\"ABCC\",\"adjusted_volume_24h_share\":0.022897089520568983,\"fiats\":[]},{\"id\":\"mercatox\",\"name\":\"Mercatox\",\"adjusted_volume_24h_share\":0.02228937376655394,\"fiats\":[]},{\"id\":\"luno\",\"name\":\"Luno\",\"adjusted_volume_24h_share\":0.01906362131561971,\"fiats\":[{\"name\":\"Euro\",\"symbol\":\"EUR\"},{\"name\":\"Nigerian Naira\",\"symbol\":\"NGN\"},{\"name\":\"Indonesian Rupiah\",\"symbol\":\"IDR\"},{\"name\":\"Malaysian Ringgit\",\"symbol\":\"MYR\"},{\"name\":\"South African Rand\",\"symbol\":\"ZAR\"}]},{\"id\":\"bitvavo\",\"name\":\"Bitvavo\",\"adjusted_volume_24h_share\":0.018840739770401578,\"fiats\":[{\"name\":\"Euro\",\"symbol\":\"EUR\"}]},{\"id\":\"atomars\",\"name\":\"ATOMARS\",\"adjusted_volume_24h_share\":0.01789896284259182,\"fiats\":[]},{\"id\":\"nacdaq\",\"name\":\"Nacdaq\",\"adjusted_volume_24h_share\":0.017486765061978042,\"fiats\":[]},{\"id\":\"coinhub\",\"name\":\"Coinhub\",\"adjusted_volume_24h_share\":0.01678803800745511,\"fiats\":[{\"name\":\"Singapore Dollar\",\"symbol\":\"SGD\"}]},{\"id\":\"gopax\",\"name\":\"GOPAX\",\"adjusted_volume_24h_share\":0.016770380742139435,\"fiats\":[{\"name\":\"South Korea Won\",\"symbol\":\"KRW\"}]},{\"id\":\"bitkub\",\"name\":\"Bitkub\",\"adjusted_volume_24h_share\":0.014528372145290982,\"fiats\":[{\"name\":\"Thai Baht\",\"symbol\":\"THB\"}]},{\"id\":\"satoexchange\",\"name\":\"SatoExchange\",\"adjusted_volume_24h_share\":0.013395220134556471,\"fiats\":[]},{\"id\":\"btcbox\",\"name\":\"BTCBOX\",\"adjusted_volume_24h_share\":0.013146772957859822,\"fiats\":[{\"name\":\"Japanese Yen\",\"symbol\":\"JPY\"}]},{\"id\":\"bankcex\",\"name\":\"BankCEX\",\"adjusted_volume_24h_share\":0.012525574972244328,\"fiats\":[]},{\"id\":\"cexio\",\"name\":\"CEX.IO\",\"adjusted_volume_24h_share\":0.01227613126588192,\"fiats\":[{\"name\":\"US Dollars\",\"symbol\":\"USD\"},{\"name\":\"Euro\",\"symbol\":\"EUR\"},{\"name\":\"Pound Sterling\",\"symbol\":\"GBP\"},{\"name\":\"Russian Ruble\",\"symbol\":\"RUB\"}]},{\"id\":\"wbb-exchange\",\"name\":\"WBB Exchange\",\"adjusted_volume_24h_share\":0.011136635163586052,\"fiats\":[{\"name\":\"US Dollars\",\"symbol\":\"USD\"},{\"name\":\"Russian Ruble\",\"symbol\":\"RUB\"}]},{\"id\":\"bitso\",\"name\":\"Bitso\",\"adjusted_volume_24h_share\":0.011108567245476717,\"fiats\":[{\"name\":\"Mexican Peso\",\"symbol\":\"MXN\"}]},{\"id\":\"indodax\",\"name\":\"Indodax\",\"adjusted_volume_24h_share\":0.010980507129590183,\"fiats\":[{\"name\":\"Indonesian Rupiah\",\"symbol\":\"IDR\"}]},{\"id\":\"mercado-bitcoin\",\"name\":\"Mercado Bitcoin\",\"adjusted_volume_24h_share\":0.010691605554861741,\"fiats\":[{\"name\":\"Brazil Real\",\"symbol\":\"BRL\"}]},{\"id\":\"c2cx\",\"name\":\"C2CX\",\"adjusted_volume_24h_share\":0.010142450828745262,\"fiats\":[]},{\"id\":\"cryptocom-exchange\",\"name\":\"Crypto.com Exchange\",\"adjusted_volume_24h_share\":0.009093084309123887,\"fiats\":[]},{\"id\":\"yourtoken\",\"name\":\"Yourtoken\",\"adjusted_volume_24h_share\":0.008903286562855047,\"fiats\":[{\"name\":\"US Dollars\",\"symbol\":\"USD\"}]},{\"id\":\"korbit\",\"name\":\"Korbit\",\"adjusted_volume_24h_share\":0.008738649676574515,\"fiats\":[{\"name\":\"South Korea Won\",\"symbol\":\"KRW\"}]},{\"id\":\"velic\",\"name\":\"VELIC\",\"adjusted_volume_24h_share\":0.007503718645487352,\"fiats\":[]},{\"id\":\"thore-exchange\",\"name\":\"Thore Exchange\",\"adjusted_volume_24h_share\":0.007130275710436845,\"fiats\":[{\"name\":\"US Dollars\",\"symbol\":\"USD\"}]},{\"id\":\"btc-markets\",\"name\":\"BTC Markets\",\"adjusted_volume_24h_share\":0.006599951408167719,\"fiats\":[{\"name\":\"Australian Dollar\",\"symbol\":\"AUD\"}]},{\"id\":\"b2bx\",\"name\":\"B2BX\",\"adjusted_volume_24h_share\":0.00649193707150861,\"fiats\":[{\"name\":\"US Dollars\",\"symbol\":\"USD\"},{\"name\":\"Euro\",\"symbol\":\"EUR\"}]},{\"id\":\"coinall\",\"name\":\"Coinall\",\"adjusted_volume_24h_share\":0.0056656154759542575,\"fiats\":[]},{\"id\":\"novadax\",\"name\":\"NovaDAX\",\"adjusted_volume_24h_share\":0.0053032583168611275,\"fiats\":[{\"name\":\"Brazil Real\",\"symbol\":\"BRL\"}]},{\"id\":\"jewex\",\"name\":\"Jewex\",\"adjusted_volume_24h_share\":0.004776357085686384,\"fiats\":[{\"name\":\"US Dollars\",\"symbol\":\"USD\"},{\"name\":\"Russian Ruble\",\"symbol\":\"RUB\"},{\"name\":\"Ukrainian Hryvnia\",\"symbol\":\"UAH\"}]},{\"id\":\"bgogo\",\"name\":\"Bgogo\",\"adjusted_volume_24h_share\":0.004743569069391156,\"fiats\":[]},{\"id\":\"tidex\",\"name\":\"Tidex\",\"adjusted_volume_24h_share\":0.004497616741820006,\"fiats\":[]},{\"id\":\"iqfinex\",\"name\":\"IQFinex\",\"adjusted_volume_24h_share\":0.0038456143108629897,\"fiats\":[]},{\"id\":\"wazirx\",\"name\":\"WazirX\",\"adjusted_volume_24h_share\":0.0037018280651304218,\"fiats\":[]},{\"id\":\"litebiteu\",\"name\":\"LiteBit.eu\",\"adjusted_volume_24h_share\":0.0036671731607238476,\"fiats\":[{\"name\":\"Euro\",\"symbol\":\"EUR\"}]},{\"id\":\"wunderbit\",\"name\":\"Wunderbit\",\"adjusted_volume_24h_share\":0.0036557028485635734,\"fiats\":[{\"name\":\"US Dollars\",\"symbol\":\"USD\"},{\"name\":\"Euro\",\"symbol\":\"EUR\"}]},{\"id\":\"aex\",\"name\":\"AEX\",\"adjusted_volume_24h_share\":0.0035553866371246788,\"fiats\":[]},{\"id\":\"independent-reserve\",\"name\":\"Independent Reserve\",\"adjusted_volume_24h_share\":0.003383409565679386,\"fiats\":[{\"name\":\"US Dollars\",\"symbol\":\"USD\"},{\"name\":\"New Zealand Dollar\",\"symbol\":\"NZD\"},{\"name\":\"Australian Dollar\",\"symbol\":\"AUD\"}]},{\"id\":\"bitonic\",\"name\":\"Bitonic\",\"adjusted_volume_24h_share\":0.003344488047929789,\"fiats\":[{\"name\":\"Euro\",\"symbol\":\"EUR\"}]},{\"id\":\"bl3p\",\"name\":\"BL3P\",\"adjusted_volume_24h_share\":0.003215950460787414,\"fiats\":[{\"name\":\"Euro\",\"symbol\":\"EUR\"}]},{\"id\":\"cross\",\"name\":\"CROSS\",\"adjusted_volume_24h_share\":0.0031660060905088017,\"fiats\":[]},{\"id\":\"rokkex\",\"name\":\"ROKKEX\",\"adjusted_volume_24h_share\":0.0028765170586661846,\"fiats\":[{\"name\":\"Euro\",\"symbol\":\"EUR\"}]},{\"id\":\"vebitcoin\",\"name\":\"Vebitcoin\",\"adjusted_volume_24h_share\":0.0028377229644138283,\"fiats\":[{\"name\":\"Turkish Lira\",\"symbol\":\"TRY\"}]},{\"id\":\"maicoin-asset-exchange\",\"name\":\"Maicoin Asset Exchange\",\"adjusted_volume_24h_share\":0.0026188998877574397,\"fiats\":[]},{\"id\":\"panxora\",\"name\":\"Panxora\",\"adjusted_volume_24h_share\":0.0025282764405034084,\"fiats\":[{\"name\":\"US Dollars\",\"symbol\":\"USD\"},{\"name\":\"Euro\",\"symbol\":\"EUR\"},{\"name\":\"Pound Sterling\",\"symbol\":\"GBP\"},{\"name\":\"Swiss Franc\",\"symbol\":\"CHF\"},{\"name\":\"Hong Kong Dollar\",\"symbol\":\"HKD\"}]},{\"id\":\"bitcointrade\",\"name\":\"BitcoinTrade\",\"adjusted_volume_24h_share\":0.0024555067500009148,\"fiats\":[{\"name\":\"Brazil Real\",\"symbol\":\"BRL\"}]},{\"id\":\"coinjar-exchange\",\"name\":\"CoinJar\",\"adjusted_volume_24h_share\":0.0022458018731352867,\"fiats\":[{\"name\":\"Australian Dollar\",\"symbol\":\"AUD\"}]},{\"id\":\"globitex\",\"name\":\"Globitex\",\"adjusted_volume_24h_share\":0.0019394705043589509,\"fiats\":[{\"name\":\"Euro\",\"symbol\":\"EUR\"}]},{\"id\":\"tokensnet\",\"name\":\"Tokens.net\",\"adjusted_volume_24h_share\":0.0018814739928763673,\"fiats\":[]},{\"id\":\"xbtce\",\"name\":\"xBTCe\",\"adjusted_volume_24h_share\":0.0018767477401825665,\"fiats\":[{\"name\":\"US Dollars\",\"symbol\":\"USD\"},{\"name\":\"Euro\",\"symbol\":\"EUR\"},{\"name\":\"Pound Sterling\",\"symbol\":\"GBP\"},{\"name\":\"Japanese Yen\",\"symbol\":\"JPY\"}]},{\"id\":\"cointradecx\",\"name\":\"Cointradecx\",\"adjusted_volume_24h_share\":0.0018249683262572315,\"fiats\":[{\"name\":\"Brazil Real\",\"symbol\":\"BRL\"}]},{\"id\":\"nuex\",\"name\":\"Nuex\",\"adjusted_volume_24h_share\":0.0017204890897634425,\"fiats\":[]},{\"id\":\"ganza\",\"name\":\"Ganza\",\"adjusted_volume_24h_share\":0.0015021280198586125,\"fiats\":[]},{\"id\":\"binance-jersey\",\"name\":\"Binance Jersey\",\"adjusted_volume_24h_share\":0.001492499128751405,\"fiats\":[{\"name\":\"Euro\",\"symbol\":\"EUR\"},{\"name\":\"Pound Sterling\",\"symbol\":\"GBP\"}]},{\"id\":\"coinmate\",\"name\":\"CoinMate\",\"adjusted_volume_24h_share\":0.001482593348197358,\"fiats\":[{\"name\":\"Euro\",\"symbol\":\"EUR\"},{\"name\":\"Czech Koruna\",\"symbol\":\"CZK\"}]},{\"id\":\"crex24\",\"name\":\"Crex24\",\"adjusted_volume_24h_share\":0.0014528072317359455,\"fiats\":[{\"name\":\"US Dollars\",\"symbol\":\"USD\"},{\"name\":\"Euro\",\"symbol\":\"EUR\"},{\"name\":\"Japanese Yen\",\"symbol\":\"JPY\"},{\"name\":\"Russian Ruble\",\"symbol\":\"RUB\"},{\"name\":\"Yuan Renminbi\",\"symbol\":\"CNY\"}]},{\"id\":\"xcrypt\",\"name\":\"xCrypt\",\"adjusted_volume_24h_share\":0.0013745567853625854,\"fiats\":[{\"name\":\"US Dollars\",\"symbol\":\"USD\"}]},{\"id\":\"waves-decentralized-exchange\",\"name\":\"Waves Decentralized Exchange\",\"adjusted_volume_24h_share\":0.0013131979786715575,\"fiats\":[{\"name\":\"US Dollars\",\"symbol\":\"USD\"},{\"name\":\"Euro\",\"symbol\":\"EUR\"},{\"name\":\"Turkish Lira\",\"symbol\":\"TRY\"}]},{\"id\":\"idax\",\"name\":\"IDAX\",\"adjusted_volume_24h_share\":0.0012964274964409855,\"fiats\":[{\"name\":\"Yuan Renminbi\",\"symbol\":\"CNY\"}]},{\"id\":\"the-rock-trading\",\"name\":\"The Rock Trading\",\"adjusted_volume_24h_share\":0.0012081726386049773,\"fiats\":[{\"name\":\"Euro\",\"symbol\":\"EUR\"}]},{\"id\":\"buda\",\"name\":\"Buda\",\"adjusted_volume_24h_share\":0.0011941788229762828,\"fiats\":[{\"name\":\"Chilean Peso\",\"symbol\":\"CLP\"},{\"name\":\"Colombian Peso\",\"symbol\":\"COP\"},{\"name\":\"Peruvian Sol\",\"symbol\":\"PEN\"}]},{\"id\":\"bithesap\",\"name\":\"Bithesap\",\"adjusted_volume_24h_share\":0.0011796858098440677,\"fiats\":[{\"name\":\"Turkish Lira\",\"symbol\":\"TRY\"}]},{\"id\":\"bitladon\",\"name\":\"Bitladon\",\"adjusted_volume_24h_share\":0.0011057165464082722,\"fiats\":[{\"name\":\"Euro\",\"symbol\":\"EUR\"}]},{\"id\":\"bitbns\",\"name\":\"Bitbns\",\"adjusted_volume_24h_share\":0.0010914198571884267,\"fiats\":[{\"name\":\"Indian Rupee\",\"symbol\":\"INR\"}]},{\"id\":\"anycoin-direct\",\"name\":\"Anycoin Direct\",\"adjusted_volume_24h_share\":0.000985814990187785,\"fiats\":[{\"name\":\"Euro\",\"symbol\":\"EUR\"}]},{\"id\":\"365-stream\",\"name\":\"365 stream\",\"adjusted_volume_24h_share\":0.0009276565022781823,\"fiats\":[]},{\"id\":\"coinzo\",\"name\":\"Coinzo\",\"adjusted_volume_24h_share\":0.0008834145506938249,\"fiats\":[{\"name\":\"Turkish Lira\",\"symbol\":\"TRY\"}]},{\"id\":\"picostocks\",\"name\":\"PicoStocks\",\"adjusted_volume_24h_share\":0.0008431054171983349,\"fiats\":[]},{\"id\":\"kuna\",\"name\":\"Kuna\",\"adjusted_volume_24h_share\":0.0007494212055180521,\"fiats\":[{\"name\":\"US Dollars\",\"symbol\":\"USD\"},{\"name\":\"Ukrainian Hryvnia\",\"symbol\":\"UAH\"}]},{\"id\":\"ndax\",\"name\":\"NDAX\",\"adjusted_volume_24h_share\":0.0007423085909441482,\"fiats\":[{\"name\":\"US Dollars\",\"symbol\":\"USD\"},{\"name\":\"Canadian Dollar\",\"symbol\":\"CAD\"}]},{\"id\":\"gdac\",\"name\":\"GDAC\",\"adjusted_volume_24h_share\":0.0007330957688307921,\"fiats\":[{\"name\":\"South Korea Won\",\"symbol\":\"KRW\"}]},{\"id\":\"vinex\",\"name\":\"Vinex\",\"adjusted_volume_24h_share\":0.0007267620934494842,\"fiats\":[]},{\"id\":\"tidebit\",\"name\":\"Tidebit\",\"adjusted_volume_24h_share\":0.0006750351897862455,\"fiats\":[{\"name\":\"US Dollars\",\"symbol\":\"USD\"},{\"name\":\"Hong Kong Dollar\",\"symbol\":\"HKD\"}]},{\"id\":\"coincorner\",\"name\":\"CoinCorner\",\"adjusted_volume_24h_share\":0.0006444552627738659,\"fiats\":[{\"name\":\"Euro\",\"symbol\":\"EUR\"},{\"name\":\"Pound Sterling\",\"symbol\":\"GBP\"}]},{\"id\":\"bittylicious\",\"name\":\"Bittylicious\",\"adjusted_volume_24h_share\":0.0005439677485332335,\"fiats\":[{\"name\":\"US Dollars\",\"symbol\":\"USD\"},{\"name\":\"Euro\",\"symbol\":\"EUR\"},{\"name\":\"Pound Sterling\",\"symbol\":\"GBP\"},{\"name\":\"Australian Dollar\",\"symbol\":\"AUD\"},{\"name\":\"Thai Baht\",\"symbol\":\"THB\"}]},{\"id\":\"bleutrade\",\"name\":\"Bleutrade\",\"adjusted_volume_24h_share\":0.00043165598759306703,\"fiats\":[]},{\"id\":\"birake\",\"name\":\"Birake\",\"adjusted_volume_24h_share\":0.00042948847719878386,\"fiats\":[]},{\"id\":\"zebitex\",\"name\":\"ZEBITEX\",\"adjusted_volume_24h_share\":0.00042845219501716085,\"fiats\":[{\"name\":\"Euro\",\"symbol\":\"EUR\"}]},{\"id\":\"tokenomy\",\"name\":\"Tokenomy\",\"adjusted_volume_24h_share\":0.00040605692206149293,\"fiats\":[]},{\"id\":\"mergedex\",\"name\":\"MergeDEX\",\"adjusted_volume_24h_share\":0.00036499884586874593,\"fiats\":[]},{\"id\":\"cpdax\",\"name\":\"CPDAX\",\"adjusted_volume_24h_share\":0.00035367314093569496,\"fiats\":[{\"name\":\"South Korea Won\",\"symbol\":\"KRW\"}]},{\"id\":\"vitex\",\"name\":\"ViteX\",\"adjusted_volume_24h_share\":0.0003234148445472876,\"fiats\":[]},{\"id\":\"utorg\",\"name\":\"Utorg\",\"adjusted_volume_24h_share\":0.0003211964213703807,\"fiats\":[{\"name\":\"US Dollars\",\"symbol\":\"USD\"},{\"name\":\"Russian Ruble\",\"symbol\":\"RUB\"},{\"name\":\"Ukrainian Hryvnia\",\"symbol\":\"UAH\"}]},{\"id\":\"koinim\",\"name\":\"Koinim\",\"adjusted_volume_24h_share\":0.0003179507195461501,\"fiats\":[{\"name\":\"Turkish Lira\",\"symbol\":\"TRY\"}]},{\"id\":\"alphaex\",\"name\":\"AlphaEX\",\"adjusted_volume_24h_share\":0.00030925432118720315,\"fiats\":[]},{\"id\":\"bisq\",\"name\":\"Bisq\",\"adjusted_volume_24h_share\":0.00022261226142225742,\"fiats\":[{\"name\":\"US Dollars\",\"symbol\":\"USD\"},{\"name\":\"Euro\",\"symbol\":\"EUR\"},{\"name\":\"Pound Sterling\",\"symbol\":\"GBP\"},{\"name\":\"Canadian Dollar\",\"symbol\":\"CAD\"},{\"name\":\"Japanese Yen\",\"symbol\":\"JPY\"},{\"name\":\"Polish Zloty\",\"symbol\":\"PLN\"},{\"name\":\"Russian Ruble\",\"symbol\":\"RUB\"},{\"name\":\"New Zealand Dollar\",\"symbol\":\"NZD\"},{\"name\":\"Australian Dollar\",\"symbol\":\"AUD\"},{\"name\":\"Swiss Franc\",\"symbol\":\"CHF\"},{\"name\":\"Hong Kong Dollar\",\"symbol\":\"HKD\"},{\"name\":\"Nigerian Naira\",\"symbol\":\"NGN\"},{\"name\":\"Philippines Piso\",\"symbol\":\"PHP\"},{\"name\":\"Mexican Peso\",\"symbol\":\"MXN\"},{\"name\":\"Brazil Real\",\"symbol\":\"BRL\"},{\"name\":\"Thai Baht\",\"symbol\":\"THB\"},{\"name\":\"Chilean Peso\",\"symbol\":\"CLP\"},{\"name\":\"Yuan Renminbi\",\"symbol\":\"CNY\"},{\"name\":\"Czech Koruna\",\"symbol\":\"CZK\"},{\"name\":\"Hungarian Forint\",\"symbol\":\"HUF\"},{\"name\":\"Israeli Shekel\",\"symbol\":\"ILS\"},{\"name\":\"Indian Rupee\",\"symbol\":\"INR\"},{\"name\":\"Malaysian Ringgit\",\"symbol\":\"MYR\"},{\"name\":\"Norwegian Krone\",\"symbol\":\"NOK\"},{\"name\":\"Swedish Krona\",\"symbol\":\"SEK\"},{\"name\":\"South African Rand\",\"symbol\":\"ZAR\"},{\"name\":\"Argentine Peso\",\"symbol\":\"ARS\"}]},{\"id\":\"bit2c\",\"name\":\"Bit2C\",\"adjusted_volume_24h_share\":0.00020909719908949198,\"fiats\":[{\"name\":\"Israeli Shekel\",\"symbol\":\"ILS\"}]},{\"id\":\"bitexlive\",\"name\":\"Bitexlive\",\"adjusted_volume_24h_share\":0.00020627174661623997,\"fiats\":[]},{\"id\":\"prizmbit\",\"name\":\"Prizmbit\",\"adjusted_volume_24h_share\":0.0001813210748636425,\"fiats\":[{\"name\":\"US Dollars\",\"symbol\":\"USD\"},{\"name\":\"Euro\",\"symbol\":\"EUR\"},{\"name\":\"Russian Ruble\",\"symbol\":\"RUB\"}]},{\"id\":\"float-sv\",\"name\":\"Float SV\",\"adjusted_volume_24h_share\":0.00017730498114511284,\"fiats\":[]},{\"id\":\"timex\",\"name\":\"TimeX\",\"adjusted_volume_24h_share\":0.00016074414806777857,\"fiats\":[]},{\"id\":\"btc-trade-ua\",\"name\":\"BTC Trade UA\",\"adjusted_volume_24h_share\":0.00015720531979817974,\"fiats\":[{\"name\":\"Ukrainian Hryvnia\",\"symbol\":\"UAH\"}]},{\"id\":\"tradeogre\",\"name\":\"TradeOgre\",\"adjusted_volume_24h_share\":0.0001547768272768858,\"fiats\":[]},{\"id\":\"bitsten\",\"name\":\"Bitsten\",\"adjusted_volume_24h_share\":0.00015096474234762875,\"fiats\":[]},{\"id\":\"graviex\",\"name\":\"Graviex\",\"adjusted_volume_24h_share\":0.00013264773272898445,\"fiats\":[{\"name\":\"US Dollars\",\"symbol\":\"USD\"},{\"name\":\"Euro\",\"symbol\":\"EUR\"}]},{\"id\":\"bitexla\",\"name\":\"Bitex.la\",\"adjusted_volume_24h_share\":0.0001293414689029824,\"fiats\":[{\"name\":\"US Dollars\",\"symbol\":\"USD\"}]},{\"id\":\"coinfalcon\",\"name\":\"CoinFalcon\",\"adjusted_volume_24h_share\":0.00012116183689447447,\"fiats\":[{\"name\":\"Euro\",\"symbol\":\"EUR\"}]},{\"id\":\"zaif\",\"name\":\"Zaif\",\"adjusted_volume_24h_share\":0.00011822118528702335,\"fiats\":[{\"name\":\"Japanese Yen\",\"symbol\":\"JPY\"}]},{\"id\":\"turuko\",\"name\":\"TURUKO\",\"adjusted_volume_24h_share\":0.00011184366736607254,\"fiats\":[{\"name\":\"Turkish Lira\",\"symbol\":\"TRY\"}]},{\"id\":\"coxi\",\"name\":\"COXI\",\"adjusted_volume_24h_share\":0.00010832153302402673,\"fiats\":[{\"name\":\"US Dollars\",\"symbol\":\"USD\"},{\"name\":\"Euro\",\"symbol\":\"EUR\"},{\"name\":\"Polish Zloty\",\"symbol\":\"PLN\"}]},{\"id\":\"karatbit\",\"name\":\"KaratBit\",\"adjusted_volume_24h_share\":0.00010198815757226143,\"fiats\":[]},{\"id\":\"ovis\",\"name\":\"Ovis\",\"adjusted_volume_24h_share\":0.00009173550585339287,\"fiats\":[]},{\"id\":\"tokenomica-dex\",\"name\":\"Tokenomica DEX\",\"adjusted_volume_24h_share\":0.00008814360788454241,\"fiats\":[]},{\"id\":\"einax\",\"name\":\"Einax\",\"adjusted_volume_24h_share\":0.0000808558420150168,\"fiats\":[]},{\"id\":\"southxchange\",\"name\":\"SouthXchange\",\"adjusted_volume_24h_share\":0.00007632060990891459,\"fiats\":[{\"name\":\"US Dollars\",\"symbol\":\"USD\"}]},{\"id\":\"altilly\",\"name\":\"Altilly\",\"adjusted_volume_24h_share\":0.00006526470992812138,\"fiats\":[]},{\"id\":\"sigen\",\"name\":\"SIGEN\",\"adjusted_volume_24h_share\":0.00006058623992896486,\"fiats\":[]},{\"id\":\"aidosmarket\",\"name\":\"AidosMarket\",\"adjusted_volume_24h_share\":0.000057361185731256325,\"fiats\":[]},{\"id\":\"crxzone\",\"name\":\"CRXzone\",\"adjusted_volume_24h_share\":0.000053206045812751425,\"fiats\":[{\"name\":\"US Dollars\",\"symbol\":\"USD\"},{\"name\":\"Singapore Dollar\",\"symbol\":\"SGD\"}]},{\"id\":\"kanga-exchange\",\"name\":\"Kanga\",\"adjusted_volume_24h_share\":0.00004402800290619933,\"fiats\":[]},{\"id\":\"five-star-exchange\",\"name\":\"Five Star Exchange\",\"adjusted_volume_24h_share\":0.00004300784481872679,\"fiats\":[{\"name\":\"Indian Rupee\",\"symbol\":\"INR\"}]},{\"id\":\"bitclude\",\"name\":\"Bitclude\",\"adjusted_volume_24h_share\":0.00004199335278050921,\"fiats\":[{\"name\":\"US Dollars\",\"symbol\":\"USD\"},{\"name\":\"Euro\",\"symbol\":\"EUR\"},{\"name\":\"Pound Sterling\",\"symbol\":\"GBP\"},{\"name\":\"Polish Zloty\",\"symbol\":\"PLN\"}]},{\"id\":\"dexzbitz\",\"name\":\"Dexzbitz\",\"adjusted_volume_24h_share\":0.000039399421744029924,\"fiats\":[{\"name\":\"US Dollars\",\"symbol\":\"USD\"}]},{\"id\":\"buenbit\",\"name\":\"Buenbit\",\"adjusted_volume_24h_share\":0.00003449687285630584,\"fiats\":[{\"name\":\"Argentine Peso\",\"symbol\":\"ARS\"}]},{\"id\":\"nocks\",\"name\":\"Nocks\",\"adjusted_volume_24h_share\":0.00003357519522330495,\"fiats\":[{\"name\":\"Euro\",\"symbol\":\"EUR\"}]},{\"id\":\"stellarport\",\"name\":\"Stellarport\",\"adjusted_volume_24h_share\":0.000032583361586540145,\"fiats\":[]},{\"id\":\"artis-turba\",\"name\":\"Artis Turba\",\"adjusted_volume_24h_share\":0.00003117429533104028,\"fiats\":[{\"name\":\"South African Rand\",\"symbol\":\"ZAR\"}]},{\"id\":\"qtrade\",\"name\":\"qTrade\",\"adjusted_volume_24h_share\":0.000031052236724970233,\"fiats\":[]},{\"id\":\"cryptox\",\"name\":\"Cryptox\",\"adjusted_volume_24h_share\":0.00002276574477886305,\"fiats\":[]},{\"id\":\"coiny\",\"name\":\"Coiny\",\"adjusted_volume_24h_share\":0.00002193651434500674,\"fiats\":[{\"name\":\"Turkish Lira\",\"symbol\":\"TRY\"}]},{\"id\":\"rudex\",\"name\":\"RuDEX\",\"adjusted_volume_24h_share\":0.000021288985731829356,\"fiats\":[]},{\"id\":\"alteumx\",\"name\":\"Alteumx\",\"adjusted_volume_24h_share\":0.00002066095587134553,\"fiats\":[]},{\"id\":\"bitparax\",\"name\":\"Bitparax\",\"adjusted_volume_24h_share\":0.000020628266668552555,\"fiats\":[]},{\"id\":\"bitocto-exchange\",\"name\":\"Bitocto Exchange\",\"adjusted_volume_24h_share\":0.000019939926020370322,\"fiats\":[{\"name\":\"Indonesian Rupiah\",\"symbol\":\"IDR\"}]},{\"id\":\"infinitycoin-exchange\",\"name\":\"InfinityCoin Exchange\",\"adjusted_volume_24h_share\":0.000018636872736874735,\"fiats\":[]},{\"id\":\"exc-cripto\",\"name\":\"EXC Cripto\",\"adjusted_volume_24h_share\":0.000016729242403057928,\"fiats\":[]},{\"id\":\"freiexchange\",\"name\":\"FreiExchange\",\"adjusted_volume_24h_share\":0.000015467762477794366,\"fiats\":[]},{\"id\":\"bitkonan\",\"name\":\"BitKonan\",\"adjusted_volume_24h_share\":0.000011335625217768722,\"fiats\":[{\"name\":\"US Dollars\",\"symbol\":\"USD\"}]},{\"id\":\"stakecube\",\"name\":\"StakeCube\",\"adjusted_volume_24h_share\":0.000009147034607010622,\"fiats\":[]},{\"id\":\"safetrade\",\"name\":\"SafeTrade\",\"adjusted_volume_24h_share\":0.000008567712351383004,\"fiats\":[]},{\"id\":\"cryptomate\",\"name\":\"Cryptomate\",\"adjusted_volume_24h_share\":0.000007422820156309322,\"fiats\":[{\"name\":\"Pound Sterling\",\"symbol\":\"GBP\"}]},{\"id\":\"bankera\",\"name\":\"Bankera\",\"adjusted_volume_24h_share\":0.0000069410380793354605,\"fiats\":[]},{\"id\":\"bihodl\",\"name\":\"BiHODL\",\"adjusted_volume_24h_share\":0.000006102079634585812,\"fiats\":[]},{\"id\":\"c-patex\",\"name\":\"C-Patex\",\"adjusted_volume_24h_share\":0.00000459279051128959,\"fiats\":[]},{\"id\":\"unnamed\",\"name\":\"Unnamed\",\"adjusted_volume_24h_share\":0.000004482907350895144,\"fiats\":[]},{\"id\":\"mybitexa\",\"name\":\"MyBitExa\",\"adjusted_volume_24h_share\":0.000004046597104656345,\"fiats\":[]},{\"id\":\"vaultmex\",\"name\":\"VaultMex\",\"adjusted_volume_24h_share\":0.0000032989228283585424,\"fiats\":[]},{\"id\":\"altmarkets\",\"name\":\"AltMarkets\",\"adjusted_volume_24h_share\":0.0000028776095263111383,\"fiats\":[]},{\"id\":\"play-royal\",\"name\":\"Play Royal\",\"adjusted_volume_24h_share\":0.0000025524295552037623,\"fiats\":[]},{\"id\":\"royal-exchange\",\"name\":\"Royal Exchange\",\"adjusted_volume_24h_share\":0.000002452051531159554,\"fiats\":[]},{\"id\":\"coingi\",\"name\":\"Coingi\",\"adjusted_volume_24h_share\":0.0000024133741071186285,\"fiats\":[{\"name\":\"US Dollars\",\"symbol\":\"USD\"},{\"name\":\"Euro\",\"symbol\":\"EUR\"},{\"name\":\"Czech Koruna\",\"symbol\":\"CZK\"}]},{\"id\":\"bitmesh\",\"name\":\"BitMesh\",\"adjusted_volume_24h_share\":0.000001463166358183154,\"fiats\":[]},{\"id\":\"txbit\",\"name\":\"Txbit\",\"adjusted_volume_24h_share\":8.718042523456959e-7,\"fiats\":[]},{\"id\":\"beaxy\",\"name\":\"Beaxy\",\"adjusted_volume_24h_share\":8.694761367159027e-7,\"fiats\":[]},{\"id\":\"deliondex\",\"name\":\"Deliondex\",\"adjusted_volume_24h_share\":7.386821718734336e-7,\"fiats\":[]},{\"id\":\"openledger-dex\",\"name\":\"OpenLedger DEX\",\"adjusted_volume_24h_share\":6.36404836658639e-7,\"fiats\":[]},{\"id\":\"nanu-exchange\",\"name\":\"Nanu Exchange\",\"adjusted_volume_24h_share\":6.27188307444563e-7,\"fiats\":[]},{\"id\":\"domitai\",\"name\":\"Domitai\",\"adjusted_volume_24h_share\":6.11771320939099e-7,\"fiats\":[{\"name\":\"Mexican Peso\",\"symbol\":\"MXN\"}]},{\"id\":\"xbts\",\"name\":\"XBTS\",\"adjusted_volume_24h_share\":3.444459293286088e-7,\"fiats\":[{\"name\":\"US Dollars\",\"symbol\":\"USD\"},{\"name\":\"Euro\",\"symbol\":\"EUR\"},{\"name\":\"Russian Ruble\",\"symbol\":\"RUB\"},{\"name\":\"Yuan Renminbi\",\"symbol\":\"CNY\"}]},{\"id\":\"cratex\",\"name\":\"Cratex\",\"adjusted_volume_24h_share\":2.9537918892628856e-7,\"fiats\":[]},{\"id\":\"trade-by-trade\",\"name\":\"Trade By Trade\",\"adjusted_volume_24h_share\":2.5550091080610654e-7,\"fiats\":[]},{\"id\":\"bomesp-global\",\"name\":\"BOMESP Global\",\"adjusted_volume_24h_share\":2.3581668257816959e-7,\"fiats\":[]},{\"id\":\"fides-exchange\",\"name\":\"Fides Exchange\",\"adjusted_volume_24h_share\":2.1095660315657557e-7,\"fiats\":[]},{\"id\":\"gokuex\",\"name\":\"Gokuex\",\"adjusted_volume_24h_share\":1.9062895617713114e-7,\"fiats\":[{\"name\":\"US Dollars\",\"symbol\":\"USD\"},{\"name\":\"Brazil Real\",\"symbol\":\"BRL\"}]},{\"id\":\"btcsquare\",\"name\":\"BTCsquare\",\"adjusted_volume_24h_share\":1.482966006908036e-7,\"fiats\":[]},{\"id\":\"criptohub\",\"name\":\"CriptoHub\",\"adjusted_volume_24h_share\":9.276083279198485e-8,\"fiats\":[{\"name\":\"Brazil Real\",\"symbol\":\"BRL\"}]},{\"id\":\"bibo\",\"name\":\"Bibo\",\"adjusted_volume_24h_share\":8.777509875787974e-8,\"fiats\":[]},{\"id\":\"cgcx\",\"name\":\"CGCX\",\"adjusted_volume_24h_share\":5.54073712625907e-8,\"fiats\":[{\"name\":\"US Dollars\",\"symbol\":\"USD\"}]},{\"id\":\"piratecash-dex\",\"name\":\"PirateCash DEX\",\"adjusted_volume_24h_share\":3.000516813267953e-8,\"fiats\":[]},{\"id\":\"fibercoin-exchange\",\"name\":\"Fibercoin Exchange\",\"adjusted_volume_24h_share\":2.3423561636344884e-8,\"fiats\":[]},{\"id\":\"exchangeassets\",\"name\":\"ExchangeAssets\",\"adjusted_volume_24h_share\":1.9645782605741626e-8,\"fiats\":[{\"name\":\"US Dollars\",\"symbol\":\"USD\"}]},{\"id\":\"labrotix\",\"name\":\"Labrotix\",\"adjusted_volume_24h_share\":8.085361828479915e-12,\"fiats\":[]}]\n"
     ]
    }
   ],
   "source": [
    "import requests\n",
    "\n",
    "url = \"https://coinpaprika1.p.rapidapi.com/coins/btc-bitcoin/exchanges\"\n",
    "\n",
    "headers = {\n",
    "    'x-rapidapi-host': \"coinpaprika1.p.rapidapi.com\",\n",
    "    'x-rapidapi-key': \"c77ca04916msh0ce0727591e8049p135cfcjsn6522c1bc0570\"\n",
    "    }\n",
    "\n",
    "response = requests.request(\"GET\", url, headers=headers)\n",
    "\n",
    "print(response.text)"
   ]
  },
  {
   "cell_type": "code",
   "execution_count": 9,
   "metadata": {},
   "outputs": [
    {
     "data": {
      "text/html": [
       "<div>\n",
       "<style scoped>\n",
       "    .dataframe tbody tr th:only-of-type {\n",
       "        vertical-align: middle;\n",
       "    }\n",
       "\n",
       "    .dataframe tbody tr th {\n",
       "        vertical-align: top;\n",
       "    }\n",
       "\n",
       "    .dataframe thead th {\n",
       "        text-align: right;\n",
       "    }\n",
       "</style>\n",
       "<table border=\"1\" class=\"dataframe\">\n",
       "  <thead>\n",
       "    <tr style=\"text-align: right;\">\n",
       "      <th></th>\n",
       "      <th>id</th>\n",
       "      <th>name</th>\n",
       "      <th>adjusted_volume_24h_share</th>\n",
       "      <th>fiats</th>\n",
       "    </tr>\n",
       "  </thead>\n",
       "  <tbody>\n",
       "    <tr>\n",
       "      <th>0</th>\n",
       "      <td>bkex</td>\n",
       "      <td>Bkex</td>\n",
       "      <td>7.250076</td>\n",
       "      <td>[]</td>\n",
       "    </tr>\n",
       "    <tr>\n",
       "      <th>1</th>\n",
       "      <td>bitforex</td>\n",
       "      <td>BitForex</td>\n",
       "      <td>6.376262</td>\n",
       "      <td>[]</td>\n",
       "    </tr>\n",
       "    <tr>\n",
       "      <th>2</th>\n",
       "      <td>lbank</td>\n",
       "      <td>Lbank</td>\n",
       "      <td>5.916915</td>\n",
       "      <td>[]</td>\n",
       "    </tr>\n",
       "    <tr>\n",
       "      <th>3</th>\n",
       "      <td>p2pb2b</td>\n",
       "      <td>P2PB2B</td>\n",
       "      <td>5.499158</td>\n",
       "      <td>[{'name': 'US Dollars', 'symbol': 'USD'}, {'na...</td>\n",
       "    </tr>\n",
       "    <tr>\n",
       "      <th>4</th>\n",
       "      <td>coineal</td>\n",
       "      <td>Coineal</td>\n",
       "      <td>4.983210</td>\n",
       "      <td>[]</td>\n",
       "    </tr>\n",
       "  </tbody>\n",
       "</table>\n",
       "</div>"
      ],
      "text/plain": [
       "         id      name  adjusted_volume_24h_share  \\\n",
       "0      bkex      Bkex                   7.250076   \n",
       "1  bitforex  BitForex                   6.376262   \n",
       "2     lbank     Lbank                   5.916915   \n",
       "3    p2pb2b    P2PB2B                   5.499158   \n",
       "4   coineal   Coineal                   4.983210   \n",
       "\n",
       "                                               fiats  \n",
       "0                                                 []  \n",
       "1                                                 []  \n",
       "2                                                 []  \n",
       "3  [{'name': 'US Dollars', 'symbol': 'USD'}, {'na...  \n",
       "4                                                 []  "
      ]
     },
     "execution_count": 9,
     "metadata": {},
     "output_type": "execute_result"
    }
   ],
   "source": [
    "data=pd.DataFrame(response.json())\n",
    "\n",
    "data.head()"
   ]
  },
  {
   "cell_type": "code",
   "execution_count": 26,
   "metadata": {},
   "outputs": [
    {
     "name": "stderr",
     "output_type": "stream",
     "text": [
      "/usr/local/lib/python3.7/site-packages/ipykernel_launcher.py:1: FutureWarning: pandas.io.json.json_normalize is deprecated, use pandas.json_normalize instead\n",
      "  \"\"\"Entry point for launching an IPython kernel.\n"
     ]
    },
    {
     "data": {
      "text/html": [
       "<div>\n",
       "<style scoped>\n",
       "    .dataframe tbody tr th:only-of-type {\n",
       "        vertical-align: middle;\n",
       "    }\n",
       "\n",
       "    .dataframe tbody tr th {\n",
       "        vertical-align: top;\n",
       "    }\n",
       "\n",
       "    .dataframe thead th {\n",
       "        text-align: right;\n",
       "    }\n",
       "</style>\n",
       "<table border=\"1\" class=\"dataframe\">\n",
       "  <thead>\n",
       "    <tr style=\"text-align: right;\">\n",
       "      <th></th>\n",
       "      <th>id</th>\n",
       "      <th>name</th>\n",
       "      <th>adjusted_volume_24h_share</th>\n",
       "      <th>fiats</th>\n",
       "    </tr>\n",
       "  </thead>\n",
       "  <tbody>\n",
       "    <tr>\n",
       "      <th>0</th>\n",
       "      <td>bkex</td>\n",
       "      <td>Bkex</td>\n",
       "      <td>7.250076</td>\n",
       "      <td>[]</td>\n",
       "    </tr>\n",
       "    <tr>\n",
       "      <th>1</th>\n",
       "      <td>bitforex</td>\n",
       "      <td>BitForex</td>\n",
       "      <td>6.376262</td>\n",
       "      <td>[]</td>\n",
       "    </tr>\n",
       "    <tr>\n",
       "      <th>2</th>\n",
       "      <td>lbank</td>\n",
       "      <td>Lbank</td>\n",
       "      <td>5.916915</td>\n",
       "      <td>[]</td>\n",
       "    </tr>\n",
       "    <tr>\n",
       "      <th>3</th>\n",
       "      <td>p2pb2b</td>\n",
       "      <td>P2PB2B</td>\n",
       "      <td>5.499158</td>\n",
       "      <td>[{'name': 'US Dollars', 'symbol': 'USD'}, {'na...</td>\n",
       "    </tr>\n",
       "    <tr>\n",
       "      <th>4</th>\n",
       "      <td>coineal</td>\n",
       "      <td>Coineal</td>\n",
       "      <td>4.983210</td>\n",
       "      <td>[]</td>\n",
       "    </tr>\n",
       "    <tr>\n",
       "      <th>5</th>\n",
       "      <td>zgtop</td>\n",
       "      <td>ZG.top</td>\n",
       "      <td>4.631225</td>\n",
       "      <td>[]</td>\n",
       "    </tr>\n",
       "    <tr>\n",
       "      <th>6</th>\n",
       "      <td>hotbit</td>\n",
       "      <td>Hotbit</td>\n",
       "      <td>4.071829</td>\n",
       "      <td>[{'name': 'US Dollars', 'symbol': 'USD'}]</td>\n",
       "    </tr>\n",
       "    <tr>\n",
       "      <th>7</th>\n",
       "      <td>exx</td>\n",
       "      <td>EXX</td>\n",
       "      <td>3.847866</td>\n",
       "      <td>[]</td>\n",
       "    </tr>\n",
       "    <tr>\n",
       "      <th>8</th>\n",
       "      <td>binance</td>\n",
       "      <td>Binance</td>\n",
       "      <td>3.653728</td>\n",
       "      <td>[{'name': 'Euro', 'symbol': 'EUR'}, {'name': '...</td>\n",
       "    </tr>\n",
       "    <tr>\n",
       "      <th>9</th>\n",
       "      <td>bitmart</td>\n",
       "      <td>BitMart</td>\n",
       "      <td>3.646633</td>\n",
       "      <td>[]</td>\n",
       "    </tr>\n",
       "  </tbody>\n",
       "</table>\n",
       "</div>"
      ],
      "text/plain": [
       "         id      name  adjusted_volume_24h_share  \\\n",
       "0      bkex      Bkex                   7.250076   \n",
       "1  bitforex  BitForex                   6.376262   \n",
       "2     lbank     Lbank                   5.916915   \n",
       "3    p2pb2b    P2PB2B                   5.499158   \n",
       "4   coineal   Coineal                   4.983210   \n",
       "5     zgtop    ZG.top                   4.631225   \n",
       "6    hotbit    Hotbit                   4.071829   \n",
       "7       exx       EXX                   3.847866   \n",
       "8   binance   Binance                   3.653728   \n",
       "9   bitmart   BitMart                   3.646633   \n",
       "\n",
       "                                               fiats  \n",
       "0                                                 []  \n",
       "1                                                 []  \n",
       "2                                                 []  \n",
       "3  [{'name': 'US Dollars', 'symbol': 'USD'}, {'na...  \n",
       "4                                                 []  \n",
       "5                                                 []  \n",
       "6          [{'name': 'US Dollars', 'symbol': 'USD'}]  \n",
       "7                                                 []  \n",
       "8  [{'name': 'Euro', 'symbol': 'EUR'}, {'name': '...  \n",
       "9                                                 []  "
      ]
     },
     "execution_count": 26,
     "metadata": {},
     "output_type": "execute_result"
    }
   ],
   "source": [
    "df=json_normalize(response.json())\n",
    "\n",
    "df.head(10)\n"
   ]
  },
  {
   "cell_type": "code",
   "execution_count": 27,
   "metadata": {},
   "outputs": [
    {
     "data": {
      "text/plain": [
       "<bound method DataFrame.info of                      id                name  adjusted_volume_24h_share  \\\n",
       "0                  bkex                Bkex               7.250076e+00   \n",
       "1              bitforex            BitForex               6.376262e+00   \n",
       "2                 lbank               Lbank               5.916915e+00   \n",
       "3                p2pb2b              P2PB2B               5.499158e+00   \n",
       "4               coineal             Coineal               4.983210e+00   \n",
       "..                  ...                 ...                        ...   \n",
       "262                cgcx                CGCX               5.540737e-08   \n",
       "263      piratecash-dex      PirateCash DEX               3.000517e-08   \n",
       "264  fibercoin-exchange  Fibercoin Exchange               2.342356e-08   \n",
       "265      exchangeassets      ExchangeAssets               1.964578e-08   \n",
       "266            labrotix            Labrotix               8.085362e-12   \n",
       "\n",
       "                                                 fiats  \n",
       "0                                                   []  \n",
       "1                                                   []  \n",
       "2                                                   []  \n",
       "3    [{'name': 'US Dollars', 'symbol': 'USD'}, {'na...  \n",
       "4                                                   []  \n",
       "..                                                 ...  \n",
       "262          [{'name': 'US Dollars', 'symbol': 'USD'}]  \n",
       "263                                                 []  \n",
       "264                                                 []  \n",
       "265          [{'name': 'US Dollars', 'symbol': 'USD'}]  \n",
       "266                                                 []  \n",
       "\n",
       "[267 rows x 4 columns]>"
      ]
     },
     "execution_count": 27,
     "metadata": {},
     "output_type": "execute_result"
    }
   ],
   "source": [
    "df.info"
   ]
  },
  {
   "cell_type": "code",
   "execution_count": 28,
   "metadata": {},
   "outputs": [
    {
     "data": {
      "text/html": [
       "<div>\n",
       "<style scoped>\n",
       "    .dataframe tbody tr th:only-of-type {\n",
       "        vertical-align: middle;\n",
       "    }\n",
       "\n",
       "    .dataframe tbody tr th {\n",
       "        vertical-align: top;\n",
       "    }\n",
       "\n",
       "    .dataframe thead th {\n",
       "        text-align: right;\n",
       "    }\n",
       "</style>\n",
       "<table border=\"1\" class=\"dataframe\">\n",
       "  <thead>\n",
       "    <tr style=\"text-align: right;\">\n",
       "      <th></th>\n",
       "      <th>adjusted_volume_24h_share</th>\n",
       "    </tr>\n",
       "  </thead>\n",
       "  <tbody>\n",
       "    <tr>\n",
       "      <th>count</th>\n",
       "      <td>2.670000e+02</td>\n",
       "    </tr>\n",
       "    <tr>\n",
       "      <th>mean</th>\n",
       "      <td>3.745318e-01</td>\n",
       "    </tr>\n",
       "    <tr>\n",
       "      <th>std</th>\n",
       "      <td>1.060351e+00</td>\n",
       "    </tr>\n",
       "    <tr>\n",
       "      <th>min</th>\n",
       "      <td>8.085362e-12</td>\n",
       "    </tr>\n",
       "    <tr>\n",
       "      <th>25%</th>\n",
       "      <td>1.309946e-04</td>\n",
       "    </tr>\n",
       "    <tr>\n",
       "      <th>50%</th>\n",
       "      <td>5.303258e-03</td>\n",
       "    </tr>\n",
       "    <tr>\n",
       "      <th>75%</th>\n",
       "      <td>1.347283e-01</td>\n",
       "    </tr>\n",
       "    <tr>\n",
       "      <th>max</th>\n",
       "      <td>7.250076e+00</td>\n",
       "    </tr>\n",
       "  </tbody>\n",
       "</table>\n",
       "</div>"
      ],
      "text/plain": [
       "       adjusted_volume_24h_share\n",
       "count               2.670000e+02\n",
       "mean                3.745318e-01\n",
       "std                 1.060351e+00\n",
       "min                 8.085362e-12\n",
       "25%                 1.309946e-04\n",
       "50%                 5.303258e-03\n",
       "75%                 1.347283e-01\n",
       "max                 7.250076e+00"
      ]
     },
     "execution_count": 28,
     "metadata": {},
     "output_type": "execute_result"
    }
   ],
   "source": [
    "df.describe()"
   ]
  },
  {
   "cell_type": "code",
   "execution_count": 33,
   "metadata": {},
   "outputs": [
    {
     "name": "stdout",
     "output_type": "stream",
     "text": [
      "     id  name  adjusted_volume_24h_share fiats\n",
      "0  bkex  Bkex                   7.250076    []\n"
     ]
    }
   ],
   "source": [
    "print(df[df['adjusted_volume_24h_share'] == df['adjusted_volume_24h_share'].max()]) "
   ]
  },
  {
   "cell_type": "code",
   "execution_count": 34,
   "metadata": {},
   "outputs": [
    {
     "name": "stdout",
     "output_type": "stream",
     "text": [
      "           id      name  adjusted_volume_24h_share fiats\n",
      "266  labrotix  Labrotix               8.085362e-12    []\n"
     ]
    }
   ],
   "source": [
    "print(df[df['adjusted_volume_24h_share'] == df['adjusted_volume_24h_share'].min()]) "
   ]
  },
  {
   "cell_type": "markdown",
   "metadata": {},
   "source": [
    "## Bonus\n",
    "\n",
    "Extract the following information from the data:\n",
    "\n",
    "* The trending brand.\n",
    "\n",
    "* The product(s) with the highest discount.\n",
    "\n",
    "* The sum of discounts of all goods (sum_discounted_prices divided by sum_original_prices)."
   ]
  },
  {
   "cell_type": "code",
   "execution_count": 18,
   "metadata": {},
   "outputs": [
    {
     "data": {
      "text/html": [
       "<img src=\"https://rickandmortyapi.com/api/character/avatar/1.jpeg\"/>"
      ],
      "text/plain": [
       "<IPython.core.display.Image object>"
      ]
     },
     "metadata": {},
     "output_type": "display_data"
    },
    {
     "data": {
      "text/html": [
       "<img src=\"https://rickandmortyapi.com/api/character/avatar/2.jpeg\"/>"
      ],
      "text/plain": [
       "<IPython.core.display.Image object>"
      ]
     },
     "metadata": {},
     "output_type": "display_data"
    },
    {
     "data": {
      "text/html": [
       "<img src=\"https://rickandmortyapi.com/api/character/avatar/3.jpeg\"/>"
      ],
      "text/plain": [
       "<IPython.core.display.Image object>"
      ]
     },
     "metadata": {},
     "output_type": "display_data"
    },
    {
     "data": {
      "text/html": [
       "<img src=\"https://rickandmortyapi.com/api/character/avatar/4.jpeg\"/>"
      ],
      "text/plain": [
       "<IPython.core.display.Image object>"
      ]
     },
     "metadata": {},
     "output_type": "display_data"
    },
    {
     "data": {
      "text/html": [
       "<img src=\"https://rickandmortyapi.com/api/character/avatar/5.jpeg\"/>"
      ],
      "text/plain": [
       "<IPython.core.display.Image object>"
      ]
     },
     "metadata": {},
     "output_type": "display_data"
    },
    {
     "data": {
      "text/html": [
       "<img src=\"https://rickandmortyapi.com/api/character/avatar/6.jpeg\"/>"
      ],
      "text/plain": [
       "<IPython.core.display.Image object>"
      ]
     },
     "metadata": {},
     "output_type": "display_data"
    },
    {
     "data": {
      "text/html": [
       "<img src=\"https://rickandmortyapi.com/api/character/avatar/7.jpeg\"/>"
      ],
      "text/plain": [
       "<IPython.core.display.Image object>"
      ]
     },
     "metadata": {},
     "output_type": "display_data"
    },
    {
     "data": {
      "text/html": [
       "<img src=\"https://rickandmortyapi.com/api/character/avatar/8.jpeg\"/>"
      ],
      "text/plain": [
       "<IPython.core.display.Image object>"
      ]
     },
     "metadata": {},
     "output_type": "display_data"
    },
    {
     "data": {
      "text/html": [
       "<img src=\"https://rickandmortyapi.com/api/character/avatar/9.jpeg\"/>"
      ],
      "text/plain": [
       "<IPython.core.display.Image object>"
      ]
     },
     "metadata": {},
     "output_type": "display_data"
    },
    {
     "data": {
      "text/html": [
       "<img src=\"https://rickandmortyapi.com/api/character/avatar/10.jpeg\"/>"
      ],
      "text/plain": [
       "<IPython.core.display.Image object>"
      ]
     },
     "metadata": {},
     "output_type": "display_data"
    },
    {
     "data": {
      "text/html": [
       "<img src=\"https://rickandmortyapi.com/api/character/avatar/11.jpeg\"/>"
      ],
      "text/plain": [
       "<IPython.core.display.Image object>"
      ]
     },
     "metadata": {},
     "output_type": "display_data"
    },
    {
     "data": {
      "text/html": [
       "<img src=\"https://rickandmortyapi.com/api/character/avatar/12.jpeg\"/>"
      ],
      "text/plain": [
       "<IPython.core.display.Image object>"
      ]
     },
     "metadata": {},
     "output_type": "display_data"
    },
    {
     "data": {
      "text/html": [
       "<img src=\"https://rickandmortyapi.com/api/character/avatar/13.jpeg\"/>"
      ],
      "text/plain": [
       "<IPython.core.display.Image object>"
      ]
     },
     "metadata": {},
     "output_type": "display_data"
    },
    {
     "data": {
      "text/html": [
       "<img src=\"https://rickandmortyapi.com/api/character/avatar/14.jpeg\"/>"
      ],
      "text/plain": [
       "<IPython.core.display.Image object>"
      ]
     },
     "metadata": {},
     "output_type": "display_data"
    },
    {
     "data": {
      "text/html": [
       "<img src=\"https://rickandmortyapi.com/api/character/avatar/15.jpeg\"/>"
      ],
      "text/plain": [
       "<IPython.core.display.Image object>"
      ]
     },
     "metadata": {},
     "output_type": "display_data"
    },
    {
     "data": {
      "text/html": [
       "<img src=\"https://rickandmortyapi.com/api/character/avatar/16.jpeg\"/>"
      ],
      "text/plain": [
       "<IPython.core.display.Image object>"
      ]
     },
     "metadata": {},
     "output_type": "display_data"
    },
    {
     "data": {
      "text/html": [
       "<img src=\"https://rickandmortyapi.com/api/character/avatar/17.jpeg\"/>"
      ],
      "text/plain": [
       "<IPython.core.display.Image object>"
      ]
     },
     "metadata": {},
     "output_type": "display_data"
    },
    {
     "data": {
      "text/html": [
       "<img src=\"https://rickandmortyapi.com/api/character/avatar/18.jpeg\"/>"
      ],
      "text/plain": [
       "<IPython.core.display.Image object>"
      ]
     },
     "metadata": {},
     "output_type": "display_data"
    },
    {
     "data": {
      "text/html": [
       "<img src=\"https://rickandmortyapi.com/api/character/avatar/19.jpeg\"/>"
      ],
      "text/plain": [
       "<IPython.core.display.Image object>"
      ]
     },
     "metadata": {},
     "output_type": "display_data"
    },
    {
     "data": {
      "text/html": [
       "<img src=\"https://rickandmortyapi.com/api/character/avatar/20.jpeg\"/>"
      ],
      "text/plain": [
       "<IPython.core.display.Image object>"
      ]
     },
     "metadata": {},
     "output_type": "display_data"
    },
    {
     "name": "stdout",
     "output_type": "stream",
     "text": [
      "Ants in my Eyes Johnson\n"
     ]
    }
   ],
   "source": [
    "from IPython.display import Image, display_html\n",
    "from IPython.core.display import HTML\n",
    "res=requests.get('https://rickandmortyapi.com/api/character/')\n",
    "getimag = res.json()['results']\n",
    "for e in getimag:\n",
    "    display(Image(url=e['image']))\n",
    "print(e['name'])"
   ]
  },
  {
   "cell_type": "code",
   "execution_count": null,
   "metadata": {},
   "outputs": [],
   "source": []
  },
  {
   "cell_type": "code",
   "execution_count": null,
   "metadata": {},
   "outputs": [],
   "source": []
  },
  {
   "cell_type": "code",
   "execution_count": null,
   "metadata": {},
   "outputs": [],
   "source": []
  }
 ],
 "metadata": {
  "kernelspec": {
   "display_name": "Python 3",
   "language": "python",
   "name": "python3"
  },
  "language_info": {
   "codemirror_mode": {
    "name": "ipython",
    "version": 3
   },
   "file_extension": ".py",
   "mimetype": "text/x-python",
   "name": "python",
   "nbconvert_exporter": "python",
   "pygments_lexer": "ipython3",
   "version": "3.7.7"
  }
 },
 "nbformat": 4,
 "nbformat_minor": 2
}
