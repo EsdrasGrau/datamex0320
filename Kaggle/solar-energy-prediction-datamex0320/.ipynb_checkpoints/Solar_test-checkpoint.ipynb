{
 "cells": [
  {
   "cell_type": "markdown",
   "metadata": {},
   "source": [
    "# Testing area"
   ]
  },
  {
   "cell_type": "code",
   "execution_count": 1,
   "metadata": {},
   "outputs": [],
   "source": [
    "import h2o\n",
    "from h2o.automl import H2OAutoML\n",
    "import pandas as pd\n",
    "import numpy as np"
   ]
  },
  {
   "cell_type": "code",
   "execution_count": 2,
   "metadata": {},
   "outputs": [
    {
     "name": "stdout",
     "output_type": "stream",
     "text": [
      "Checking whether there is an H2O instance running at http://localhost:54321 ..... not found.\n",
      "Attempting to start a local H2O server...\n",
      "  Java Version: java version \"11.0.7\" 2020-04-14 LTS; Java(TM) SE Runtime Environment 18.9 (build 11.0.7+8-LTS); Java HotSpot(TM) 64-Bit Server VM 18.9 (build 11.0.7+8-LTS, mixed mode)\n",
      "  Starting server from /usr/local/lib/python3.7/site-packages/h2o/backend/bin/h2o.jar\n",
      "  Ice root: /var/folders/0t/v201m3m93lv580kprr2glr3h0000gn/T/tmp1di74lnh\n",
      "  JVM stdout: /var/folders/0t/v201m3m93lv580kprr2glr3h0000gn/T/tmp1di74lnh/h2o_esdras_started_from_python.out\n",
      "  JVM stderr: /var/folders/0t/v201m3m93lv580kprr2glr3h0000gn/T/tmp1di74lnh/h2o_esdras_started_from_python.err\n",
      "  Server is running at http://127.0.0.1:54321\n",
      "Connecting to H2O server at http://127.0.0.1:54321 ... successful.\n"
     ]
    },
    {
     "data": {
      "text/html": [
       "<div style=\"overflow:auto\"><table style=\"width:50%\"><tr><td>H2O_cluster_uptime:</td>\n",
       "<td>03 secs</td></tr>\n",
       "<tr><td>H2O_cluster_timezone:</td>\n",
       "<td>America/Mexico_City</td></tr>\n",
       "<tr><td>H2O_data_parsing_timezone:</td>\n",
       "<td>UTC</td></tr>\n",
       "<tr><td>H2O_cluster_version:</td>\n",
       "<td>3.30.0.2</td></tr>\n",
       "<tr><td>H2O_cluster_version_age:</td>\n",
       "<td>5 days </td></tr>\n",
       "<tr><td>H2O_cluster_name:</td>\n",
       "<td>H2O_from_python_esdras_69hdnw</td></tr>\n",
       "<tr><td>H2O_cluster_total_nodes:</td>\n",
       "<td>1</td></tr>\n",
       "<tr><td>H2O_cluster_free_memory:</td>\n",
       "<td>2 Gb</td></tr>\n",
       "<tr><td>H2O_cluster_total_cores:</td>\n",
       "<td>4</td></tr>\n",
       "<tr><td>H2O_cluster_allowed_cores:</td>\n",
       "<td>4</td></tr>\n",
       "<tr><td>H2O_cluster_status:</td>\n",
       "<td>accepting new members, healthy</td></tr>\n",
       "<tr><td>H2O_connection_url:</td>\n",
       "<td>http://127.0.0.1:54321</td></tr>\n",
       "<tr><td>H2O_connection_proxy:</td>\n",
       "<td>{\"http\": null, \"https\": null}</td></tr>\n",
       "<tr><td>H2O_internal_security:</td>\n",
       "<td>False</td></tr>\n",
       "<tr><td>H2O_API_Extensions:</td>\n",
       "<td>Amazon S3, XGBoost, Algos, AutoML, Core V3, TargetEncoder, Core V4</td></tr>\n",
       "<tr><td>Python_version:</td>\n",
       "<td>3.7.7 final</td></tr></table></div>"
      ],
      "text/plain": [
       "--------------------------  ------------------------------------------------------------------\n",
       "H2O_cluster_uptime:         03 secs\n",
       "H2O_cluster_timezone:       America/Mexico_City\n",
       "H2O_data_parsing_timezone:  UTC\n",
       "H2O_cluster_version:        3.30.0.2\n",
       "H2O_cluster_version_age:    5 days\n",
       "H2O_cluster_name:           H2O_from_python_esdras_69hdnw\n",
       "H2O_cluster_total_nodes:    1\n",
       "H2O_cluster_free_memory:    2 Gb\n",
       "H2O_cluster_total_cores:    4\n",
       "H2O_cluster_allowed_cores:  4\n",
       "H2O_cluster_status:         accepting new members, healthy\n",
       "H2O_connection_url:         http://127.0.0.1:54321\n",
       "H2O_connection_proxy:       {\"http\": null, \"https\": null}\n",
       "H2O_internal_security:      False\n",
       "H2O_API_Extensions:         Amazon S3, XGBoost, Algos, AutoML, Core V3, TargetEncoder, Core V4\n",
       "Python_version:             3.7.7 final\n",
       "--------------------------  ------------------------------------------------------------------"
      ]
     },
     "metadata": {},
     "output_type": "display_data"
    }
   ],
   "source": [
    "h2o.init()"
   ]
  },
  {
   "cell_type": "code",
   "execution_count": 3,
   "metadata": {},
   "outputs": [],
   "source": [
    "df_train=pd.read_csv(\"solar_train.csv\")"
   ]
  },
  {
   "cell_type": "code",
   "execution_count": 4,
   "metadata": {},
   "outputs": [
    {
     "data": {
      "text/plain": [
       "(24514, 11)"
      ]
     },
     "execution_count": 4,
     "metadata": {},
     "output_type": "execute_result"
    }
   ],
   "source": [
    "df_train.shape"
   ]
  },
  {
   "cell_type": "code",
   "execution_count": 5,
   "metadata": {},
   "outputs": [],
   "source": [
    "import seaborn as sns\n",
    "import matplotlib.pyplot as plt"
   ]
  },
  {
   "cell_type": "code",
   "execution_count": 6,
   "metadata": {},
   "outputs": [
    {
     "data": {
      "text/plain": [
       "<matplotlib.axes._subplots.AxesSubplot at 0x11a413e90>"
      ]
     },
     "execution_count": 6,
     "metadata": {},
     "output_type": "execute_result"
    },
    {
     "data": {
      "image/png": "[encoded data removed]",
      "text/plain": [
       "<Figure size 432x288 with 2 Axes>"
      ]
     },
     "metadata": {
      "needs_background": "light"
     },
     "output_type": "display_data"
    }
   ],
   "source": [
    "sns.heatmap(df_train.corr())"
   ]
  },
  {
   "cell_type": "code",
   "execution_count": 7,
   "metadata": {},
   "outputs": [
    {
     "data": {
      "text/html": [
       "<div>\n",
       "<style scoped>\n",
       "    .dataframe tbody tr th:only-of-type {\n",
       "        vertical-align: middle;\n",
       "    }\n",
       "\n",
       "    .dataframe tbody tr th {\n",
       "        vertical-align: top;\n",
       "    }\n",
       "\n",
       "    .dataframe thead th {\n",
       "        text-align: right;\n",
       "    }\n",
       "</style>\n",
       "<table border=\"1\" class=\"dataframe\">\n",
       "  <thead>\n",
       "    <tr style=\"text-align: right;\">\n",
       "      <th></th>\n",
       "      <th>UNIXTime</th>\n",
       "      <th>Data</th>\n",
       "      <th>Time</th>\n",
       "      <th>Radiation</th>\n",
       "      <th>Temperature</th>\n",
       "      <th>Pressure</th>\n",
       "      <th>Humidity</th>\n",
       "      <th>WindDirection(Degrees)</th>\n",
       "      <th>Speed</th>\n",
       "      <th>TimeSunRise</th>\n",
       "      <th>TimeSunSet</th>\n",
       "    </tr>\n",
       "  </thead>\n",
       "  <tbody>\n",
       "    <tr>\n",
       "      <th>0</th>\n",
       "      <td>1475175023</td>\n",
       "      <td>9/29/2016 12:00:00 AM</td>\n",
       "      <td>08:50:23</td>\n",
       "      <td>634.99</td>\n",
       "      <td>61</td>\n",
       "      <td>30.46</td>\n",
       "      <td>41</td>\n",
       "      <td>14.96</td>\n",
       "      <td>6.75</td>\n",
       "      <td>06:13:00</td>\n",
       "      <td>18:13:00</td>\n",
       "    </tr>\n",
       "    <tr>\n",
       "      <th>1</th>\n",
       "      <td>1481799902</td>\n",
       "      <td>12/15/2016 12:00:00 AM</td>\n",
       "      <td>01:05:02</td>\n",
       "      <td>1.27</td>\n",
       "      <td>37</td>\n",
       "      <td>30.26</td>\n",
       "      <td>70</td>\n",
       "      <td>207.43</td>\n",
       "      <td>5.62</td>\n",
       "      <td>06:50:00</td>\n",
       "      <td>17:46:00</td>\n",
       "    </tr>\n",
       "    <tr>\n",
       "      <th>2</th>\n",
       "      <td>1478339417</td>\n",
       "      <td>11/4/2016 12:00:00 AM</td>\n",
       "      <td>23:50:17</td>\n",
       "      <td>1.21</td>\n",
       "      <td>47</td>\n",
       "      <td>30.49</td>\n",
       "      <td>33</td>\n",
       "      <td>168.20</td>\n",
       "      <td>5.62</td>\n",
       "      <td>06:25:00</td>\n",
       "      <td>17:47:00</td>\n",
       "    </tr>\n",
       "    <tr>\n",
       "      <th>3</th>\n",
       "      <td>1472887208</td>\n",
       "      <td>9/2/2016 12:00:00 AM</td>\n",
       "      <td>21:20:08</td>\n",
       "      <td>1.67</td>\n",
       "      <td>54</td>\n",
       "      <td>30.46</td>\n",
       "      <td>101</td>\n",
       "      <td>152.60</td>\n",
       "      <td>3.37</td>\n",
       "      <td>06:07:00</td>\n",
       "      <td>18:37:00</td>\n",
       "    </tr>\n",
       "    <tr>\n",
       "      <th>4</th>\n",
       "      <td>1478724901</td>\n",
       "      <td>11/9/2016 12:00:00 AM</td>\n",
       "      <td>10:55:01</td>\n",
       "      <td>839.78</td>\n",
       "      <td>62</td>\n",
       "      <td>30.47</td>\n",
       "      <td>36</td>\n",
       "      <td>291.95</td>\n",
       "      <td>7.87</td>\n",
       "      <td>06:28:00</td>\n",
       "      <td>17:45:00</td>\n",
       "    </tr>\n",
       "  </tbody>\n",
       "</table>\n",
       "</div>"
      ],
      "text/plain": [
       "     UNIXTime                    Data      Time  Radiation  Temperature  \\\n",
       "0  1475175023   9/29/2016 12:00:00 AM  08:50:23     634.99           61   \n",
       "1  1481799902  12/15/2016 12:00:00 AM  01:05:02       1.27           37   \n",
       "2  1478339417   11/4/2016 12:00:00 AM  23:50:17       1.21           47   \n",
       "3  1472887208    9/2/2016 12:00:00 AM  21:20:08       1.67           54   \n",
       "4  1478724901   11/9/2016 12:00:00 AM  10:55:01     839.78           62   \n",
       "\n",
       "   Pressure  Humidity  WindDirection(Degrees)  Speed TimeSunRise TimeSunSet  \n",
       "0     30.46        41                   14.96   6.75    06:13:00   18:13:00  \n",
       "1     30.26        70                  207.43   5.62    06:50:00   17:46:00  \n",
       "2     30.49        33                  168.20   5.62    06:25:00   17:47:00  \n",
       "3     30.46       101                  152.60   3.37    06:07:00   18:37:00  \n",
       "4     30.47        36                  291.95   7.87    06:28:00   17:45:00  "
      ]
     },
     "execution_count": 7,
     "metadata": {},
     "output_type": "execute_result"
    }
   ],
   "source": [
    "df_train.head()"
   ]
  },
  {
   "cell_type": "code",
   "execution_count": null,
   "metadata": {},
   "outputs": [],
   "source": []
  },
  {
   "cell_type": "code",
   "execution_count": 8,
   "metadata": {},
   "outputs": [
    {
     "name": "stdout",
     "output_type": "stream",
     "text": [
      "<class 'pandas.core.frame.DataFrame'>\n",
      "RangeIndex: 24514 entries, 0 to 24513\n",
      "Data columns (total 11 columns):\n",
      " #   Column                  Non-Null Count  Dtype  \n",
      "---  ------                  --------------  -----  \n",
      " 0   UNIXTime                24514 non-null  int64  \n",
      " 1   Data                    24514 non-null  object \n",
      " 2   Time                    24514 non-null  object \n",
      " 3   Radiation               24514 non-null  float64\n",
      " 4   Temperature             24514 non-null  int64  \n",
      " 5   Pressure                24514 non-null  float64\n",
      " 6   Humidity                24514 non-null  int64  \n",
      " 7   WindDirection(Degrees)  24514 non-null  float64\n",
      " 8   Speed                   24514 non-null  float64\n",
      " 9   TimeSunRise             24514 non-null  object \n",
      " 10  TimeSunSet              24514 non-null  object \n",
      "dtypes: float64(4), int64(3), object(4)\n",
      "memory usage: 2.1+ MB\n"
     ]
    }
   ],
   "source": [
    "df_train.info()"
   ]
  },
  {
   "cell_type": "code",
   "execution_count": 9,
   "metadata": {},
   "outputs": [],
   "source": [
    "df_train.Data =  pd.to_datetime(df_train.Data)"
   ]
  },
  {
   "cell_type": "code",
   "execution_count": 10,
   "metadata": {},
   "outputs": [],
   "source": [
    "#df_train.Time = pd.to_timedelta(df_train.Time, errors='coerce')"
   ]
  },
  {
   "cell_type": "code",
   "execution_count": 11,
   "metadata": {},
   "outputs": [],
   "source": [
    "#df_train.TimeSunRise = pd.to_timedelta(df_train.TimeSunRise, errors='coerce')"
   ]
  },
  {
   "cell_type": "code",
   "execution_count": 12,
   "metadata": {},
   "outputs": [],
   "source": [
    "#df_train.TimeSunSet = pd.to_timedelta(df_train.TimeSunSet, errors='coerce')"
   ]
  },
  {
   "cell_type": "code",
   "execution_count": null,
   "metadata": {},
   "outputs": [],
   "source": []
  },
  {
   "cell_type": "code",
   "execution_count": 13,
   "metadata": {},
   "outputs": [],
   "source": [
    "df_train.drop(columns =['Data','Time'], inplace = True)"
   ]
  },
  {
   "cell_type": "markdown",
   "metadata": {},
   "source": [
    "# new testing"
   ]
  },
  {
   "cell_type": "code",
   "execution_count": 14,
   "metadata": {},
   "outputs": [
    {
     "data": {
      "text/plain": [
       "<matplotlib.axes._subplots.AxesSubplot at 0x112cee610>"
      ]
     },
     "execution_count": 14,
     "metadata": {},
     "output_type": "execute_result"
    },
    {
     "data": {
      "image/png": "[encoded data removed]",
      "text/plain": [
       "<Figure size 432x288 with 1 Axes>"
      ]
     },
     "metadata": {
      "needs_background": "light"
     },
     "output_type": "display_data"
    }
   ],
   "source": [
    "df_train.boxplot(column=['Radiation'])"
   ]
  },
  {
   "cell_type": "markdown",
   "metadata": {},
   "source": [
    "# Radiation outliers"
   ]
  },
  {
   "cell_type": "code",
   "execution_count": 15,
   "metadata": {},
   "outputs": [],
   "source": [
    "q1=np.percentile(df_train.Radiation, 25)\n",
    "q3=np.percentile(df_train.Radiation, 75)"
   ]
  },
  {
   "cell_type": "code",
   "execution_count": 16,
   "metadata": {},
   "outputs": [],
   "source": [
    "iqr=q3-q1\n",
    "\n",
    "upper=q3+3*iqr\n",
    "lower=q3-3*iqr"
   ]
  },
  {
   "cell_type": "code",
   "execution_count": 17,
   "metadata": {},
   "outputs": [
    {
     "data": {
      "text/plain": [
       "0"
      ]
     },
     "execution_count": 17,
     "metadata": {},
     "output_type": "execute_result"
    }
   ],
   "source": [
    "len(df_train[df_train.Radiation < lower])"
   ]
  },
  {
   "cell_type": "code",
   "execution_count": 18,
   "metadata": {},
   "outputs": [
    {
     "data": {
      "text/plain": [
       "(24511, 9)"
      ]
     },
     "execution_count": 18,
     "metadata": {},
     "output_type": "execute_result"
    }
   ],
   "source": [
    "train_outlers=df_train[df_train.Radiation < upper]\n",
    "train_outlers.shape"
   ]
  },
  {
   "cell_type": "code",
   "execution_count": 19,
   "metadata": {},
   "outputs": [
    {
     "data": {
      "text/plain": [
       "<matplotlib.axes._subplots.AxesSubplot at 0x11cab4290>"
      ]
     },
     "execution_count": 19,
     "metadata": {},
     "output_type": "execute_result"
    },
    {
     "data": {
      "image/png": "[encoded data removed]",
      "text/plain": [
       "<Figure size 432x288 with 1 Axes>"
      ]
     },
     "metadata": {
      "needs_background": "light"
     },
     "output_type": "display_data"
    }
   ],
   "source": [
    "train_outlers.boxplot()"
   ]
  },
  {
   "cell_type": "markdown",
   "metadata": {},
   "source": [
    "# speed outliers"
   ]
  },
  {
   "cell_type": "code",
   "execution_count": 20,
   "metadata": {},
   "outputs": [],
   "source": [
    "q1=np.percentile(train_outlers.Speed, 25)\n",
    "q3=np.percentile(train_outlers.Speed, 75)"
   ]
  },
  {
   "cell_type": "code",
   "execution_count": 21,
   "metadata": {},
   "outputs": [],
   "source": [
    "iqr=q3-q1\n",
    "\n",
    "upper=q3+3*iqr\n",
    "lower=q3-3*iqr"
   ]
  },
  {
   "cell_type": "code",
   "execution_count": 22,
   "metadata": {},
   "outputs": [
    {
     "data": {
      "text/plain": [
       "0"
      ]
     },
     "execution_count": 22,
     "metadata": {},
     "output_type": "execute_result"
    }
   ],
   "source": [
    "len(train_outlers[train_outlers.Speed < lower])"
   ]
  },
  {
   "cell_type": "code",
   "execution_count": 23,
   "metadata": {},
   "outputs": [
    {
     "data": {
      "text/plain": [
       "(24418, 9)"
      ]
     },
     "execution_count": 23,
     "metadata": {},
     "output_type": "execute_result"
    }
   ],
   "source": [
    "train_speed=train_outlers[train_outlers.Speed < upper]\n",
    "train_speed.shape"
   ]
  },
  {
   "cell_type": "code",
   "execution_count": 24,
   "metadata": {},
   "outputs": [
    {
     "data": {
      "text/plain": [
       "<matplotlib.axes._subplots.AxesSubplot at 0x11c75c350>"
      ]
     },
     "execution_count": 24,
     "metadata": {},
     "output_type": "execute_result"
    },
    {
     "data": {
      "image/png": "[encoded data removed]",
      "text/plain": [
       "<Figure size 432x288 with 1 Axes>"
      ]
     },
     "metadata": {
      "needs_background": "light"
     },
     "output_type": "display_data"
    }
   ],
   "source": [
    "train_speed.boxplot()"
   ]
  },
  {
   "cell_type": "markdown",
   "metadata": {},
   "source": [
    "# WindDirection(Degrees) outliers"
   ]
  },
  {
   "cell_type": "code",
   "execution_count": 25,
   "metadata": {},
   "outputs": [],
   "source": [
    "q1=np.percentile(train_speed['WindDirection(Degrees)'], 25)\n",
    "q3=np.percentile(train_speed['WindDirection(Degrees)'], 75)"
   ]
  },
  {
   "cell_type": "code",
   "execution_count": 26,
   "metadata": {},
   "outputs": [],
   "source": [
    "iqr=q3-q1\n",
    "\n",
    "upper=q3+3*iqr\n",
    "lower=q3-3*iqr"
   ]
  },
  {
   "cell_type": "code",
   "execution_count": 27,
   "metadata": {},
   "outputs": [
    {
     "data": {
      "text/plain": [
       "0"
      ]
     },
     "execution_count": 27,
     "metadata": {},
     "output_type": "execute_result"
    }
   ],
   "source": [
    "\n",
    "len(train_speed[train_speed['WindDirection(Degrees)'] < lower])"
   ]
  },
  {
   "cell_type": "code",
   "execution_count": 28,
   "metadata": {},
   "outputs": [
    {
     "data": {
      "text/plain": [
       "(24418, 9)"
      ]
     },
     "execution_count": 28,
     "metadata": {},
     "output_type": "execute_result"
    }
   ],
   "source": [
    "train_wind=train_speed[train_speed['WindDirection(Degrees)'] < upper]\n",
    "train_wind.shape"
   ]
  },
  {
   "cell_type": "code",
   "execution_count": 29,
   "metadata": {},
   "outputs": [
    {
     "data": {
      "text/plain": [
       "<matplotlib.axes._subplots.AxesSubplot at 0x11d5ed810>"
      ]
     },
     "execution_count": 29,
     "metadata": {},
     "output_type": "execute_result"
    },
    {
     "data": {
      "image/png": "[encoded data removed]",
      "text/plain": [
       "<Figure size 432x288 with 1 Axes>"
      ]
     },
     "metadata": {
      "needs_background": "light"
     },
     "output_type": "display_data"
    }
   ],
   "source": [
    "train_wind.boxplot()"
   ]
  },
  {
   "cell_type": "markdown",
   "metadata": {},
   "source": [
    "# Temperature "
   ]
  },
  {
   "cell_type": "code",
   "execution_count": 30,
   "metadata": {},
   "outputs": [],
   "source": [
    "#q1=np.percentile(train_wind.Temperature, 25)\n",
    "#q3=np.percentile(train_wind.Temperature, 75)"
   ]
  },
  {
   "cell_type": "code",
   "execution_count": 31,
   "metadata": {},
   "outputs": [],
   "source": [
    "#iqr=q3-q1\n",
    "\n",
    "#upper=q3+1*iqr\n",
    "#lower=q3-2*iqr"
   ]
  },
  {
   "cell_type": "code",
   "execution_count": 32,
   "metadata": {},
   "outputs": [],
   "source": [
    "#len(train_wind[train_wind.Temperature < lower])"
   ]
  },
  {
   "cell_type": "code",
   "execution_count": 33,
   "metadata": {},
   "outputs": [],
   "source": [
    "#train_temperature=train_wind[train_wind.Temperature< upper]\n",
    "#train_temperature.shape"
   ]
  },
  {
   "cell_type": "code",
   "execution_count": 34,
   "metadata": {},
   "outputs": [],
   "source": [
    "#train_temperature.boxplot()"
   ]
  },
  {
   "cell_type": "code",
   "execution_count": null,
   "metadata": {},
   "outputs": [],
   "source": []
  },
  {
   "cell_type": "code",
   "execution_count": null,
   "metadata": {},
   "outputs": [],
   "source": []
  },
  {
   "cell_type": "markdown",
   "metadata": {},
   "source": [
    "# H2O setup"
   ]
  },
  {
   "cell_type": "code",
   "execution_count": 35,
   "metadata": {},
   "outputs": [],
   "source": [
    "#df_train.to_csv('solar_train_clean.csv')\n",
    "#train_outlers.to_csv('solar_train_clean.csv')\n",
    "#train_speed.to_csv('solar_train_clean.csv')\n",
    "train_wind.to_csv('solar_train_clean.csv')\n",
    "#train_temperature.to_csv('solar_train_clean.csv')"
   ]
  },
  {
   "cell_type": "code",
   "execution_count": 36,
   "metadata": {},
   "outputs": [
    {
     "data": {
      "text/html": [
       "<div>\n",
       "<style scoped>\n",
       "    .dataframe tbody tr th:only-of-type {\n",
       "        vertical-align: middle;\n",
       "    }\n",
       "\n",
       "    .dataframe tbody tr th {\n",
       "        vertical-align: top;\n",
       "    }\n",
       "\n",
       "    .dataframe thead th {\n",
       "        text-align: right;\n",
       "    }\n",
       "</style>\n",
       "<table border=\"1\" class=\"dataframe\">\n",
       "  <thead>\n",
       "    <tr style=\"text-align: right;\">\n",
       "      <th></th>\n",
       "      <th>UNIXTime</th>\n",
       "      <th>Radiation</th>\n",
       "      <th>Temperature</th>\n",
       "      <th>Pressure</th>\n",
       "      <th>Humidity</th>\n",
       "      <th>WindDirection(Degrees)</th>\n",
       "      <th>Speed</th>\n",
       "      <th>TimeSunRise</th>\n",
       "      <th>TimeSunSet</th>\n",
       "    </tr>\n",
       "  </thead>\n",
       "  <tbody>\n",
       "    <tr>\n",
       "      <th>0</th>\n",
       "      <td>1475175023</td>\n",
       "      <td>634.99</td>\n",
       "      <td>61</td>\n",
       "      <td>30.46</td>\n",
       "      <td>41</td>\n",
       "      <td>14.96</td>\n",
       "      <td>6.75</td>\n",
       "      <td>06:13:00</td>\n",
       "      <td>18:13:00</td>\n",
       "    </tr>\n",
       "    <tr>\n",
       "      <th>1</th>\n",
       "      <td>1481799902</td>\n",
       "      <td>1.27</td>\n",
       "      <td>37</td>\n",
       "      <td>30.26</td>\n",
       "      <td>70</td>\n",
       "      <td>207.43</td>\n",
       "      <td>5.62</td>\n",
       "      <td>06:50:00</td>\n",
       "      <td>17:46:00</td>\n",
       "    </tr>\n",
       "    <tr>\n",
       "      <th>2</th>\n",
       "      <td>1478339417</td>\n",
       "      <td>1.21</td>\n",
       "      <td>47</td>\n",
       "      <td>30.49</td>\n",
       "      <td>33</td>\n",
       "      <td>168.20</td>\n",
       "      <td>5.62</td>\n",
       "      <td>06:25:00</td>\n",
       "      <td>17:47:00</td>\n",
       "    </tr>\n",
       "    <tr>\n",
       "      <th>3</th>\n",
       "      <td>1472887208</td>\n",
       "      <td>1.67</td>\n",
       "      <td>54</td>\n",
       "      <td>30.46</td>\n",
       "      <td>101</td>\n",
       "      <td>152.60</td>\n",
       "      <td>3.37</td>\n",
       "      <td>06:07:00</td>\n",
       "      <td>18:37:00</td>\n",
       "    </tr>\n",
       "    <tr>\n",
       "      <th>4</th>\n",
       "      <td>1478724901</td>\n",
       "      <td>839.78</td>\n",
       "      <td>62</td>\n",
       "      <td>30.47</td>\n",
       "      <td>36</td>\n",
       "      <td>291.95</td>\n",
       "      <td>7.87</td>\n",
       "      <td>06:28:00</td>\n",
       "      <td>17:45:00</td>\n",
       "    </tr>\n",
       "    <tr>\n",
       "      <th>...</th>\n",
       "      <td>...</td>\n",
       "      <td>...</td>\n",
       "      <td>...</td>\n",
       "      <td>...</td>\n",
       "      <td>...</td>\n",
       "      <td>...</td>\n",
       "      <td>...</td>\n",
       "      <td>...</td>\n",
       "      <td>...</td>\n",
       "    </tr>\n",
       "    <tr>\n",
       "      <th>24509</th>\n",
       "      <td>1481676309</td>\n",
       "      <td>216.29</td>\n",
       "      <td>50</td>\n",
       "      <td>30.28</td>\n",
       "      <td>96</td>\n",
       "      <td>304.22</td>\n",
       "      <td>12.37</td>\n",
       "      <td>06:48:00</td>\n",
       "      <td>17:45:00</td>\n",
       "    </tr>\n",
       "    <tr>\n",
       "      <th>24510</th>\n",
       "      <td>1473426025</td>\n",
       "      <td>1.47</td>\n",
       "      <td>44</td>\n",
       "      <td>30.37</td>\n",
       "      <td>100</td>\n",
       "      <td>162.80</td>\n",
       "      <td>3.37</td>\n",
       "      <td>06:09:00</td>\n",
       "      <td>18:31:00</td>\n",
       "    </tr>\n",
       "    <tr>\n",
       "      <th>24511</th>\n",
       "      <td>1474966519</td>\n",
       "      <td>1.20</td>\n",
       "      <td>48</td>\n",
       "      <td>30.42</td>\n",
       "      <td>64</td>\n",
       "      <td>158.90</td>\n",
       "      <td>4.50</td>\n",
       "      <td>06:12:00</td>\n",
       "      <td>18:15:00</td>\n",
       "    </tr>\n",
       "    <tr>\n",
       "      <th>24512</th>\n",
       "      <td>1475451021</td>\n",
       "      <td>659.12</td>\n",
       "      <td>56</td>\n",
       "      <td>30.42</td>\n",
       "      <td>99</td>\n",
       "      <td>55.72</td>\n",
       "      <td>13.50</td>\n",
       "      <td>06:14:00</td>\n",
       "      <td>18:10:00</td>\n",
       "    </tr>\n",
       "    <tr>\n",
       "      <th>24513</th>\n",
       "      <td>1478255721</td>\n",
       "      <td>1.18</td>\n",
       "      <td>45</td>\n",
       "      <td>30.45</td>\n",
       "      <td>56</td>\n",
       "      <td>136.11</td>\n",
       "      <td>5.62</td>\n",
       "      <td>06:25:00</td>\n",
       "      <td>17:47:00</td>\n",
       "    </tr>\n",
       "  </tbody>\n",
       "</table>\n",
       "<p>24418 rows × 9 columns</p>\n",
       "</div>"
      ],
      "text/plain": [
       "         UNIXTime  Radiation  Temperature  Pressure  Humidity  \\\n",
       "0      1475175023     634.99           61     30.46        41   \n",
       "1      1481799902       1.27           37     30.26        70   \n",
       "2      1478339417       1.21           47     30.49        33   \n",
       "3      1472887208       1.67           54     30.46       101   \n",
       "4      1478724901     839.78           62     30.47        36   \n",
       "...           ...        ...          ...       ...       ...   \n",
       "24509  1481676309     216.29           50     30.28        96   \n",
       "24510  1473426025       1.47           44     30.37       100   \n",
       "24511  1474966519       1.20           48     30.42        64   \n",
       "24512  1475451021     659.12           56     30.42        99   \n",
       "24513  1478255721       1.18           45     30.45        56   \n",
       "\n",
       "       WindDirection(Degrees)  Speed TimeSunRise TimeSunSet  \n",
       "0                       14.96   6.75    06:13:00   18:13:00  \n",
       "1                      207.43   5.62    06:50:00   17:46:00  \n",
       "2                      168.20   5.62    06:25:00   17:47:00  \n",
       "3                      152.60   3.37    06:07:00   18:37:00  \n",
       "4                      291.95   7.87    06:28:00   17:45:00  \n",
       "...                       ...    ...         ...        ...  \n",
       "24509                  304.22  12.37    06:48:00   17:45:00  \n",
       "24510                  162.80   3.37    06:09:00   18:31:00  \n",
       "24511                  158.90   4.50    06:12:00   18:15:00  \n",
       "24512                   55.72  13.50    06:14:00   18:10:00  \n",
       "24513                  136.11   5.62    06:25:00   17:47:00  \n",
       "\n",
       "[24418 rows x 9 columns]"
      ]
     },
     "execution_count": 36,
     "metadata": {},
     "output_type": "execute_result"
    }
   ],
   "source": [
    "#df_train\n",
    "#train_outlers\n",
    "#train_speed\n",
    "train_wind\n",
    "#train_temperature"
   ]
  },
  {
   "cell_type": "code",
   "execution_count": 37,
   "metadata": {},
   "outputs": [],
   "source": [
    "df_test=pd.read_csv(\"solar_test.csv\")"
   ]
  },
  {
   "cell_type": "code",
   "execution_count": 38,
   "metadata": {},
   "outputs": [],
   "source": [
    "df_test.drop(columns =['Data','Time', 'id'], inplace = True)"
   ]
  },
  {
   "cell_type": "code",
   "execution_count": 39,
   "metadata": {},
   "outputs": [],
   "source": [
    "#df_test.Data =  pd.to_datetime(df_test.Data)"
   ]
  },
  {
   "cell_type": "code",
   "execution_count": 40,
   "metadata": {},
   "outputs": [],
   "source": [
    "df_test.to_csv('solar_test_clean.csv')"
   ]
  },
  {
   "cell_type": "code",
   "execution_count": 41,
   "metadata": {},
   "outputs": [
    {
     "data": {
      "text/html": [
       "<div>\n",
       "<style scoped>\n",
       "    .dataframe tbody tr th:only-of-type {\n",
       "        vertical-align: middle;\n",
       "    }\n",
       "\n",
       "    .dataframe tbody tr th {\n",
       "        vertical-align: top;\n",
       "    }\n",
       "\n",
       "    .dataframe thead th {\n",
       "        text-align: right;\n",
       "    }\n",
       "</style>\n",
       "<table border=\"1\" class=\"dataframe\">\n",
       "  <thead>\n",
       "    <tr style=\"text-align: right;\">\n",
       "      <th></th>\n",
       "      <th>UNIXTime</th>\n",
       "      <th>Temperature</th>\n",
       "      <th>Pressure</th>\n",
       "      <th>Humidity</th>\n",
       "      <th>WindDirection(Degrees)</th>\n",
       "      <th>Speed</th>\n",
       "      <th>TimeSunRise</th>\n",
       "      <th>TimeSunSet</th>\n",
       "    </tr>\n",
       "  </thead>\n",
       "  <tbody>\n",
       "    <tr>\n",
       "      <th>0</th>\n",
       "      <td>1478720107</td>\n",
       "      <td>59</td>\n",
       "      <td>30.47</td>\n",
       "      <td>44</td>\n",
       "      <td>312.67</td>\n",
       "      <td>3.37</td>\n",
       "      <td>06:28:00</td>\n",
       "      <td>17:45:00</td>\n",
       "    </tr>\n",
       "    <tr>\n",
       "      <th>1</th>\n",
       "      <td>1474063503</td>\n",
       "      <td>59</td>\n",
       "      <td>30.48</td>\n",
       "      <td>83</td>\n",
       "      <td>38.01</td>\n",
       "      <td>6.75</td>\n",
       "      <td>06:10:00</td>\n",
       "      <td>18:25:00</td>\n",
       "    </tr>\n",
       "    <tr>\n",
       "      <th>2</th>\n",
       "      <td>1476109221</td>\n",
       "      <td>47</td>\n",
       "      <td>30.39</td>\n",
       "      <td>78</td>\n",
       "      <td>213.62</td>\n",
       "      <td>5.62</td>\n",
       "      <td>06:16:00</td>\n",
       "      <td>18:03:00</td>\n",
       "    </tr>\n",
       "    <tr>\n",
       "      <th>3</th>\n",
       "      <td>1481475056</td>\n",
       "      <td>45</td>\n",
       "      <td>30.40</td>\n",
       "      <td>98</td>\n",
       "      <td>176.63</td>\n",
       "      <td>4.50</td>\n",
       "      <td>06:47:00</td>\n",
       "      <td>17:44:00</td>\n",
       "    </tr>\n",
       "    <tr>\n",
       "      <th>4</th>\n",
       "      <td>1477493117</td>\n",
       "      <td>45</td>\n",
       "      <td>30.40</td>\n",
       "      <td>34</td>\n",
       "      <td>175.89</td>\n",
       "      <td>6.75</td>\n",
       "      <td>06:21:00</td>\n",
       "      <td>17:52:00</td>\n",
       "    </tr>\n",
       "    <tr>\n",
       "      <th>...</th>\n",
       "      <td>...</td>\n",
       "      <td>...</td>\n",
       "      <td>...</td>\n",
       "      <td>...</td>\n",
       "      <td>...</td>\n",
       "      <td>...</td>\n",
       "      <td>...</td>\n",
       "      <td>...</td>\n",
       "    </tr>\n",
       "    <tr>\n",
       "      <th>8167</th>\n",
       "      <td>1477777520</td>\n",
       "      <td>51</td>\n",
       "      <td>30.42</td>\n",
       "      <td>101</td>\n",
       "      <td>336.56</td>\n",
       "      <td>5.62</td>\n",
       "      <td>06:23:00</td>\n",
       "      <td>17:50:00</td>\n",
       "    </tr>\n",
       "    <tr>\n",
       "      <th>8168</th>\n",
       "      <td>1481286949</td>\n",
       "      <td>45</td>\n",
       "      <td>30.36</td>\n",
       "      <td>70</td>\n",
       "      <td>204.75</td>\n",
       "      <td>4.50</td>\n",
       "      <td>06:46:00</td>\n",
       "      <td>17:44:00</td>\n",
       "    </tr>\n",
       "    <tr>\n",
       "      <th>8169</th>\n",
       "      <td>1476376223</td>\n",
       "      <td>49</td>\n",
       "      <td>30.46</td>\n",
       "      <td>43</td>\n",
       "      <td>155.70</td>\n",
       "      <td>12.37</td>\n",
       "      <td>06:17:00</td>\n",
       "      <td>18:01:00</td>\n",
       "    </tr>\n",
       "    <tr>\n",
       "      <th>8170</th>\n",
       "      <td>1480320620</td>\n",
       "      <td>47</td>\n",
       "      <td>30.47</td>\n",
       "      <td>39</td>\n",
       "      <td>156.22</td>\n",
       "      <td>12.37</td>\n",
       "      <td>06:38:00</td>\n",
       "      <td>17:42:00</td>\n",
       "    </tr>\n",
       "    <tr>\n",
       "      <th>8171</th>\n",
       "      <td>1478466007</td>\n",
       "      <td>65</td>\n",
       "      <td>30.49</td>\n",
       "      <td>24</td>\n",
       "      <td>22.11</td>\n",
       "      <td>7.87</td>\n",
       "      <td>06:26:00</td>\n",
       "      <td>17:46:00</td>\n",
       "    </tr>\n",
       "  </tbody>\n",
       "</table>\n",
       "<p>8172 rows × 8 columns</p>\n",
       "</div>"
      ],
      "text/plain": [
       "        UNIXTime  Temperature  Pressure  Humidity  WindDirection(Degrees)  \\\n",
       "0     1478720107           59     30.47        44                  312.67   \n",
       "1     1474063503           59     30.48        83                   38.01   \n",
       "2     1476109221           47     30.39        78                  213.62   \n",
       "3     1481475056           45     30.40        98                  176.63   \n",
       "4     1477493117           45     30.40        34                  175.89   \n",
       "...          ...          ...       ...       ...                     ...   \n",
       "8167  1477777520           51     30.42       101                  336.56   \n",
       "8168  1481286949           45     30.36        70                  204.75   \n",
       "8169  1476376223           49     30.46        43                  155.70   \n",
       "8170  1480320620           47     30.47        39                  156.22   \n",
       "8171  1478466007           65     30.49        24                   22.11   \n",
       "\n",
       "      Speed TimeSunRise TimeSunSet  \n",
       "0      3.37    06:28:00   17:45:00  \n",
       "1      6.75    06:10:00   18:25:00  \n",
       "2      5.62    06:16:00   18:03:00  \n",
       "3      4.50    06:47:00   17:44:00  \n",
       "4      6.75    06:21:00   17:52:00  \n",
       "...     ...         ...        ...  \n",
       "8167   5.62    06:23:00   17:50:00  \n",
       "8168   4.50    06:46:00   17:44:00  \n",
       "8169  12.37    06:17:00   18:01:00  \n",
       "8170  12.37    06:38:00   17:42:00  \n",
       "8171   7.87    06:26:00   17:46:00  \n",
       "\n",
       "[8172 rows x 8 columns]"
      ]
     },
     "execution_count": 41,
     "metadata": {},
     "output_type": "execute_result"
    }
   ],
   "source": [
    "df_test"
   ]
  },
  {
   "cell_type": "code",
   "execution_count": 42,
   "metadata": {},
   "outputs": [
    {
     "name": "stdout",
     "output_type": "stream",
     "text": [
      "Parse progress: |█████████████████████████████████████████████████████████| 100%\n",
      "Parse progress: |█████████████████████████████████████████████████████████| 100%\n"
     ]
    }
   ],
   "source": [
    "# parsear datos a h2o\n",
    "train=h2o.import_file('solar_train_clean.csv')\n",
    "test=h2o.import_file('solar_test_clean.csv')\n",
    "\n",
    "\n",
    "X=train.columns\n",
    "y='Radiation'\n",
    "X.remove(y)"
   ]
  },
  {
   "cell_type": "code",
   "execution_count": 43,
   "metadata": {},
   "outputs": [],
   "source": [
    "# factor para clasificacion binaria\n",
    "\n",
    "#train[y]=train[y].asfactor()\n",
    "#test[y]=test[y].asfactor()"
   ]
  },
  {
   "cell_type": "code",
   "execution_count": 44,
   "metadata": {},
   "outputs": [
    {
     "name": "stdout",
     "output_type": "stream",
     "text": [
      "AutoML progress: |████████████████████████████████████████████████████████| 100%\n"
     ]
    }
   ],
   "source": [
    "# 10 modelos\n",
    "\n",
    "aml=H2OAutoML(max_models=12, seed=1)\n",
    "aml.train(x=X, y=y, training_frame=train)"
   ]
  },
  {
   "cell_type": "code",
   "execution_count": 45,
   "metadata": {},
   "outputs": [
    {
     "data": {
      "text/html": [
       "<table>\n",
       "<thead>\n",
       "<tr><th>model_id                                           </th><th style=\"text-align: right;\">  mean_residual_deviance</th><th style=\"text-align: right;\">    rmse</th><th style=\"text-align: right;\">     mse</th><th style=\"text-align: right;\">     mae</th><th style=\"text-align: right;\">    rmsle</th></tr>\n",
       "</thead>\n",
       "<tbody>\n",
       "<tr><td>StackedEnsemble_AllModels_AutoML_20200504_151328   </td><td style=\"text-align: right;\">                 9081.81</td><td style=\"text-align: right;\"> 95.2985</td><td style=\"text-align: right;\"> 9081.81</td><td style=\"text-align: right;\"> 51.6232</td><td style=\"text-align: right;\">nan      </td></tr>\n",
       "<tr><td>StackedEnsemble_BestOfFamily_AutoML_20200504_151328</td><td style=\"text-align: right;\">                 9504.5 </td><td style=\"text-align: right;\"> 97.4911</td><td style=\"text-align: right;\"> 9504.5 </td><td style=\"text-align: right;\"> 53.8135</td><td style=\"text-align: right;\">nan      </td></tr>\n",
       "<tr><td>XGBoost_3_AutoML_20200504_151328                   </td><td style=\"text-align: right;\">                10108.9 </td><td style=\"text-align: right;\">100.543 </td><td style=\"text-align: right;\">10108.9 </td><td style=\"text-align: right;\"> 57.8479</td><td style=\"text-align: right;\">nan      </td></tr>\n",
       "<tr><td>GBM_1_AutoML_20200504_151328                       </td><td style=\"text-align: right;\">                10134.3 </td><td style=\"text-align: right;\">100.669 </td><td style=\"text-align: right;\">10134.3 </td><td style=\"text-align: right;\"> 56.2493</td><td style=\"text-align: right;\">nan      </td></tr>\n",
       "<tr><td>GBM_2_AutoML_20200504_151328                       </td><td style=\"text-align: right;\">                10226   </td><td style=\"text-align: right;\">101.124 </td><td style=\"text-align: right;\">10226   </td><td style=\"text-align: right;\"> 56.175 </td><td style=\"text-align: right;\">nan      </td></tr>\n",
       "<tr><td>GBM_4_AutoML_20200504_151328                       </td><td style=\"text-align: right;\">                10377.4 </td><td style=\"text-align: right;\">101.869 </td><td style=\"text-align: right;\">10377.4 </td><td style=\"text-align: right;\"> 55.0601</td><td style=\"text-align: right;\">nan      </td></tr>\n",
       "<tr><td>GBM_3_AutoML_20200504_151328                       </td><td style=\"text-align: right;\">                10463.7 </td><td style=\"text-align: right;\">102.292 </td><td style=\"text-align: right;\">10463.7 </td><td style=\"text-align: right;\"> 56.5025</td><td style=\"text-align: right;\">nan      </td></tr>\n",
       "<tr><td>XGBoost_1_AutoML_20200504_151328                   </td><td style=\"text-align: right;\">                11450.5 </td><td style=\"text-align: right;\">107.007 </td><td style=\"text-align: right;\">11450.5 </td><td style=\"text-align: right;\"> 60.2055</td><td style=\"text-align: right;\">nan      </td></tr>\n",
       "<tr><td>XGBoost_2_AutoML_20200504_151328                   </td><td style=\"text-align: right;\">                11597.2 </td><td style=\"text-align: right;\">107.691 </td><td style=\"text-align: right;\">11597.2 </td><td style=\"text-align: right;\"> 63.1954</td><td style=\"text-align: right;\">nan      </td></tr>\n",
       "<tr><td>GBM_5_AutoML_20200504_151328                       </td><td style=\"text-align: right;\">                12197.5 </td><td style=\"text-align: right;\">110.442 </td><td style=\"text-align: right;\">12197.5 </td><td style=\"text-align: right;\"> 65.1641</td><td style=\"text-align: right;\">nan      </td></tr>\n",
       "<tr><td>DRF_1_AutoML_20200504_151328                       </td><td style=\"text-align: right;\">                12299.2 </td><td style=\"text-align: right;\">110.902 </td><td style=\"text-align: right;\">12299.2 </td><td style=\"text-align: right;\"> 59.8373</td><td style=\"text-align: right;\">  1.33143</td></tr>\n",
       "<tr><td>XRT_1_AutoML_20200504_151328                       </td><td style=\"text-align: right;\">                12671.4 </td><td style=\"text-align: right;\">112.568 </td><td style=\"text-align: right;\">12671.4 </td><td style=\"text-align: right;\"> 61.6417</td><td style=\"text-align: right;\">  1.38054</td></tr>\n",
       "<tr><td>DeepLearning_1_AutoML_20200504_151328              </td><td style=\"text-align: right;\">                28989.7 </td><td style=\"text-align: right;\">170.264 </td><td style=\"text-align: right;\">28989.7 </td><td style=\"text-align: right;\">110.066 </td><td style=\"text-align: right;\">nan      </td></tr>\n",
       "<tr><td>GLM_1_AutoML_20200504_151328                       </td><td style=\"text-align: right;\">                39993   </td><td style=\"text-align: right;\">199.983 </td><td style=\"text-align: right;\">39993   </td><td style=\"text-align: right;\">149.805 </td><td style=\"text-align: right;\">nan      </td></tr>\n",
       "</tbody>\n",
       "</table>"
      ]
     },
     "metadata": {},
     "output_type": "display_data"
    },
    {
     "data": {
      "text/plain": []
     },
     "execution_count": 45,
     "metadata": {},
     "output_type": "execute_result"
    }
   ],
   "source": [
    "lb=aml.leaderboard\n",
    "\n",
    "lb.head(rows=lb.nrows)"
   ]
  },
  {
   "cell_type": "code",
   "execution_count": 46,
   "metadata": {},
   "outputs": [
    {
     "name": "stdout",
     "output_type": "stream",
     "text": [
      "Model Details\n",
      "=============\n",
      "H2OStackedEnsembleEstimator :  Stacked Ensemble\n",
      "Model Key:  StackedEnsemble_AllModels_AutoML_20200504_151328\n",
      "\n",
      "No model summary for this model\n",
      "\n",
      "ModelMetricsRegressionGLM: stackedensemble\n",
      "** Reported on train data. **\n",
      "\n",
      "MSE: 2252.616205750892\n",
      "RMSE: 47.461734120772405\n",
      "MAE: 27.031321246471688\n",
      "RMSLE: NaN\n",
      "R^2: 0.977435267909593\n",
      "Mean Residual Deviance: 2252.616205750892\n",
      "Null degrees of freedom: 24417\n",
      "Residual degrees of freedom: 24411\n",
      "Null deviance: 2437626216.506666\n",
      "Residual deviance: 55004382.512025274\n",
      "AIC: 257814.52036304423\n",
      "\n",
      "ModelMetricsRegressionGLM: stackedensemble\n",
      "** Reported on cross-validation data. **\n",
      "\n",
      "MSE: 9081.808252796787\n",
      "RMSE: 95.29852177655636\n",
      "MAE: 51.623244910719954\n",
      "RMSLE: NaN\n",
      "R^2: 0.9090264157748543\n",
      "Mean Residual Deviance: 9081.808252796787\n",
      "Null degrees of freedom: 24417\n",
      "Residual degrees of freedom: 24411\n",
      "Null deviance: 2438182965.9108367\n",
      "Residual deviance: 221759593.91679195\n",
      "AIC: 291857.63252702705\n"
     ]
    },
    {
     "data": {
      "text/plain": []
     },
     "execution_count": 46,
     "metadata": {},
     "output_type": "execute_result"
    }
   ],
   "source": [
    "aml.leader  # mejor modelo"
   ]
  },
  {
   "cell_type": "code",
   "execution_count": 47,
   "metadata": {},
   "outputs": [
    {
     "name": "stdout",
     "output_type": "stream",
     "text": [
      "stackedensemble prediction progress: |████████████████████████████████████| 100%\n"
     ]
    },
    {
     "data": {
      "text/html": [
       "<table>\n",
       "<thead>\n",
       "<tr><th style=\"text-align: right;\">  predict</th></tr>\n",
       "</thead>\n",
       "<tbody>\n",
       "<tr><td style=\"text-align: right;\">652.672  </td></tr>\n",
       "<tr><td style=\"text-align: right;\">973.588  </td></tr>\n",
       "<tr><td style=\"text-align: right;\">  7.32639</td></tr>\n",
       "<tr><td style=\"text-align: right;\"> 10.8313 </td></tr>\n",
       "<tr><td style=\"text-align: right;\"> -1.02117</td></tr>\n",
       "<tr><td style=\"text-align: right;\">269.327  </td></tr>\n",
       "<tr><td style=\"text-align: right;\">-41.5628 </td></tr>\n",
       "<tr><td style=\"text-align: right;\"> 10.8763 </td></tr>\n",
       "<tr><td style=\"text-align: right;\">699.246  </td></tr>\n",
       "<tr><td style=\"text-align: right;\">150.288  </td></tr>\n",
       "</tbody>\n",
       "</table>"
      ]
     },
     "metadata": {},
     "output_type": "display_data"
    },
    {
     "data": {
      "text/plain": []
     },
     "execution_count": 47,
     "metadata": {},
     "output_type": "execute_result"
    }
   ],
   "source": [
    "pred=aml.leader.predict(test)\n",
    "\n",
    "pred"
   ]
  },
  {
   "cell_type": "code",
   "execution_count": 48,
   "metadata": {},
   "outputs": [
    {
     "data": {
      "text/html": [
       "<table>\n",
       "<thead>\n",
       "<tr><th style=\"text-align: right;\">  C1</th><th style=\"text-align: right;\">   UNIXTime</th><th style=\"text-align: right;\">  Temperature</th><th style=\"text-align: right;\">  Pressure</th><th style=\"text-align: right;\">  Humidity</th><th style=\"text-align: right;\">  WindDirection(Degrees)</th><th style=\"text-align: right;\">  Speed</th><th>TimeSunRise        </th><th>TimeSunSet         </th></tr>\n",
       "</thead>\n",
       "<tbody>\n",
       "<tr><td style=\"text-align: right;\">   0</td><td style=\"text-align: right;\">1.47872e+09</td><td style=\"text-align: right;\">           59</td><td style=\"text-align: right;\">     30.47</td><td style=\"text-align: right;\">        44</td><td style=\"text-align: right;\">                  312.67</td><td style=\"text-align: right;\">   3.37</td><td>1970-01-01 06:28:00</td><td>1970-01-01 17:45:00</td></tr>\n",
       "<tr><td style=\"text-align: right;\">   1</td><td style=\"text-align: right;\">1.47406e+09</td><td style=\"text-align: right;\">           59</td><td style=\"text-align: right;\">     30.48</td><td style=\"text-align: right;\">        83</td><td style=\"text-align: right;\">                   38.01</td><td style=\"text-align: right;\">   6.75</td><td>1970-01-01 06:10:00</td><td>1970-01-01 18:25:00</td></tr>\n",
       "<tr><td style=\"text-align: right;\">   2</td><td style=\"text-align: right;\">1.47611e+09</td><td style=\"text-align: right;\">           47</td><td style=\"text-align: right;\">     30.39</td><td style=\"text-align: right;\">        78</td><td style=\"text-align: right;\">                  213.62</td><td style=\"text-align: right;\">   5.62</td><td>1970-01-01 06:16:00</td><td>1970-01-01 18:03:00</td></tr>\n",
       "<tr><td style=\"text-align: right;\">   3</td><td style=\"text-align: right;\">1.48148e+09</td><td style=\"text-align: right;\">           45</td><td style=\"text-align: right;\">     30.4 </td><td style=\"text-align: right;\">        98</td><td style=\"text-align: right;\">                  176.63</td><td style=\"text-align: right;\">   4.5 </td><td>1970-01-01 06:47:00</td><td>1970-01-01 17:44:00</td></tr>\n",
       "<tr><td style=\"text-align: right;\">   4</td><td style=\"text-align: right;\">1.47749e+09</td><td style=\"text-align: right;\">           45</td><td style=\"text-align: right;\">     30.4 </td><td style=\"text-align: right;\">        34</td><td style=\"text-align: right;\">                  175.89</td><td style=\"text-align: right;\">   6.75</td><td>1970-01-01 06:21:00</td><td>1970-01-01 17:52:00</td></tr>\n",
       "<tr><td style=\"text-align: right;\">   5</td><td style=\"text-align: right;\">1.47647e+09</td><td style=\"text-align: right;\">           60</td><td style=\"text-align: right;\">     30.46</td><td style=\"text-align: right;\">        37</td><td style=\"text-align: right;\">                    5.2 </td><td style=\"text-align: right;\">   3.37</td><td>1970-01-01 06:17:00</td><td>1970-01-01 18:00:00</td></tr>\n",
       "<tr><td style=\"text-align: right;\">   6</td><td style=\"text-align: right;\">1.48152e+09</td><td style=\"text-align: right;\">           49</td><td style=\"text-align: right;\">     30.39</td><td style=\"text-align: right;\">       101</td><td style=\"text-align: right;\">                  342.02</td><td style=\"text-align: right;\">   2.25</td><td>1970-01-01 06:47:00</td><td>1970-01-01 17:44:00</td></tr>\n",
       "<tr><td style=\"text-align: right;\">   7</td><td style=\"text-align: right;\">1.47611e+09</td><td style=\"text-align: right;\">           48</td><td style=\"text-align: right;\">     30.39</td><td style=\"text-align: right;\">        81</td><td style=\"text-align: right;\">                  197.23</td><td style=\"text-align: right;\">  10.12</td><td>1970-01-01 06:16:00</td><td>1970-01-01 18:03:00</td></tr>\n",
       "<tr><td style=\"text-align: right;\">   8</td><td style=\"text-align: right;\">1.47736e+09</td><td style=\"text-align: right;\">           57</td><td style=\"text-align: right;\">     30.42</td><td style=\"text-align: right;\">        77</td><td style=\"text-align: right;\">                   10.33</td><td style=\"text-align: right;\">  12.37</td><td>1970-01-01 06:21:00</td><td>1970-01-01 17:53:00</td></tr>\n",
       "<tr><td style=\"text-align: right;\">   9</td><td style=\"text-align: right;\">1.48298e+09</td><td style=\"text-align: right;\">           48</td><td style=\"text-align: right;\">     30.34</td><td style=\"text-align: right;\">        98</td><td style=\"text-align: right;\">                   89.03</td><td style=\"text-align: right;\">   5.62</td><td>1970-01-01 06:56:00</td><td>1970-01-01 17:52:00</td></tr>\n",
       "</tbody>\n",
       "</table>"
      ]
     },
     "metadata": {},
     "output_type": "display_data"
    },
    {
     "data": {
      "text/plain": []
     },
     "execution_count": 48,
     "metadata": {},
     "output_type": "execute_result"
    }
   ],
   "source": [
    "test"
   ]
  },
  {
   "cell_type": "code",
   "execution_count": 49,
   "metadata": {},
   "outputs": [],
   "source": [
    "pred_as_pandas = h2o.as_list(pred) # pandas data frame is the default"
   ]
  },
  {
   "cell_type": "code",
   "execution_count": 50,
   "metadata": {},
   "outputs": [
    {
     "data": {
      "text/html": [
       "<div>\n",
       "<style scoped>\n",
       "    .dataframe tbody tr th:only-of-type {\n",
       "        vertical-align: middle;\n",
       "    }\n",
       "\n",
       "    .dataframe tbody tr th {\n",
       "        vertical-align: top;\n",
       "    }\n",
       "\n",
       "    .dataframe thead th {\n",
       "        text-align: right;\n",
       "    }\n",
       "</style>\n",
       "<table border=\"1\" class=\"dataframe\">\n",
       "  <thead>\n",
       "    <tr style=\"text-align: right;\">\n",
       "      <th></th>\n",
       "      <th>predict</th>\n",
       "    </tr>\n",
       "  </thead>\n",
       "  <tbody>\n",
       "    <tr>\n",
       "      <th>0</th>\n",
       "      <td>652.671946</td>\n",
       "    </tr>\n",
       "    <tr>\n",
       "      <th>1</th>\n",
       "      <td>973.588226</td>\n",
       "    </tr>\n",
       "    <tr>\n",
       "      <th>2</th>\n",
       "      <td>7.326391</td>\n",
       "    </tr>\n",
       "    <tr>\n",
       "      <th>3</th>\n",
       "      <td>10.831343</td>\n",
       "    </tr>\n",
       "    <tr>\n",
       "      <th>4</th>\n",
       "      <td>-1.021166</td>\n",
       "    </tr>\n",
       "    <tr>\n",
       "      <th>...</th>\n",
       "      <td>...</td>\n",
       "    </tr>\n",
       "    <tr>\n",
       "      <th>8167</th>\n",
       "      <td>337.692724</td>\n",
       "    </tr>\n",
       "    <tr>\n",
       "      <th>8168</th>\n",
       "      <td>-13.047459</td>\n",
       "    </tr>\n",
       "    <tr>\n",
       "      <th>8169</th>\n",
       "      <td>-11.550148</td>\n",
       "    </tr>\n",
       "    <tr>\n",
       "      <th>8170</th>\n",
       "      <td>-9.524529</td>\n",
       "    </tr>\n",
       "    <tr>\n",
       "      <th>8171</th>\n",
       "      <td>884.191210</td>\n",
       "    </tr>\n",
       "  </tbody>\n",
       "</table>\n",
       "<p>8172 rows × 1 columns</p>\n",
       "</div>"
      ],
      "text/plain": [
       "         predict\n",
       "0     652.671946\n",
       "1     973.588226\n",
       "2       7.326391\n",
       "3      10.831343\n",
       "4      -1.021166\n",
       "...          ...\n",
       "8167  337.692724\n",
       "8168  -13.047459\n",
       "8169  -11.550148\n",
       "8170   -9.524529\n",
       "8171  884.191210\n",
       "\n",
       "[8172 rows x 1 columns]"
      ]
     },
     "execution_count": 50,
     "metadata": {},
     "output_type": "execute_result"
    }
   ],
   "source": [
    "pred_as_pandas"
   ]
  },
  {
   "cell_type": "code",
   "execution_count": 51,
   "metadata": {},
   "outputs": [],
   "source": [
    "#pred_as_pandas['id'] = pred_as_pandas.index\n",
    "pred_as_pandas.insert(0, 'id', pred_as_pandas.index)"
   ]
  },
  {
   "cell_type": "code",
   "execution_count": 52,
   "metadata": {},
   "outputs": [
    {
     "data": {
      "text/html": [
       "<div>\n",
       "<style scoped>\n",
       "    .dataframe tbody tr th:only-of-type {\n",
       "        vertical-align: middle;\n",
       "    }\n",
       "\n",
       "    .dataframe tbody tr th {\n",
       "        vertical-align: top;\n",
       "    }\n",
       "\n",
       "    .dataframe thead th {\n",
       "        text-align: right;\n",
       "    }\n",
       "</style>\n",
       "<table border=\"1\" class=\"dataframe\">\n",
       "  <thead>\n",
       "    <tr style=\"text-align: right;\">\n",
       "      <th></th>\n",
       "      <th>id</th>\n",
       "      <th>predict</th>\n",
       "    </tr>\n",
       "  </thead>\n",
       "  <tbody>\n",
       "    <tr>\n",
       "      <th>0</th>\n",
       "      <td>0</td>\n",
       "      <td>652.671946</td>\n",
       "    </tr>\n",
       "    <tr>\n",
       "      <th>1</th>\n",
       "      <td>1</td>\n",
       "      <td>973.588226</td>\n",
       "    </tr>\n",
       "    <tr>\n",
       "      <th>2</th>\n",
       "      <td>2</td>\n",
       "      <td>7.326391</td>\n",
       "    </tr>\n",
       "    <tr>\n",
       "      <th>3</th>\n",
       "      <td>3</td>\n",
       "      <td>10.831343</td>\n",
       "    </tr>\n",
       "    <tr>\n",
       "      <th>4</th>\n",
       "      <td>4</td>\n",
       "      <td>-1.021166</td>\n",
       "    </tr>\n",
       "    <tr>\n",
       "      <th>...</th>\n",
       "      <td>...</td>\n",
       "      <td>...</td>\n",
       "    </tr>\n",
       "    <tr>\n",
       "      <th>8167</th>\n",
       "      <td>8167</td>\n",
       "      <td>337.692724</td>\n",
       "    </tr>\n",
       "    <tr>\n",
       "      <th>8168</th>\n",
       "      <td>8168</td>\n",
       "      <td>-13.047459</td>\n",
       "    </tr>\n",
       "    <tr>\n",
       "      <th>8169</th>\n",
       "      <td>8169</td>\n",
       "      <td>-11.550148</td>\n",
       "    </tr>\n",
       "    <tr>\n",
       "      <th>8170</th>\n",
       "      <td>8170</td>\n",
       "      <td>-9.524529</td>\n",
       "    </tr>\n",
       "    <tr>\n",
       "      <th>8171</th>\n",
       "      <td>8171</td>\n",
       "      <td>884.191210</td>\n",
       "    </tr>\n",
       "  </tbody>\n",
       "</table>\n",
       "<p>8172 rows × 2 columns</p>\n",
       "</div>"
      ],
      "text/plain": [
       "        id     predict\n",
       "0        0  652.671946\n",
       "1        1  973.588226\n",
       "2        2    7.326391\n",
       "3        3   10.831343\n",
       "4        4   -1.021166\n",
       "...    ...         ...\n",
       "8167  8167  337.692724\n",
       "8168  8168  -13.047459\n",
       "8169  8169  -11.550148\n",
       "8170  8170   -9.524529\n",
       "8171  8171  884.191210\n",
       "\n",
       "[8172 rows x 2 columns]"
      ]
     },
     "execution_count": 52,
     "metadata": {},
     "output_type": "execute_result"
    }
   ],
   "source": [
    "pred_as_pandas"
   ]
  },
  {
   "cell_type": "code",
   "execution_count": 53,
   "metadata": {},
   "outputs": [],
   "source": [
    "pred_as_pandas.rename(columns={'predict': 'Radiation'}, inplace=True)"
   ]
  },
  {
   "cell_type": "code",
   "execution_count": 54,
   "metadata": {},
   "outputs": [
    {
     "data": {
      "text/html": [
       "<div>\n",
       "<style scoped>\n",
       "    .dataframe tbody tr th:only-of-type {\n",
       "        vertical-align: middle;\n",
       "    }\n",
       "\n",
       "    .dataframe tbody tr th {\n",
       "        vertical-align: top;\n",
       "    }\n",
       "\n",
       "    .dataframe thead th {\n",
       "        text-align: right;\n",
       "    }\n",
       "</style>\n",
       "<table border=\"1\" class=\"dataframe\">\n",
       "  <thead>\n",
       "    <tr style=\"text-align: right;\">\n",
       "      <th></th>\n",
       "      <th>id</th>\n",
       "      <th>Radiation</th>\n",
       "    </tr>\n",
       "  </thead>\n",
       "  <tbody>\n",
       "    <tr>\n",
       "      <th>0</th>\n",
       "      <td>0</td>\n",
       "      <td>652.671946</td>\n",
       "    </tr>\n",
       "    <tr>\n",
       "      <th>1</th>\n",
       "      <td>1</td>\n",
       "      <td>973.588226</td>\n",
       "    </tr>\n",
       "    <tr>\n",
       "      <th>2</th>\n",
       "      <td>2</td>\n",
       "      <td>7.326391</td>\n",
       "    </tr>\n",
       "    <tr>\n",
       "      <th>3</th>\n",
       "      <td>3</td>\n",
       "      <td>10.831343</td>\n",
       "    </tr>\n",
       "    <tr>\n",
       "      <th>4</th>\n",
       "      <td>4</td>\n",
       "      <td>-1.021166</td>\n",
       "    </tr>\n",
       "    <tr>\n",
       "      <th>...</th>\n",
       "      <td>...</td>\n",
       "      <td>...</td>\n",
       "    </tr>\n",
       "    <tr>\n",
       "      <th>8167</th>\n",
       "      <td>8167</td>\n",
       "      <td>337.692724</td>\n",
       "    </tr>\n",
       "    <tr>\n",
       "      <th>8168</th>\n",
       "      <td>8168</td>\n",
       "      <td>-13.047459</td>\n",
       "    </tr>\n",
       "    <tr>\n",
       "      <th>8169</th>\n",
       "      <td>8169</td>\n",
       "      <td>-11.550148</td>\n",
       "    </tr>\n",
       "    <tr>\n",
       "      <th>8170</th>\n",
       "      <td>8170</td>\n",
       "      <td>-9.524529</td>\n",
       "    </tr>\n",
       "    <tr>\n",
       "      <th>8171</th>\n",
       "      <td>8171</td>\n",
       "      <td>884.191210</td>\n",
       "    </tr>\n",
       "  </tbody>\n",
       "</table>\n",
       "<p>8172 rows × 2 columns</p>\n",
       "</div>"
      ],
      "text/plain": [
       "        id   Radiation\n",
       "0        0  652.671946\n",
       "1        1  973.588226\n",
       "2        2    7.326391\n",
       "3        3   10.831343\n",
       "4        4   -1.021166\n",
       "...    ...         ...\n",
       "8167  8167  337.692724\n",
       "8168  8168  -13.047459\n",
       "8169  8169  -11.550148\n",
       "8170  8170   -9.524529\n",
       "8171  8171  884.191210\n",
       "\n",
       "[8172 rows x 2 columns]"
      ]
     },
     "execution_count": 54,
     "metadata": {},
     "output_type": "execute_result"
    }
   ],
   "source": [
    "pred_as_pandas"
   ]
  },
  {
   "cell_type": "code",
   "execution_count": 55,
   "metadata": {},
   "outputs": [],
   "source": [
    "pred_as_pandas.to_csv('submission_1.csv')"
   ]
  },
  {
   "cell_type": "code",
   "execution_count": 56,
   "metadata": {},
   "outputs": [],
   "source": [
    "kaggle=pd.read_csv(\"submission_1.csv\")\n",
    "kaggle.drop(columns =['Unnamed: 0'], inplace = True)\n"
   ]
  },
  {
   "cell_type": "code",
   "execution_count": 57,
   "metadata": {},
   "outputs": [
    {
     "data": {
      "text/html": [
       "<div>\n",
       "<style scoped>\n",
       "    .dataframe tbody tr th:only-of-type {\n",
       "        vertical-align: middle;\n",
       "    }\n",
       "\n",
       "    .dataframe tbody tr th {\n",
       "        vertical-align: top;\n",
       "    }\n",
       "\n",
       "    .dataframe thead th {\n",
       "        text-align: right;\n",
       "    }\n",
       "</style>\n",
       "<table border=\"1\" class=\"dataframe\">\n",
       "  <thead>\n",
       "    <tr style=\"text-align: right;\">\n",
       "      <th></th>\n",
       "      <th>id</th>\n",
       "      <th>Radiation</th>\n",
       "    </tr>\n",
       "  </thead>\n",
       "  <tbody>\n",
       "    <tr>\n",
       "      <th>0</th>\n",
       "      <td>0</td>\n",
       "      <td>652.671946</td>\n",
       "    </tr>\n",
       "    <tr>\n",
       "      <th>1</th>\n",
       "      <td>1</td>\n",
       "      <td>973.588226</td>\n",
       "    </tr>\n",
       "    <tr>\n",
       "      <th>2</th>\n",
       "      <td>2</td>\n",
       "      <td>7.326391</td>\n",
       "    </tr>\n",
       "    <tr>\n",
       "      <th>3</th>\n",
       "      <td>3</td>\n",
       "      <td>10.831343</td>\n",
       "    </tr>\n",
       "    <tr>\n",
       "      <th>4</th>\n",
       "      <td>4</td>\n",
       "      <td>-1.021166</td>\n",
       "    </tr>\n",
       "    <tr>\n",
       "      <th>...</th>\n",
       "      <td>...</td>\n",
       "      <td>...</td>\n",
       "    </tr>\n",
       "    <tr>\n",
       "      <th>8167</th>\n",
       "      <td>8167</td>\n",
       "      <td>337.692724</td>\n",
       "    </tr>\n",
       "    <tr>\n",
       "      <th>8168</th>\n",
       "      <td>8168</td>\n",
       "      <td>-13.047459</td>\n",
       "    </tr>\n",
       "    <tr>\n",
       "      <th>8169</th>\n",
       "      <td>8169</td>\n",
       "      <td>-11.550148</td>\n",
       "    </tr>\n",
       "    <tr>\n",
       "      <th>8170</th>\n",
       "      <td>8170</td>\n",
       "      <td>-9.524529</td>\n",
       "    </tr>\n",
       "    <tr>\n",
       "      <th>8171</th>\n",
       "      <td>8171</td>\n",
       "      <td>884.191210</td>\n",
       "    </tr>\n",
       "  </tbody>\n",
       "</table>\n",
       "<p>8172 rows × 2 columns</p>\n",
       "</div>"
      ],
      "text/plain": [
       "        id   Radiation\n",
       "0        0  652.671946\n",
       "1        1  973.588226\n",
       "2        2    7.326391\n",
       "3        3   10.831343\n",
       "4        4   -1.021166\n",
       "...    ...         ...\n",
       "8167  8167  337.692724\n",
       "8168  8168  -13.047459\n",
       "8169  8169  -11.550148\n",
       "8170  8170   -9.524529\n",
       "8171  8171  884.191210\n",
       "\n",
       "[8172 rows x 2 columns]"
      ]
     },
     "execution_count": 57,
     "metadata": {},
     "output_type": "execute_result"
    }
   ],
   "source": [
    "kaggle"
   ]
  },
  {
   "cell_type": "code",
   "execution_count": 58,
   "metadata": {},
   "outputs": [],
   "source": [
    "kaggle.to_csv('submission_1.csv')"
   ]
  },
  {
   "cell_type": "code",
   "execution_count": null,
   "metadata": {},
   "outputs": [],
   "source": []
  },
  {
   "cell_type": "code",
   "execution_count": null,
   "metadata": {},
   "outputs": [],
   "source": []
  },
  {
   "cell_type": "code",
   "execution_count": null,
   "metadata": {},
   "outputs": [],
   "source": []
  }
 ],
 "metadata": {
  "kernelspec": {
   "display_name": "Python 3",
   "language": "python",
   "name": "python3"
  },
  "language_info": {
   "codemirror_mode": {
    "name": "ipython",
    "version": 3
   },
   "file_extension": ".py",
   "mimetype": "text/x-python",
   "name": "python",
   "nbconvert_exporter": "python",
   "pygments_lexer": "ipython3",
   "version": "3.7.7"
  }
 },
 "nbformat": 4,
 "nbformat_minor": 4
}
