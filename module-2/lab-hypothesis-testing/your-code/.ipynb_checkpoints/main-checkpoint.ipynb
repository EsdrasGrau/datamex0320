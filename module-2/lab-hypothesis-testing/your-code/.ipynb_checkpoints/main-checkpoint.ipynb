{
 "cells": [
  {
   "cell_type": "markdown",
   "metadata": {},
   "source": [
    "# Before your start:\n",
    "- Read the README.md file\n",
    "- Comment as much as you can and use the resources (README.md file)\n",
    "- Happy learning!"
   ]
  },
  {
   "cell_type": "code",
   "execution_count": 1,
   "metadata": {},
   "outputs": [],
   "source": [
    "# import numpy and pandas\n",
    "import numpy as np\n",
    "import pandas as pd\n",
    "\n"
   ]
  },
  {
   "cell_type": "markdown",
   "metadata": {},
   "source": [
    "# Challenge 1 - Exploring the Data\n",
    "\n",
    "In this challenge, we will examine all salaries of employees of the City of Chicago. We will start by loading the dataset and examining its contents"
   ]
  },
  {
   "cell_type": "code",
   "execution_count": 66,
   "metadata": {},
   "outputs": [],
   "source": [
    "# Run this code:\n",
    "\n",
    "salaries = pd.read_csv('../Current_Employee_Names__Salaries__and_Position_Titles.csv')"
   ]
  },
  {
   "cell_type": "markdown",
   "metadata": {},
   "source": [
    "Examine the `salaries` dataset using the `head` function below."
   ]
  },
  {
   "cell_type": "code",
   "execution_count": 67,
   "metadata": {},
   "outputs": [
    {
     "data": {
      "text/html": [
       "<div>\n",
       "<style scoped>\n",
       "    .dataframe tbody tr th:only-of-type {\n",
       "        vertical-align: middle;\n",
       "    }\n",
       "\n",
       "    .dataframe tbody tr th {\n",
       "        vertical-align: top;\n",
       "    }\n",
       "\n",
       "    .dataframe thead th {\n",
       "        text-align: right;\n",
       "    }\n",
       "</style>\n",
       "<table border=\"1\" class=\"dataframe\">\n",
       "  <thead>\n",
       "    <tr style=\"text-align: right;\">\n",
       "      <th></th>\n",
       "      <th>Name</th>\n",
       "      <th>Job Titles</th>\n",
       "      <th>Department</th>\n",
       "      <th>Full or Part-Time</th>\n",
       "      <th>Salary or Hourly</th>\n",
       "      <th>Typical Hours</th>\n",
       "      <th>Annual Salary</th>\n",
       "      <th>Hourly Rate</th>\n",
       "    </tr>\n",
       "  </thead>\n",
       "  <tbody>\n",
       "    <tr>\n",
       "      <th>0</th>\n",
       "      <td>AARON,  JEFFERY M</td>\n",
       "      <td>SERGEANT</td>\n",
       "      <td>POLICE</td>\n",
       "      <td>F</td>\n",
       "      <td>Salary</td>\n",
       "      <td>NaN</td>\n",
       "      <td>101442.0</td>\n",
       "      <td>NaN</td>\n",
       "    </tr>\n",
       "    <tr>\n",
       "      <th>1</th>\n",
       "      <td>AARON,  KARINA</td>\n",
       "      <td>POLICE OFFICER (ASSIGNED AS DETECTIVE)</td>\n",
       "      <td>POLICE</td>\n",
       "      <td>F</td>\n",
       "      <td>Salary</td>\n",
       "      <td>NaN</td>\n",
       "      <td>94122.0</td>\n",
       "      <td>NaN</td>\n",
       "    </tr>\n",
       "    <tr>\n",
       "      <th>2</th>\n",
       "      <td>AARON,  KIMBERLEI R</td>\n",
       "      <td>CHIEF CONTRACT EXPEDITER</td>\n",
       "      <td>GENERAL SERVICES</td>\n",
       "      <td>F</td>\n",
       "      <td>Salary</td>\n",
       "      <td>NaN</td>\n",
       "      <td>101592.0</td>\n",
       "      <td>NaN</td>\n",
       "    </tr>\n",
       "    <tr>\n",
       "      <th>3</th>\n",
       "      <td>ABAD JR,  VICENTE M</td>\n",
       "      <td>CIVIL ENGINEER IV</td>\n",
       "      <td>WATER MGMNT</td>\n",
       "      <td>F</td>\n",
       "      <td>Salary</td>\n",
       "      <td>NaN</td>\n",
       "      <td>110064.0</td>\n",
       "      <td>NaN</td>\n",
       "    </tr>\n",
       "    <tr>\n",
       "      <th>4</th>\n",
       "      <td>ABASCAL,  REECE E</td>\n",
       "      <td>TRAFFIC CONTROL AIDE-HOURLY</td>\n",
       "      <td>OEMC</td>\n",
       "      <td>P</td>\n",
       "      <td>Hourly</td>\n",
       "      <td>20.0</td>\n",
       "      <td>NaN</td>\n",
       "      <td>19.86</td>\n",
       "    </tr>\n",
       "    <tr>\n",
       "      <th>5</th>\n",
       "      <td>ABBASI,  CHRISTOPHER</td>\n",
       "      <td>STAFF ASST TO THE ALDERMAN</td>\n",
       "      <td>CITY COUNCIL</td>\n",
       "      <td>F</td>\n",
       "      <td>Salary</td>\n",
       "      <td>NaN</td>\n",
       "      <td>50436.0</td>\n",
       "      <td>NaN</td>\n",
       "    </tr>\n",
       "    <tr>\n",
       "      <th>6</th>\n",
       "      <td>ABBATACOLA,  ROBERT J</td>\n",
       "      <td>ELECTRICAL MECHANIC</td>\n",
       "      <td>AVIATION</td>\n",
       "      <td>F</td>\n",
       "      <td>Hourly</td>\n",
       "      <td>40.0</td>\n",
       "      <td>NaN</td>\n",
       "      <td>46.10</td>\n",
       "    </tr>\n",
       "    <tr>\n",
       "      <th>7</th>\n",
       "      <td>ABBATE,  JOSEPH L</td>\n",
       "      <td>POOL MOTOR TRUCK DRIVER</td>\n",
       "      <td>STREETS &amp; SAN</td>\n",
       "      <td>F</td>\n",
       "      <td>Hourly</td>\n",
       "      <td>40.0</td>\n",
       "      <td>NaN</td>\n",
       "      <td>35.60</td>\n",
       "    </tr>\n",
       "    <tr>\n",
       "      <th>8</th>\n",
       "      <td>ABBATEMARCO,  JAMES J</td>\n",
       "      <td>FIRE ENGINEER-EMT</td>\n",
       "      <td>FIRE</td>\n",
       "      <td>F</td>\n",
       "      <td>Salary</td>\n",
       "      <td>NaN</td>\n",
       "      <td>103350.0</td>\n",
       "      <td>NaN</td>\n",
       "    </tr>\n",
       "    <tr>\n",
       "      <th>9</th>\n",
       "      <td>ABBATE,  TERRY M</td>\n",
       "      <td>POLICE OFFICER</td>\n",
       "      <td>POLICE</td>\n",
       "      <td>F</td>\n",
       "      <td>Salary</td>\n",
       "      <td>NaN</td>\n",
       "      <td>93354.0</td>\n",
       "      <td>NaN</td>\n",
       "    </tr>\n",
       "    <tr>\n",
       "      <th>10</th>\n",
       "      <td>ABBOTT,  BETTY L</td>\n",
       "      <td>FOSTER GRANDPARENT</td>\n",
       "      <td>FAMILY &amp; SUPPORT</td>\n",
       "      <td>P</td>\n",
       "      <td>Hourly</td>\n",
       "      <td>20.0</td>\n",
       "      <td>NaN</td>\n",
       "      <td>2.65</td>\n",
       "    </tr>\n",
       "    <tr>\n",
       "      <th>11</th>\n",
       "      <td>ABDALLAH,  ZAID</td>\n",
       "      <td>POLICE OFFICER</td>\n",
       "      <td>POLICE</td>\n",
       "      <td>F</td>\n",
       "      <td>Salary</td>\n",
       "      <td>NaN</td>\n",
       "      <td>84054.0</td>\n",
       "      <td>NaN</td>\n",
       "    </tr>\n",
       "    <tr>\n",
       "      <th>12</th>\n",
       "      <td>ABDELHADI,  ABDALMAHD</td>\n",
       "      <td>POLICE OFFICER</td>\n",
       "      <td>POLICE</td>\n",
       "      <td>F</td>\n",
       "      <td>Salary</td>\n",
       "      <td>NaN</td>\n",
       "      <td>87006.0</td>\n",
       "      <td>NaN</td>\n",
       "    </tr>\n",
       "    <tr>\n",
       "      <th>13</th>\n",
       "      <td>ABDELLATIF,  AREF R</td>\n",
       "      <td>FIREFIGHTER (PER ARBITRATORS AWARD)-PARAMEDIC</td>\n",
       "      <td>FIRE</td>\n",
       "      <td>F</td>\n",
       "      <td>Salary</td>\n",
       "      <td>NaN</td>\n",
       "      <td>102228.0</td>\n",
       "      <td>NaN</td>\n",
       "    </tr>\n",
       "    <tr>\n",
       "      <th>14</th>\n",
       "      <td>ABDELMAJEID,  AZIZ</td>\n",
       "      <td>POLICE OFFICER</td>\n",
       "      <td>POLICE</td>\n",
       "      <td>F</td>\n",
       "      <td>Salary</td>\n",
       "      <td>NaN</td>\n",
       "      <td>84054.0</td>\n",
       "      <td>NaN</td>\n",
       "    </tr>\n",
       "    <tr>\n",
       "      <th>15</th>\n",
       "      <td>ABDOLLAHZADEH,  ALI</td>\n",
       "      <td>FIREFIGHTER/PARAMEDIC</td>\n",
       "      <td>FIRE</td>\n",
       "      <td>F</td>\n",
       "      <td>Salary</td>\n",
       "      <td>NaN</td>\n",
       "      <td>91272.0</td>\n",
       "      <td>NaN</td>\n",
       "    </tr>\n",
       "    <tr>\n",
       "      <th>16</th>\n",
       "      <td>ABDUL-KARIM,  MUHAMMAD A</td>\n",
       "      <td>ENGINEERING TECHNICIAN VI</td>\n",
       "      <td>WATER MGMNT</td>\n",
       "      <td>F</td>\n",
       "      <td>Salary</td>\n",
       "      <td>NaN</td>\n",
       "      <td>111492.0</td>\n",
       "      <td>NaN</td>\n",
       "    </tr>\n",
       "    <tr>\n",
       "      <th>17</th>\n",
       "      <td>ABDULLAH,  DANIEL N</td>\n",
       "      <td>FIREFIGHTER-EMT</td>\n",
       "      <td>FIRE</td>\n",
       "      <td>F</td>\n",
       "      <td>Salary</td>\n",
       "      <td>NaN</td>\n",
       "      <td>95484.0</td>\n",
       "      <td>NaN</td>\n",
       "    </tr>\n",
       "    <tr>\n",
       "      <th>18</th>\n",
       "      <td>ABDULLAH,  LAKENYA N</td>\n",
       "      <td>CROSSING GUARD</td>\n",
       "      <td>OEMC</td>\n",
       "      <td>P</td>\n",
       "      <td>Hourly</td>\n",
       "      <td>20.0</td>\n",
       "      <td>NaN</td>\n",
       "      <td>17.68</td>\n",
       "    </tr>\n",
       "    <tr>\n",
       "      <th>19</th>\n",
       "      <td>ABDULLAH,  RASHAD</td>\n",
       "      <td>ELECTRICAL MECHANIC (AUTOMOTIVE)</td>\n",
       "      <td>GENERAL SERVICES</td>\n",
       "      <td>F</td>\n",
       "      <td>Hourly</td>\n",
       "      <td>40.0</td>\n",
       "      <td>NaN</td>\n",
       "      <td>46.10</td>\n",
       "    </tr>\n",
       "    <tr>\n",
       "      <th>20</th>\n",
       "      <td>ABDULSATTAR,  MUDHAR</td>\n",
       "      <td>CIVIL ENGINEER II</td>\n",
       "      <td>WATER MGMNT</td>\n",
       "      <td>F</td>\n",
       "      <td>Salary</td>\n",
       "      <td>NaN</td>\n",
       "      <td>65448.0</td>\n",
       "      <td>NaN</td>\n",
       "    </tr>\n",
       "    <tr>\n",
       "      <th>21</th>\n",
       "      <td>ABDUL-SHAKUR,  TAHIR</td>\n",
       "      <td>GENERAL LABORER - DSS</td>\n",
       "      <td>STREETS &amp; SAN</td>\n",
       "      <td>F</td>\n",
       "      <td>Hourly</td>\n",
       "      <td>40.0</td>\n",
       "      <td>NaN</td>\n",
       "      <td>21.43</td>\n",
       "    </tr>\n",
       "    <tr>\n",
       "      <th>22</th>\n",
       "      <td>ABEJERO,  JASON V</td>\n",
       "      <td>POLICE OFFICER</td>\n",
       "      <td>POLICE</td>\n",
       "      <td>F</td>\n",
       "      <td>Salary</td>\n",
       "      <td>NaN</td>\n",
       "      <td>90024.0</td>\n",
       "      <td>NaN</td>\n",
       "    </tr>\n",
       "    <tr>\n",
       "      <th>23</th>\n",
       "      <td>ABERCROMBIE IV,  EARL S</td>\n",
       "      <td>PARAMEDIC I/C</td>\n",
       "      <td>FIRE</td>\n",
       "      <td>F</td>\n",
       "      <td>Salary</td>\n",
       "      <td>NaN</td>\n",
       "      <td>82614.0</td>\n",
       "      <td>NaN</td>\n",
       "    </tr>\n",
       "    <tr>\n",
       "      <th>24</th>\n",
       "      <td>ABERCROMBIE,  TIMOTHY</td>\n",
       "      <td>MOTOR TRUCK DRIVER</td>\n",
       "      <td>STREETS &amp; SAN</td>\n",
       "      <td>F</td>\n",
       "      <td>Hourly</td>\n",
       "      <td>40.0</td>\n",
       "      <td>NaN</td>\n",
       "      <td>35.60</td>\n",
       "    </tr>\n",
       "    <tr>\n",
       "      <th>25</th>\n",
       "      <td>ABFALL,  RICHARD C</td>\n",
       "      <td>POLICE OFFICER</td>\n",
       "      <td>POLICE</td>\n",
       "      <td>F</td>\n",
       "      <td>Salary</td>\n",
       "      <td>NaN</td>\n",
       "      <td>48078.0</td>\n",
       "      <td>NaN</td>\n",
       "    </tr>\n",
       "    <tr>\n",
       "      <th>26</th>\n",
       "      <td>ABIOYE,  ADEWOLE A</td>\n",
       "      <td>LIBRARY ASSOCIATE - HOURLY</td>\n",
       "      <td>PUBLIC LIBRARY</td>\n",
       "      <td>P</td>\n",
       "      <td>Hourly</td>\n",
       "      <td>20.0</td>\n",
       "      <td>NaN</td>\n",
       "      <td>25.10</td>\n",
       "    </tr>\n",
       "    <tr>\n",
       "      <th>27</th>\n",
       "      <td>ABNEY,  PATRICK</td>\n",
       "      <td>POLICE OFFICER</td>\n",
       "      <td>POLICE</td>\n",
       "      <td>F</td>\n",
       "      <td>Salary</td>\n",
       "      <td>NaN</td>\n",
       "      <td>76266.0</td>\n",
       "      <td>NaN</td>\n",
       "    </tr>\n",
       "    <tr>\n",
       "      <th>28</th>\n",
       "      <td>ABOUASSI,  CHADI</td>\n",
       "      <td>POLICE OFFICER</td>\n",
       "      <td>POLICE</td>\n",
       "      <td>F</td>\n",
       "      <td>Salary</td>\n",
       "      <td>NaN</td>\n",
       "      <td>48078.0</td>\n",
       "      <td>NaN</td>\n",
       "    </tr>\n",
       "    <tr>\n",
       "      <th>29</th>\n",
       "      <td>ABOUELKHEIR,  HASSAN A</td>\n",
       "      <td>SENIOR PROGRAMMER/ANALYST</td>\n",
       "      <td>FAMILY &amp; SUPPORT</td>\n",
       "      <td>F</td>\n",
       "      <td>Salary</td>\n",
       "      <td>NaN</td>\n",
       "      <td>110064.0</td>\n",
       "      <td>NaN</td>\n",
       "    </tr>\n",
       "    <tr>\n",
       "      <th>30</th>\n",
       "      <td>ABRAHAM,  GIRLEY T</td>\n",
       "      <td>CIVIL ENGINEER IV</td>\n",
       "      <td>WATER MGMNT</td>\n",
       "      <td>F</td>\n",
       "      <td>Salary</td>\n",
       "      <td>NaN</td>\n",
       "      <td>110064.0</td>\n",
       "      <td>NaN</td>\n",
       "    </tr>\n",
       "    <tr>\n",
       "      <th>31</th>\n",
       "      <td>ABRAHAM,  KELVIN</td>\n",
       "      <td>ENGINEERING TECHNICIAN V</td>\n",
       "      <td>TRANSPORTN</td>\n",
       "      <td>F</td>\n",
       "      <td>Salary</td>\n",
       "      <td>NaN</td>\n",
       "      <td>55644.0</td>\n",
       "      <td>NaN</td>\n",
       "    </tr>\n",
       "    <tr>\n",
       "      <th>32</th>\n",
       "      <td>ABRAHAM,  NANCY A</td>\n",
       "      <td>POLICE OFFICER</td>\n",
       "      <td>POLICE</td>\n",
       "      <td>F</td>\n",
       "      <td>Salary</td>\n",
       "      <td>NaN</td>\n",
       "      <td>80016.0</td>\n",
       "      <td>NaN</td>\n",
       "    </tr>\n",
       "    <tr>\n",
       "      <th>33</th>\n",
       "      <td>ABRAHAMSON,  MICHAEL C</td>\n",
       "      <td>STUDENT INTERN - MAYOR'S FELLOWS</td>\n",
       "      <td>MAYOR'S OFFICE</td>\n",
       "      <td>F</td>\n",
       "      <td>Hourly</td>\n",
       "      <td>35.0</td>\n",
       "      <td>NaN</td>\n",
       "      <td>20.00</td>\n",
       "    </tr>\n",
       "    <tr>\n",
       "      <th>34</th>\n",
       "      <td>ABRAM,  ANTHONY A</td>\n",
       "      <td>POLICE OFFICER</td>\n",
       "      <td>POLICE</td>\n",
       "      <td>F</td>\n",
       "      <td>Salary</td>\n",
       "      <td>NaN</td>\n",
       "      <td>72510.0</td>\n",
       "      <td>NaN</td>\n",
       "    </tr>\n",
       "    <tr>\n",
       "      <th>35</th>\n",
       "      <td>ABRAMAVICIUS,  ANNA A</td>\n",
       "      <td>SUPERINTENDENT OF SPECIAL TRAFFIC SERVICES</td>\n",
       "      <td>OEMC</td>\n",
       "      <td>F</td>\n",
       "      <td>Salary</td>\n",
       "      <td>NaN</td>\n",
       "      <td>65820.0</td>\n",
       "      <td>NaN</td>\n",
       "    </tr>\n",
       "    <tr>\n",
       "      <th>36</th>\n",
       "      <td>ABRAMS,  DANIELLE T</td>\n",
       "      <td>SANITATION LABORER</td>\n",
       "      <td>STREETS &amp; SAN</td>\n",
       "      <td>F</td>\n",
       "      <td>Hourly</td>\n",
       "      <td>40.0</td>\n",
       "      <td>NaN</td>\n",
       "      <td>36.21</td>\n",
       "    </tr>\n",
       "    <tr>\n",
       "      <th>37</th>\n",
       "      <td>ABRAMSKI,  JOHN E</td>\n",
       "      <td>AMBULANCE COMMANDER</td>\n",
       "      <td>FIRE</td>\n",
       "      <td>F</td>\n",
       "      <td>Salary</td>\n",
       "      <td>NaN</td>\n",
       "      <td>128970.0</td>\n",
       "      <td>NaN</td>\n",
       "    </tr>\n",
       "    <tr>\n",
       "      <th>38</th>\n",
       "      <td>ABRAMSON,  NICHOLAS</td>\n",
       "      <td>POLICE OFFICER</td>\n",
       "      <td>POLICE</td>\n",
       "      <td>F</td>\n",
       "      <td>Salary</td>\n",
       "      <td>NaN</td>\n",
       "      <td>68616.0</td>\n",
       "      <td>NaN</td>\n",
       "    </tr>\n",
       "    <tr>\n",
       "      <th>39</th>\n",
       "      <td>ABRAMS,  SAMUEL A</td>\n",
       "      <td>POOL MOTOR TRUCK DRIVER</td>\n",
       "      <td>STREETS &amp; SAN</td>\n",
       "      <td>F</td>\n",
       "      <td>Hourly</td>\n",
       "      <td>40.0</td>\n",
       "      <td>NaN</td>\n",
       "      <td>35.60</td>\n",
       "    </tr>\n",
       "    <tr>\n",
       "      <th>40</th>\n",
       "      <td>ABRAMS,  TIFFANY</td>\n",
       "      <td>OPERATING ENGINEER-GROUP C</td>\n",
       "      <td>WATER MGMNT</td>\n",
       "      <td>F</td>\n",
       "      <td>Hourly</td>\n",
       "      <td>40.0</td>\n",
       "      <td>NaN</td>\n",
       "      <td>45.07</td>\n",
       "    </tr>\n",
       "    <tr>\n",
       "      <th>41</th>\n",
       "      <td>ABRATANSKI,  MARK A</td>\n",
       "      <td>FIREFIGHTER-EMT</td>\n",
       "      <td>FIRE</td>\n",
       "      <td>F</td>\n",
       "      <td>Salary</td>\n",
       "      <td>NaN</td>\n",
       "      <td>89148.0</td>\n",
       "      <td>NaN</td>\n",
       "    </tr>\n",
       "    <tr>\n",
       "      <th>42</th>\n",
       "      <td>ABREU,  DILAN</td>\n",
       "      <td>SEWER BRICKLAYER</td>\n",
       "      <td>WATER MGMNT</td>\n",
       "      <td>F</td>\n",
       "      <td>Hourly</td>\n",
       "      <td>40.0</td>\n",
       "      <td>NaN</td>\n",
       "      <td>44.88</td>\n",
       "    </tr>\n",
       "    <tr>\n",
       "      <th>43</th>\n",
       "      <td>ABREU,  ROBERTO J</td>\n",
       "      <td>TRAFFIC SIGNAL REPAIRMAN</td>\n",
       "      <td>TRANSPORTN</td>\n",
       "      <td>F</td>\n",
       "      <td>Salary</td>\n",
       "      <td>NaN</td>\n",
       "      <td>101712.0</td>\n",
       "      <td>NaN</td>\n",
       "    </tr>\n",
       "    <tr>\n",
       "      <th>44</th>\n",
       "      <td>ABREU,  ROSITA</td>\n",
       "      <td>PERSONAL COMPUTER OPERATOR III</td>\n",
       "      <td>HEALTH</td>\n",
       "      <td>F</td>\n",
       "      <td>Salary</td>\n",
       "      <td>NaN</td>\n",
       "      <td>70092.0</td>\n",
       "      <td>NaN</td>\n",
       "    </tr>\n",
       "    <tr>\n",
       "      <th>45</th>\n",
       "      <td>ABREU,  VICTOR</td>\n",
       "      <td>FIREFIGHTER-EMT</td>\n",
       "      <td>FIRE</td>\n",
       "      <td>F</td>\n",
       "      <td>Salary</td>\n",
       "      <td>NaN</td>\n",
       "      <td>99324.0</td>\n",
       "      <td>NaN</td>\n",
       "    </tr>\n",
       "    <tr>\n",
       "      <th>46</th>\n",
       "      <td>ABRON,  FLOYD</td>\n",
       "      <td>POLICE OFFICER</td>\n",
       "      <td>POLICE</td>\n",
       "      <td>F</td>\n",
       "      <td>Salary</td>\n",
       "      <td>NaN</td>\n",
       "      <td>90024.0</td>\n",
       "      <td>NaN</td>\n",
       "    </tr>\n",
       "    <tr>\n",
       "      <th>47</th>\n",
       "      <td>ABRON,  KIMYENNA D</td>\n",
       "      <td>POLICE OFFICER</td>\n",
       "      <td>POLICE</td>\n",
       "      <td>F</td>\n",
       "      <td>Salary</td>\n",
       "      <td>NaN</td>\n",
       "      <td>48078.0</td>\n",
       "      <td>NaN</td>\n",
       "    </tr>\n",
       "    <tr>\n",
       "      <th>48</th>\n",
       "      <td>ABRONS,  KENNETH L</td>\n",
       "      <td>ELECTRICAL MECHANIC</td>\n",
       "      <td>AVIATION</td>\n",
       "      <td>F</td>\n",
       "      <td>Hourly</td>\n",
       "      <td>40.0</td>\n",
       "      <td>NaN</td>\n",
       "      <td>46.10</td>\n",
       "    </tr>\n",
       "    <tr>\n",
       "      <th>49</th>\n",
       "      <td>ABUBAKER,  MOHAMMED G</td>\n",
       "      <td>SENIOR ENVIRONMENTAL INSPECTOR</td>\n",
       "      <td>HEALTH</td>\n",
       "      <td>F</td>\n",
       "      <td>Salary</td>\n",
       "      <td>NaN</td>\n",
       "      <td>84420.0</td>\n",
       "      <td>NaN</td>\n",
       "    </tr>\n",
       "  </tbody>\n",
       "</table>\n",
       "</div>"
      ],
      "text/plain": [
       "                        Name                                     Job Titles  \\\n",
       "0          AARON,  JEFFERY M                                       SERGEANT   \n",
       "1            AARON,  KARINA          POLICE OFFICER (ASSIGNED AS DETECTIVE)   \n",
       "2        AARON,  KIMBERLEI R                       CHIEF CONTRACT EXPEDITER   \n",
       "3        ABAD JR,  VICENTE M                              CIVIL ENGINEER IV   \n",
       "4          ABASCAL,  REECE E                    TRAFFIC CONTROL AIDE-HOURLY   \n",
       "5      ABBASI,  CHRISTOPHER                      STAFF ASST TO THE ALDERMAN   \n",
       "6      ABBATACOLA,  ROBERT J                            ELECTRICAL MECHANIC   \n",
       "7         ABBATE,  JOSEPH L                         POOL MOTOR TRUCK DRIVER   \n",
       "8      ABBATEMARCO,  JAMES J                              FIRE ENGINEER-EMT   \n",
       "9           ABBATE,  TERRY M                                 POLICE OFFICER   \n",
       "10          ABBOTT,  BETTY L                             FOSTER GRANDPARENT   \n",
       "11          ABDALLAH,  ZAID                                  POLICE OFFICER   \n",
       "12    ABDELHADI,  ABDALMAHD                                  POLICE OFFICER   \n",
       "13       ABDELLATIF,  AREF R  FIREFIGHTER (PER ARBITRATORS AWARD)-PARAMEDIC   \n",
       "14       ABDELMAJEID,  AZIZ                                  POLICE OFFICER   \n",
       "15      ABDOLLAHZADEH,  ALI                           FIREFIGHTER/PARAMEDIC   \n",
       "16  ABDUL-KARIM,  MUHAMMAD A                      ENGINEERING TECHNICIAN VI   \n",
       "17       ABDULLAH,  DANIEL N                                FIREFIGHTER-EMT   \n",
       "18      ABDULLAH,  LAKENYA N                                 CROSSING GUARD   \n",
       "19        ABDULLAH,  RASHAD                ELECTRICAL MECHANIC (AUTOMOTIVE)   \n",
       "20     ABDULSATTAR,  MUDHAR                               CIVIL ENGINEER II   \n",
       "21     ABDUL-SHAKUR,  TAHIR                           GENERAL LABORER - DSS   \n",
       "22         ABEJERO,  JASON V                                 POLICE OFFICER   \n",
       "23   ABERCROMBIE IV,  EARL S                                  PARAMEDIC I/C   \n",
       "24    ABERCROMBIE,  TIMOTHY                              MOTOR TRUCK DRIVER   \n",
       "25        ABFALL,  RICHARD C                                 POLICE OFFICER   \n",
       "26        ABIOYE,  ADEWOLE A                     LIBRARY ASSOCIATE - HOURLY   \n",
       "27          ABNEY,  PATRICK                                  POLICE OFFICER   \n",
       "28         ABOUASSI,  CHADI                                  POLICE OFFICER   \n",
       "29    ABOUELKHEIR,  HASSAN A                      SENIOR PROGRAMMER/ANALYST   \n",
       "30        ABRAHAM,  GIRLEY T                              CIVIL ENGINEER IV   \n",
       "31         ABRAHAM,  KELVIN                        ENGINEERING TECHNICIAN V   \n",
       "32         ABRAHAM,  NANCY A                                 POLICE OFFICER   \n",
       "33    ABRAHAMSON,  MICHAEL C               STUDENT INTERN - MAYOR'S FELLOWS   \n",
       "34         ABRAM,  ANTHONY A                                 POLICE OFFICER   \n",
       "35     ABRAMAVICIUS,  ANNA A     SUPERINTENDENT OF SPECIAL TRAFFIC SERVICES   \n",
       "36       ABRAMS,  DANIELLE T                             SANITATION LABORER   \n",
       "37         ABRAMSKI,  JOHN E                            AMBULANCE COMMANDER   \n",
       "38      ABRAMSON,  NICHOLAS                                  POLICE OFFICER   \n",
       "39         ABRAMS,  SAMUEL A                        POOL MOTOR TRUCK DRIVER   \n",
       "40         ABRAMS,  TIFFANY                      OPERATING ENGINEER-GROUP C   \n",
       "41       ABRATANSKI,  MARK A                                FIREFIGHTER-EMT   \n",
       "42            ABREU,  DILAN                                SEWER BRICKLAYER   \n",
       "43         ABREU,  ROBERTO J                       TRAFFIC SIGNAL REPAIRMAN   \n",
       "44           ABREU,  ROSITA                  PERSONAL COMPUTER OPERATOR III   \n",
       "45           ABREU,  VICTOR                                 FIREFIGHTER-EMT   \n",
       "46            ABRON,  FLOYD                                  POLICE OFFICER   \n",
       "47        ABRON,  KIMYENNA D                                 POLICE OFFICER   \n",
       "48        ABRONS,  KENNETH L                            ELECTRICAL MECHANIC   \n",
       "49     ABUBAKER,  MOHAMMED G                 SENIOR ENVIRONMENTAL INSPECTOR   \n",
       "\n",
       "          Department Full or Part-Time Salary or Hourly  Typical Hours  \\\n",
       "0             POLICE                 F           Salary            NaN   \n",
       "1             POLICE                 F           Salary            NaN   \n",
       "2   GENERAL SERVICES                 F           Salary            NaN   \n",
       "3        WATER MGMNT                 F           Salary            NaN   \n",
       "4               OEMC                 P           Hourly           20.0   \n",
       "5       CITY COUNCIL                 F           Salary            NaN   \n",
       "6           AVIATION                 F           Hourly           40.0   \n",
       "7      STREETS & SAN                 F           Hourly           40.0   \n",
       "8               FIRE                 F           Salary            NaN   \n",
       "9             POLICE                 F           Salary            NaN   \n",
       "10  FAMILY & SUPPORT                 P           Hourly           20.0   \n",
       "11            POLICE                 F           Salary            NaN   \n",
       "12            POLICE                 F           Salary            NaN   \n",
       "13              FIRE                 F           Salary            NaN   \n",
       "14            POLICE                 F           Salary            NaN   \n",
       "15              FIRE                 F           Salary            NaN   \n",
       "16       WATER MGMNT                 F           Salary            NaN   \n",
       "17              FIRE                 F           Salary            NaN   \n",
       "18              OEMC                 P           Hourly           20.0   \n",
       "19  GENERAL SERVICES                 F           Hourly           40.0   \n",
       "20       WATER MGMNT                 F           Salary            NaN   \n",
       "21     STREETS & SAN                 F           Hourly           40.0   \n",
       "22            POLICE                 F           Salary            NaN   \n",
       "23              FIRE                 F           Salary            NaN   \n",
       "24     STREETS & SAN                 F           Hourly           40.0   \n",
       "25            POLICE                 F           Salary            NaN   \n",
       "26    PUBLIC LIBRARY                 P           Hourly           20.0   \n",
       "27            POLICE                 F           Salary            NaN   \n",
       "28            POLICE                 F           Salary            NaN   \n",
       "29  FAMILY & SUPPORT                 F           Salary            NaN   \n",
       "30       WATER MGMNT                 F           Salary            NaN   \n",
       "31        TRANSPORTN                 F           Salary            NaN   \n",
       "32            POLICE                 F           Salary            NaN   \n",
       "33    MAYOR'S OFFICE                 F           Hourly           35.0   \n",
       "34            POLICE                 F           Salary            NaN   \n",
       "35              OEMC                 F           Salary            NaN   \n",
       "36     STREETS & SAN                 F           Hourly           40.0   \n",
       "37              FIRE                 F           Salary            NaN   \n",
       "38            POLICE                 F           Salary            NaN   \n",
       "39     STREETS & SAN                 F           Hourly           40.0   \n",
       "40       WATER MGMNT                 F           Hourly           40.0   \n",
       "41              FIRE                 F           Salary            NaN   \n",
       "42       WATER MGMNT                 F           Hourly           40.0   \n",
       "43        TRANSPORTN                 F           Salary            NaN   \n",
       "44            HEALTH                 F           Salary            NaN   \n",
       "45              FIRE                 F           Salary            NaN   \n",
       "46            POLICE                 F           Salary            NaN   \n",
       "47            POLICE                 F           Salary            NaN   \n",
       "48          AVIATION                 F           Hourly           40.0   \n",
       "49            HEALTH                 F           Salary            NaN   \n",
       "\n",
       "    Annual Salary  Hourly Rate  \n",
       "0        101442.0          NaN  \n",
       "1         94122.0          NaN  \n",
       "2        101592.0          NaN  \n",
       "3        110064.0          NaN  \n",
       "4             NaN        19.86  \n",
       "5         50436.0          NaN  \n",
       "6             NaN        46.10  \n",
       "7             NaN        35.60  \n",
       "8        103350.0          NaN  \n",
       "9         93354.0          NaN  \n",
       "10            NaN         2.65  \n",
       "11        84054.0          NaN  \n",
       "12        87006.0          NaN  \n",
       "13       102228.0          NaN  \n",
       "14        84054.0          NaN  \n",
       "15        91272.0          NaN  \n",
       "16       111492.0          NaN  \n",
       "17        95484.0          NaN  \n",
       "18            NaN        17.68  \n",
       "19            NaN        46.10  \n",
       "20        65448.0          NaN  \n",
       "21            NaN        21.43  \n",
       "22        90024.0          NaN  \n",
       "23        82614.0          NaN  \n",
       "24            NaN        35.60  \n",
       "25        48078.0          NaN  \n",
       "26            NaN        25.10  \n",
       "27        76266.0          NaN  \n",
       "28        48078.0          NaN  \n",
       "29       110064.0          NaN  \n",
       "30       110064.0          NaN  \n",
       "31        55644.0          NaN  \n",
       "32        80016.0          NaN  \n",
       "33            NaN        20.00  \n",
       "34        72510.0          NaN  \n",
       "35        65820.0          NaN  \n",
       "36            NaN        36.21  \n",
       "37       128970.0          NaN  \n",
       "38        68616.0          NaN  \n",
       "39            NaN        35.60  \n",
       "40            NaN        45.07  \n",
       "41        89148.0          NaN  \n",
       "42            NaN        44.88  \n",
       "43       101712.0          NaN  \n",
       "44        70092.0          NaN  \n",
       "45        99324.0          NaN  \n",
       "46        90024.0          NaN  \n",
       "47        48078.0          NaN  \n",
       "48            NaN        46.10  \n",
       "49        84420.0          NaN  "
      ]
     },
     "execution_count": 67,
     "metadata": {},
     "output_type": "execute_result"
    }
   ],
   "source": [
    "# Your code here:\n",
    "\n",
    "salaries.head(50)"
   ]
  },
  {
   "cell_type": "code",
   "execution_count": 68,
   "metadata": {},
   "outputs": [
    {
     "name": "stdout",
     "output_type": "stream",
     "text": [
      "<class 'pandas.core.frame.DataFrame'>\n",
      "RangeIndex: 33183 entries, 0 to 33182\n",
      "Data columns (total 8 columns):\n",
      " #   Column             Non-Null Count  Dtype  \n",
      "---  ------             --------------  -----  \n",
      " 0   Name               33183 non-null  object \n",
      " 1   Job Titles         33183 non-null  object \n",
      " 2   Department         33183 non-null  object \n",
      " 3   Full or Part-Time  33183 non-null  object \n",
      " 4   Salary or Hourly   33183 non-null  object \n",
      " 5   Typical Hours      8022 non-null   float64\n",
      " 6   Annual Salary      25161 non-null  float64\n",
      " 7   Hourly Rate        8022 non-null   float64\n",
      "dtypes: float64(3), object(5)\n",
      "memory usage: 2.0+ MB\n"
     ]
    }
   ],
   "source": [
    "salaries.info()"
   ]
  },
  {
   "cell_type": "markdown",
   "metadata": {},
   "source": [
    "We see from looking at the `head` function that there is quite a bit of missing data. Let's examine how much missing data is in each column. Produce this output in the cell below"
   ]
  },
  {
   "cell_type": "code",
   "execution_count": 69,
   "metadata": {},
   "outputs": [
    {
     "data": {
      "text/plain": [
       "Name                     0\n",
       "Job Titles               0\n",
       "Department               0\n",
       "Full or Part-Time        0\n",
       "Salary or Hourly         0\n",
       "Typical Hours        25161\n",
       "Annual Salary         8022\n",
       "Hourly Rate          25161\n",
       "dtype: int64"
      ]
     },
     "execution_count": 69,
     "metadata": {},
     "output_type": "execute_result"
    }
   ],
   "source": [
    "# Your code here:\n",
    "salaries.isna().sum()"
   ]
  },
  {
   "cell_type": "markdown",
   "metadata": {},
   "source": [
    "Let's also look at the count of hourly vs. salaried employees. Write the code in the cell below"
   ]
  },
  {
   "cell_type": "code",
   "execution_count": 70,
   "metadata": {},
   "outputs": [
    {
     "data": {
      "text/plain": [
       "Salary    25161\n",
       "Hourly     8022\n",
       "Name: Salary or Hourly, dtype: int64"
      ]
     },
     "execution_count": 70,
     "metadata": {},
     "output_type": "execute_result"
    }
   ],
   "source": [
    "# Your code here:\n",
    "salaries['Salary or Hourly'].value_counts()"
   ]
  },
  {
   "cell_type": "markdown",
   "metadata": {},
   "source": [
    "What this information indicates is that the table contains information about two types of employees - salaried and hourly. Some columns apply only to one type of employee while other columns only apply to another kind. This is why there are so many missing values. Therefore, we will not do anything to handle the missing values."
   ]
  },
  {
   "cell_type": "markdown",
   "metadata": {},
   "source": [
    "There are different departments in the city. List all departments and the count of employees in each department."
   ]
  },
  {
   "cell_type": "code",
   "execution_count": 71,
   "metadata": {},
   "outputs": [
    {
     "data": {
      "text/plain": [
       "Department\n",
       "ADMIN HEARNG           39\n",
       "ANIMAL CONTRL          81\n",
       "AVIATION             1629\n",
       "BOARD OF ELECTION     107\n",
       "BOARD OF ETHICS         8\n",
       "Name: Name, dtype: int64"
      ]
     },
     "execution_count": 71,
     "metadata": {},
     "output_type": "execute_result"
    }
   ],
   "source": [
    "# Your code here:\n",
    "departments = salaries.groupby('Department')['Name'].count()\n",
    "departments.head()\n"
   ]
  },
  {
   "cell_type": "markdown",
   "metadata": {},
   "source": [
    "# Challenge 2 - Hypothesis Tests\n",
    "\n",
    "In this section of the lab, we will test whether the hourly wage of all hourly workers is significantly different from $30/hr. Import the correct one sample test function from scipy and perform the hypothesis test for a 95% two sided confidence interval."
   ]
  },
  {
   "cell_type": "code",
   "execution_count": 117,
   "metadata": {},
   "outputs": [],
   "source": [
    "# Your code here:\n",
    "from scipy.stats import ttest_1samp\n",
    "from scipy.stats import t\n",
    "n=8022\n",
    "h0=30\n",
    "h1=!30\n",
    "a = 0.05\n",
    "sampData = salaries[salaries['Hourly Rate'].notnull()]['Hourly Rate']\n",
    "\n",
    "test, pval = ttest_1samp(sampData,30)"
   ]
  },
  {
   "cell_type": "code",
   "execution_count": 118,
   "metadata": {},
   "outputs": [
    {
     "name": "stdout",
     "output_type": "stream",
     "text": [
      "The Null Hypotesis is rejected\n"
     ]
    }
   ],
   "source": [
    "if pval < (a/2):\n",
    "    print ('The Null Hypotesis is rejected')\n",
    "else:\n",
    "    print ('The Null Hypotesis is accepted')"
   ]
  },
  {
   "cell_type": "markdown",
   "metadata": {},
   "source": [
    "We are also curious about salaries in the police force. The chief of police in Chicago claimed in a press briefing that salaries this year are higher than last year's mean of $86000/year a year for all salaried employees. Test this one sided hypothesis using a 95% confidence interval.\n",
    "\n",
    "Hint: A one tailed test has a p-value that is half of the two tailed p-value. If our hypothesis is greater than, then to reject, the test statistic must also be positive."
   ]
  },
  {
   "cell_type": "code",
   "execution_count": 121,
   "metadata": {},
   "outputs": [],
   "source": [
    "# Your code here:\n",
    "a = 0.05\n",
    "sampData = salaries[(salaries['Annual Salary'].notnull())& (salaries['Department'] == 'POLICE')]['Annual Salary']\n",
    "\n",
    "test, pval = ttest_1samp(sampData,86000)"
   ]
  },
  {
   "cell_type": "code",
   "execution_count": 122,
   "metadata": {},
   "outputs": [
    {
     "name": "stdout",
     "output_type": "stream",
     "text": [
      "The Null Hypotesis is rejected\n"
     ]
    }
   ],
   "source": [
    "if pval < (a/2):\n",
    "    print ('The Null Hypotesis is rejected')\n",
    "else:\n",
    "    print ('The Null Hypotesis is accepted')"
   ]
  },
  {
   "cell_type": "markdown",
   "metadata": {},
   "source": [
    "Using the `crosstab` function, find the department that has the most hourly workers. "
   ]
  },
  {
   "cell_type": "code",
   "execution_count": 92,
   "metadata": {},
   "outputs": [
    {
     "data": {
      "text/plain": [
       "'STREETS & SAN'"
      ]
     },
     "execution_count": 92,
     "metadata": {},
     "output_type": "execute_result"
    }
   ],
   "source": [
    "# Your code here:\n",
    "#The idxmax() function is used to get the row label of the maximum value. Crosstab convertem in indexes\n",
    "cross = pd.crosstab(salaries['Department'],salaries['Salary or Hourly'])['Hourly'].idxmax()\n",
    "cross"
   ]
  },
  {
   "cell_type": "markdown",
   "metadata": {},
   "source": [
    "The workers from the department with the most hourly workers have complained that their hourly wage is less than $35/hour. Using a one sample t-test, test this one-sided hypothesis at the 95% confidence level."
   ]
  },
  {
   "cell_type": "code",
   "execution_count": 127,
   "metadata": {},
   "outputs": [],
   "source": [
    "# Your code here:\n",
    "a = 0.05\n",
    "#sampData = salaries[salaries['Department']== 'cross']['Hourly Rate']\n",
    "#test, pval = ttest_1samp(sampData,35)\n",
    "\n",
    "b = salaries[(salaries['Department'] == 'STREETS & SAN')& (salaries['Hourly Rate'].notnull())]['Hourly Rate']\n",
    "test, pval = ttest_1samp(b,35)\n"
   ]
  },
  {
   "cell_type": "code",
   "execution_count": 128,
   "metadata": {},
   "outputs": [
    {
     "name": "stdout",
     "output_type": "stream",
     "text": [
      "The Null Hypotesis is rejected\n"
     ]
    }
   ],
   "source": [
    "if pval < (a/2):\n",
    "    print ('The Null Hypotesis is rejected')\n",
    "else:\n",
    "    print ('The Null Hypotesis is accepted')"
   ]
  },
  {
   "cell_type": "markdown",
   "metadata": {},
   "source": [
    "# Challenge 3 - Constructing Confidence Intervals\n",
    "\n",
    "While testing our hypothesis is a great way to gather empirical evidence for accepting or rejecting the hypothesis, another way to gather evidence is by creating a confidence interval. A confidence interval gives us information about the true mean of the population. So for a 95% confidence interval, we are 95% sure that the mean of the population is within the confidence interval. \n",
    ").\n",
    "\n",
    "To read more about confidence intervals, click [here](https://en.wikipedia.org/wiki/Confidence_interval).\n",
    "\n",
    "\n",
    "In the cell below, we will construct a 95% confidence interval for the mean hourly wage of all hourly workers. \n",
    "\n",
    "The confidence interval is computed in SciPy using the `t.interval` function. You can read more about this function [here](https://docs.scipy.org/doc/scipy-0.14.0/reference/generated/scipy.stats.t.html).\n",
    "\n",
    "To compute the confidence interval of the hourly wage, use the 0.95 for the confidence level, number of rows - 1 for degrees of freedom, the mean of the sample for the location parameter and the standard error for the scale. The standard error can be computed using [this](https://docs.scipy.org/doc/scipy/reference/generated/scipy.stats.sem.html) function in SciPy."
   ]
  },
  {
   "cell_type": "code",
   "execution_count": 145,
   "metadata": {},
   "outputs": [],
   "source": [
    "# Your code here:\n",
    "from scipy.stats import t, sem\n",
    "sar = salaries[salaries['Hourly Rate'].notnull()]['Hourly Rate']"
   ]
  },
  {
   "cell_type": "code",
   "execution_count": 147,
   "metadata": {},
   "outputs": [
    {
     "data": {
      "text/plain": [
       "(32.52345862860401, 33.05365737139599)"
      ]
     },
     "execution_count": 147,
     "metadata": {},
     "output_type": "execute_result"
    }
   ],
   "source": [
    "meanh = 32.788558\n",
    "n = 8022\n",
    "dof=(n-1)\n",
    "stderr=sem(sar)\n",
    "t.interval(.95,dof,meanh,stderr)"
   ]
  },
  {
   "cell_type": "code",
   "execution_count": 140,
   "metadata": {},
   "outputs": [
    {
     "data": {
      "text/plain": [
       "8022"
      ]
     },
     "execution_count": 140,
     "metadata": {},
     "output_type": "execute_result"
    }
   ],
   "source": [
    "sal= salaries[salaries['Salary or Hourly'] == 'Hourly']\n",
    "sal['Department'].count()"
   ]
  },
  {
   "cell_type": "markdown",
   "metadata": {},
   "source": [
    "Now construct the 95% confidence interval for all salaried employeed in the police in the cell below."
   ]
  },
  {
   "cell_type": "code",
   "execution_count": 175,
   "metadata": {},
   "outputs": [
    {
     "data": {
      "text/plain": [
       "0        101442.0\n",
       "1         94122.0\n",
       "9         93354.0\n",
       "11        84054.0\n",
       "12        87006.0\n",
       "           ...   \n",
       "33177     72510.0\n",
       "33178     72510.0\n",
       "33179     48078.0\n",
       "33180     90024.0\n",
       "33181     93354.0\n",
       "Name: Annual Salary, Length: 13404, dtype: float64"
      ]
     },
     "execution_count": 175,
     "metadata": {},
     "output_type": "execute_result"
    }
   ],
   "source": [
    "# Your code here:\n",
    "sar2 = salaries[(salaries['Annual Salary'].notnull()) & (salaries['Department'] == 'POLICE')]\n",
    "salary_sar2 = sar2['Annual Salary']\n",
    "salary_sar2\n",
    "#sar2.mean()\n",
    "#sar2.count()"
   ]
  },
  {
   "cell_type": "code",
   "execution_count": 177,
   "metadata": {},
   "outputs": [
    {
     "name": "stdout",
     "output_type": "stream",
     "text": [
      "The Null Hypotesis is rejected\n"
     ]
    }
   ],
   "source": [
    "meanh_s= 86486.414503\n",
    "n = 25161\n",
    "dof1=13403\n",
    "stderr=sem(salary_sar2)\n",
    "t.interval(.95,dof1,meanh_s,stderr)\n",
    "#'The Null Hypotesis is rejected'"
   ]
  },
  {
   "cell_type": "code",
   "execution_count": null,
   "metadata": {},
   "outputs": [],
   "source": [
    "\n",
    "    print ('The Null Hypotesis is rejected')\n"
   ]
  },
  {
   "cell_type": "markdown",
   "metadata": {},
   "source": [
    "# Challenge 4 - Hypothesis Tests of Proportions\n",
    "\n",
    "Another type of one sample test is a hypothesis test of proportions. In this test, we examine whether the proportion of a group in our sample is significantly different than a fraction. \n",
    "\n",
    "You can read more about one sample proportion tests [here](http://sphweb.bumc.bu.edu/otlt/MPH-Modules/BS/SAS/SAS6-CategoricalData/SAS6-CategoricalData2.html).\n",
    "\n",
    "In the cell below, use the `proportions_ztest` function from `statsmodels` to perform a hypothesis test that will determine whether the number of hourly workers in the City of Chicago is significantly different from 25% at the 95% confidence level."
   ]
  },
  {
   "cell_type": "code",
   "execution_count": 183,
   "metadata": {},
   "outputs": [],
   "source": [
    "# Your code here:\n",
    "from statsmodels.stats.proportion import proportions_ztest"
   ]
  },
  {
   "cell_type": "code",
   "execution_count": 186,
   "metadata": {},
   "outputs": [],
   "source": [
    "hourly_workers = salaries[salaries['Salary or Hourly']=='Horly'].shape[0]"
   ]
  },
  {
   "cell_type": "code",
   "execution_count": 189,
   "metadata": {},
   "outputs": [],
   "source": [
    "stat, pval = proportions_ztest(hourly_workers, salaries.shape[0], 0.25)\n"
   ]
  },
  {
   "cell_type": "code",
   "execution_count": 192,
   "metadata": {},
   "outputs": [
    {
     "name": "stdout",
     "output_type": "stream",
     "text": [
      "The Null Hypotesis is rejected\n"
     ]
    }
   ],
   "source": [
    "if pval < (a/2):\n",
    "    print ('The Null Hypotesis is rejected')\n",
    "else:\n",
    "    print ('The Null Hypotesis is accepted')"
   ]
  },
  {
   "cell_type": "code",
   "execution_count": null,
   "metadata": {},
   "outputs": [],
   "source": [
    "#Ho: P <0.05 : Ho True si hay correlación De 4 trabajadores 1 es por hora. Hipotesis nula, no hay correlacion"
   ]
  },
  {
   "cell_type": "code",
   "execution_count": null,
   "metadata": {},
   "outputs": [],
   "source": []
  }
 ],
 "metadata": {
  "kernelspec": {
   "display_name": "Python 3",
   "language": "python",
   "name": "python3"
  },
  "language_info": {
   "codemirror_mode": {
    "name": "ipython",
    "version": 3
   },
   "file_extension": ".py",
   "mimetype": "text/x-python",
   "name": "python",
   "nbconvert_exporter": "python",
   "pygments_lexer": "ipython3",
   "version": "3.7.7"
  }
 },
 "nbformat": 4,
 "nbformat_minor": 2
}
